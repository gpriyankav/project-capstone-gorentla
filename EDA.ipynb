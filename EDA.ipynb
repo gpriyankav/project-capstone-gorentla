{
 "cells": [
  {
   "cell_type": "code",
   "execution_count": 2,
   "id": "189255e8",
   "metadata": {},
   "outputs": [],
   "source": [
    "import pandas as pd\n",
    "import numpy as np"
   ]
  },
  {
   "cell_type": "code",
   "execution_count": 3,
   "id": "ea972cab",
   "metadata": {},
   "outputs": [],
   "source": [
    "from pandas.plotting import scatter_matrix\n",
    "import matplotlib.pyplot as plt\n",
    "import seaborn as sns"
   ]
  },
  {
   "cell_type": "code",
   "execution_count": 4,
   "id": "4fa29fc1",
   "metadata": {},
   "outputs": [],
   "source": [
    "from sklearn.linear_model import LogisticRegression"
   ]
  },
  {
   "cell_type": "code",
   "execution_count": 5,
   "id": "f5dcc0ee",
   "metadata": {},
   "outputs": [],
   "source": [
    "from sklearn.model_selection import KFold\n",
    "from sklearn.model_selection import cross_val_score\n",
    "from sklearn.metrics import classification_report"
   ]
  },
  {
   "cell_type": "code",
   "execution_count": 6,
   "id": "d5aec20a",
   "metadata": {},
   "outputs": [],
   "source": [
    "# Specify location of the dataset\n",
    "\n",
    "filename = r\"C:\\Users\\KONGA\\Documents\\project-capstone-gorentla\\D202.csv\"\n",
    "\n",
    "# Load the data into a Pandas DataFrame\n",
    "\n",
    "df = pd.read_csv(filename)"
   ]
  },
  {
   "cell_type": "markdown",
   "id": "5383ecb1",
   "metadata": {},
   "source": [
    "Now We look at the DATA:"
   ]
  },
  {
   "cell_type": "code",
   "execution_count": 7,
   "id": "5e2184ad",
   "metadata": {},
   "outputs": [
    {
     "data": {
      "text/html": [
       "<div>\n",
       "<style scoped>\n",
       "    .dataframe tbody tr th:only-of-type {\n",
       "        vertical-align: middle;\n",
       "    }\n",
       "\n",
       "    .dataframe tbody tr th {\n",
       "        vertical-align: top;\n",
       "    }\n",
       "\n",
       "    .dataframe thead th {\n",
       "        text-align: right;\n",
       "    }\n",
       "</style>\n",
       "<table border=\"1\" class=\"dataframe\">\n",
       "  <thead>\n",
       "    <tr style=\"text-align: right;\">\n",
       "      <th></th>\n",
       "      <th>TYPE</th>\n",
       "      <th>DATE</th>\n",
       "      <th>START TIME</th>\n",
       "      <th>END TIME</th>\n",
       "      <th>USAGE</th>\n",
       "      <th>UNITS</th>\n",
       "      <th>COST</th>\n",
       "      <th>NOTES</th>\n",
       "    </tr>\n",
       "  </thead>\n",
       "  <tbody>\n",
       "    <tr>\n",
       "      <th>0</th>\n",
       "      <td>Electric usage</td>\n",
       "      <td>10/22/2016</td>\n",
       "      <td>0:00</td>\n",
       "      <td>0:14</td>\n",
       "      <td>0.01</td>\n",
       "      <td>kWh</td>\n",
       "      <td>$0.00</td>\n",
       "      <td>NaN</td>\n",
       "    </tr>\n",
       "    <tr>\n",
       "      <th>1</th>\n",
       "      <td>Electric usage</td>\n",
       "      <td>10/22/2016</td>\n",
       "      <td>0:15</td>\n",
       "      <td>0:29</td>\n",
       "      <td>0.01</td>\n",
       "      <td>kWh</td>\n",
       "      <td>$0.00</td>\n",
       "      <td>NaN</td>\n",
       "    </tr>\n",
       "    <tr>\n",
       "      <th>2</th>\n",
       "      <td>Electric usage</td>\n",
       "      <td>10/22/2016</td>\n",
       "      <td>0:30</td>\n",
       "      <td>0:44</td>\n",
       "      <td>0.01</td>\n",
       "      <td>kWh</td>\n",
       "      <td>$0.00</td>\n",
       "      <td>NaN</td>\n",
       "    </tr>\n",
       "    <tr>\n",
       "      <th>3</th>\n",
       "      <td>Electric usage</td>\n",
       "      <td>10/22/2016</td>\n",
       "      <td>0:45</td>\n",
       "      <td>0:59</td>\n",
       "      <td>0.01</td>\n",
       "      <td>kWh</td>\n",
       "      <td>$0.00</td>\n",
       "      <td>NaN</td>\n",
       "    </tr>\n",
       "    <tr>\n",
       "      <th>4</th>\n",
       "      <td>Electric usage</td>\n",
       "      <td>10/22/2016</td>\n",
       "      <td>1:00</td>\n",
       "      <td>1:14</td>\n",
       "      <td>0.01</td>\n",
       "      <td>kWh</td>\n",
       "      <td>$0.00</td>\n",
       "      <td>NaN</td>\n",
       "    </tr>\n",
       "  </tbody>\n",
       "</table>\n",
       "</div>"
      ],
      "text/plain": [
       "             TYPE        DATE START TIME END TIME  USAGE UNITS    COST  NOTES\n",
       "0  Electric usage  10/22/2016       0:00     0:14   0.01   kWh  $0.00     NaN\n",
       "1  Electric usage  10/22/2016       0:15     0:29   0.01   kWh  $0.00     NaN\n",
       "2  Electric usage  10/22/2016       0:30     0:44   0.01   kWh  $0.00     NaN\n",
       "3  Electric usage  10/22/2016       0:45     0:59   0.01   kWh  $0.00     NaN\n",
       "4  Electric usage  10/22/2016       1:00     1:14   0.01   kWh  $0.00     NaN"
      ]
     },
     "execution_count": 7,
     "metadata": {},
     "output_type": "execute_result"
    }
   ],
   "source": [
    "df.head()"
   ]
  },
  {
   "cell_type": "markdown",
   "id": "cfb0cd95",
   "metadata": {},
   "source": [
    "Now PreProcess the Dataset: To Clean and Fix the Missing Values"
   ]
  },
  {
   "cell_type": "code",
   "execution_count": 8,
   "id": "849bed34",
   "metadata": {},
   "outputs": [
    {
     "name": "stdout",
     "output_type": "stream",
     "text": [
      "             TYPE       DATE  USAGE NOTES\n",
      "0  Electric usage 2016-10-22   0.01      \n",
      "1  Electric usage 2016-10-22   0.01      \n",
      "2  Electric usage 2016-10-22   0.01      \n",
      "3  Electric usage 2016-10-22   0.01      \n",
      "4  Electric usage 2016-10-22   0.01      \n"
     ]
    }
   ],
   "source": [
    "# Create a DataFrame from your dataset\n",
    "data = {\n",
    "    'TYPE': [\"Electric usage\"] * 5,\n",
    "    'DATE': [\"10/22/2016\"] * 5,\n",
    "    'START TIME': [\"0:00\", \"0:15\", \"0:30\", \"0:45\", \"1:00\"],\n",
    "    'END TIME': [\"0:14\", \"0:29\", \"0:44\", \"0:59\", \"1:14\"],\n",
    "    'USAGE': [0.01, 0.01, 0.01, 0.01, 0.01],\n",
    "    'UNITS': [\"kWh\"] * 5,\n",
    "    'COST': [\"$0.00\"] * 5,\n",
    "    'NOTES': [None] * 5\n",
    "}\n",
    "\n",
    "df = pd.DataFrame(data)\n",
    "\n",
    "# Clean the dataset by converting date columns to datetime objects and dropping unnecessary columns\n",
    "df['DATE'] = pd.to_datetime(df['DATE'])\n",
    "df.drop(['START TIME', 'END TIME', 'UNITS', 'COST'], axis=1, inplace=True)\n",
    "\n",
    "# Replace missing values in the 'NOTES' column with an empty string\n",
    "df['NOTES'].fillna(\"\", inplace=True)\n",
    "\n",
    "# Your cleaned DataFrame is now ready\n",
    "print(df)\n"
   ]
  },
  {
   "cell_type": "markdown",
   "id": "376e6cbf",
   "metadata": {},
   "source": [
    "Now we Performing the Exploratory Data Analysis:"
   ]
  },
  {
   "cell_type": "code",
   "execution_count": 9,
   "id": "bf027c39",
   "metadata": {},
   "outputs": [
    {
     "name": "stdout",
     "output_type": "stream",
     "text": [
      "Shape of the dataset(rows, columns): (5, 4)\n"
     ]
    }
   ],
   "source": [
    "# get the dimensions or shape of the dataset\n",
    "# i.e. number of records / rows X number of variables / columns\n",
    "\n",
    "print(\"Shape of the dataset(rows, columns):\",df.shape)"
   ]
  },
  {
   "cell_type": "code",
   "execution_count": 10,
   "id": "0aa211ed",
   "metadata": {},
   "outputs": [
    {
     "name": "stdout",
     "output_type": "stream",
     "text": [
      "TYPE             object\n",
      "DATE     datetime64[ns]\n",
      "USAGE           float64\n",
      "NOTES            object\n",
      "dtype: object\n"
     ]
    }
   ],
   "source": [
    "#get the data types of all the variables / attributes in the data set\n",
    "\n",
    "print(df.dtypes)"
   ]
  },
  {
   "cell_type": "code",
   "execution_count": 11,
   "id": "dcc16f26",
   "metadata": {},
   "outputs": [
    {
     "name": "stdout",
     "output_type": "stream",
     "text": [
      "       USAGE\n",
      "count   5.00\n",
      "mean    0.01\n",
      "std     0.00\n",
      "min     0.01\n",
      "25%     0.01\n",
      "50%     0.01\n",
      "75%     0.01\n",
      "max     0.01\n"
     ]
    }
   ],
   "source": [
    "print(df.describe())"
   ]
  },
  {
   "cell_type": "code",
   "execution_count": 12,
   "id": "b2decf68",
   "metadata": {},
   "outputs": [
    {
     "name": "stdout",
     "output_type": "stream",
     "text": [
      "Electric usage    5\n",
      "Name: TYPE, dtype: int64\n"
     ]
    }
   ],
   "source": [
    "class_distribution = df['TYPE'].value_counts()\n",
    "print(class_distribution)\n"
   ]
  },
  {
   "cell_type": "markdown",
   "id": "129d1db8",
   "metadata": {},
   "source": [
    "Now we Creating a Histogram:"
   ]
  },
  {
   "cell_type": "code",
   "execution_count": 13,
   "id": "4bd26eb0",
   "metadata": {},
   "outputs": [
    {
     "data": {
      "image/png": "[encoded data removed]",
      "text/plain": [
       "<Figure size 640x480 with 1 Axes>"
      ]
     },
     "metadata": {},
     "output_type": "display_data"
    }
   ],
   "source": [
    "# Select all numerical columns\n",
    "numerical_columns = ['USAGE']  # Add more numerical columns here if needed\n",
    "\n",
    "plt.hist(df['USAGE'], bins=10, edgecolor='k')\n",
    "plt.title('Histogram of USAGE')\n",
    "plt.xlabel('USAGE')\n",
    "plt.ylabel('Frequency')\n",
    "plt.grid(axis='y', alpha=0.75)\n",
    "plt.show()"
   ]
  },
  {
   "cell_type": "markdown",
   "id": "b1fa2751",
   "metadata": {},
   "source": [
    "Now We creating a pair plots:"
   ]
  },
  {
   "cell_type": "code",
   "execution_count": 14,
   "id": "95548053",
   "metadata": {},
   "outputs": [
    {
     "name": "stderr",
     "output_type": "stream",
     "text": [
      "c:\\Users\\KONGA\\anaconda3\\lib\\site-packages\\seaborn\\axisgrid.py:1507: UserWarning: Ignoring `palette` because no `hue` variable has been assigned.\n",
      "  func(x=vector, **plot_kwargs)\n",
      "c:\\Users\\KONGA\\anaconda3\\lib\\site-packages\\seaborn\\axisgrid.py:118: UserWarning: The figure layout has changed to tight\n",
      "  self._figure.tight_layout(*args, **kwargs)\n"
     ]
    },
    {
     "data": {
      "image/png": "[encoded data removed]",
      "text/plain": [
       "<Figure size 250x250 with 2 Axes>"
      ]
     },
     "metadata": {},
     "output_type": "display_data"
    }
   ],
   "source": [
    "import seaborn as sns\n",
    "import matplotlib.pyplot as plt\n",
    "\n",
    "# Load the dataset\n",
    "data = {\n",
    "    'TYPE': [\"Electric usage\"] * 5,\n",
    "    'DATE': [\"10/22/2016\"] * 5,\n",
    "    'START TIME': [\"0:00\", \"0:15\", \"0:30\", \"0:45\", \"1:00\"],\n",
    "    'END TIME': [\"0:14\", \"0:29\", \"0:44\", \"0:59\", \"1:14\"],\n",
    "    'USAGE': [0.01, 0.02, 0.03, 0.04, 0.05],  # Adjusted for demonstration\n",
    "    'UNITS': [\"kWh\"] * 5,\n",
    "    'COST': [\"$0.00\"] * 5,\n",
    "    'NOTES': [None] * 5\n",
    "}\n",
    "\n",
    "df = pd.DataFrame(data)\n",
    "\n",
    "# Clean the dataset as needed\n",
    "\n",
    "# Select the numerical columns for the pair plot\n",
    "numerical_columns = ['USAGE']\n",
    "\n",
    "# Create a custom color palette\n",
    "custom_palette = sns.color_palette(\"Set2\")  # You can choose a different palette\n",
    "\n",
    "# Create a pair plot with color\n",
    "sns.set(style=\"ticks\")\n",
    "pairplot = sns.pairplot(df, vars=numerical_columns, diag_kind='kde', palette=custom_palette)\n",
    "\n",
    "# You can add more customization to the pair plot here, if needed\n",
    "\n",
    "# Show the plot\n",
    "plt.show()\n"
   ]
  },
  {
   "cell_type": "markdown",
   "id": "ac319c08",
   "metadata": {},
   "source": [
    "Now We creating a Violin Plot:"
   ]
  },
  {
   "cell_type": "code",
   "execution_count": 15,
   "id": "6bb7d58b",
   "metadata": {},
   "outputs": [
    {
     "data": {
      "image/png": "[encoded data removed]",
      "text/plain": [
       "<Figure size 800x600 with 1 Axes>"
      ]
     },
     "metadata": {},
     "output_type": "display_data"
    }
   ],
   "source": [
    "import seaborn as sns\n",
    "import matplotlib.pyplot as plt\n",
    "\n",
    "# Load the dataset\n",
    "data = {\n",
    "    'TYPE': [\"Electric usage\"] * 5,\n",
    "    'DATE': [\"10/22/2016\"] * 5,\n",
    "    'START TIME': [\"0:00\", \"0:15\", \"0:30\", \"0:45\", \"1:00\"],\n",
    "    'END TIME': [\"0:14\", \"0:29\", \"0:44\", \"0:59\", \"1:14\"],\n",
    "    'USAGE': [0.01, 0.02, 0.03, 0.04, 0.05],  # Adjusted for demonstration\n",
    "    'UNITS': [\"kWh\"] * 5,\n",
    "    'COST': [\"$0.00\"] * 5,\n",
    "    'NOTES': [None] * 5\n",
    "}\n",
    "\n",
    "df = pd.DataFrame(data)\n",
    "\n",
    "# Clean the dataset as needed\n",
    "\n",
    "# Create a violin plot for 'USAGE'\n",
    "plt.figure(figsize=(8, 6))\n",
    "sns.violinplot(x='USAGE', data=df, color='lightblue')\n",
    "plt.title('Violin Plot of USAGE')\n",
    "plt.xlabel('USAGE')\n",
    "plt.grid(axis='y', alpha=0.75)\n",
    "plt.show()\n"
   ]
  },
  {
   "cell_type": "markdown",
   "id": "b92f7a9a",
   "metadata": {},
   "source": [
    "Now We Separate the Dataset into Input & Output NumPy Arrays:"
   ]
  },
  {
   "cell_type": "code",
   "execution_count": 16,
   "id": "7a29b6b4",
   "metadata": {},
   "outputs": [],
   "source": [
    "# Separate the dataset into input (X) and output (y) NumPy arrays\n",
    "X = df[['DATE']]  # Adjust the feature(s) you want to use as input\n",
    "y = df['USAGE']  # Adjust the target variable you want to predict\n",
    "\n",
    "# Convert to NumPy arrays\n",
    "X = X.to_numpy()\n",
    "y = y.to_numpy()\n"
   ]
  },
  {
   "cell_type": "markdown",
   "id": "62702a67",
   "metadata": {},
   "source": [
    "Now We Spilt into Input/Output Array into Training/Testing Datasets:"
   ]
  },
  {
   "cell_type": "code",
   "execution_count": 23,
   "id": "1be1e6e0",
   "metadata": {},
   "outputs": [],
   "source": [
    "# Import the train_test_split function\n",
    "from sklearn.model_selection import train_test_split\n",
    "# Ensure 'DATE' is in the correct format\n",
    "df['DATE'] = pd.to_datetime(df['DATE'])\n",
    "\n",
    "# Calculate the number of days since the minimum date\n",
    "df['DATE'] = (df['DATE'] - df['DATE'].min()).dt.days\n",
    "# Separate the dataset into input (X) and output (y) NumPy arrays\n",
    "X = df[['DATE']]  # Adjust the feature(s) you want to use as input\n",
    "y = df['USAGE']  # Adjust the target variable you want to predict\n",
    "\n",
    "# Split the data into training and testing sets (adjust the test_size as needed)\n",
    "X_train, X_test, y_train, y_test = train_test_split(X, y, test_size=0.3, random_state=42)\n"
   ]
  },
  {
   "cell_type": "markdown",
   "id": "ad6ccdc4",
   "metadata": {},
   "source": [
    "Now Build and Train the Model:"
   ]
  },
  {
   "cell_type": "code",
   "execution_count": 24,
   "id": "92193d11",
   "metadata": {},
   "outputs": [
    {
     "name": "stdout",
     "output_type": "stream",
     "text": [
      "Mean Squared Error: 0.0002944444444444445\n",
      "R-squared (R2) Score: -0.308641975308642\n"
     ]
    }
   ],
   "source": [
    "from sklearn.linear_model import LinearRegression\n",
    "from sklearn.metrics import mean_squared_error, r2_score\n",
    "# Create a Linear Regression model\n",
    "model = LinearRegression()\n",
    "\n",
    "# Train the model\n",
    "model.fit(X_train, y_train)\n",
    "\n",
    "# Make predictions on the testing data\n",
    "y_pred = model.predict(X_test)\n",
    "# Calculate Mean Squared Error (MSE)\n",
    "mse = mean_squared_error(y_test, y_pred)\n",
    "print(f\"Mean Squared Error: {mse}\")\n",
    "\n",
    "# Calculate R-squared (R2) Score\n",
    "r2 = r2_score(y_test, y_pred)\n",
    "print(f\"R-squared (R2) Score: {r2}\")"
   ]
  },
  {
   "cell_type": "markdown",
   "id": "89a44503",
   "metadata": {},
   "source": [
    "Classify/Prediction the values for given Dataset:"
   ]
  },
  {
   "cell_type": "code",
   "execution_count": 25,
   "id": "242a235d",
   "metadata": {},
   "outputs": [
    {
     "name": "stdout",
     "output_type": "stream",
     "text": [
      "Predicted Values:\n",
      "[0.02666667 0.02666667 0.02666667]\n"
     ]
    }
   ],
   "source": [
    "new_data = pd.DataFrame({'DATE': [\"10/23/2016\", \"10/24/2016\", \"10/25/2016\"]})\n",
    "\n",
    "# Convert the 'DATE' column to the number of days since a reference date (as shown in previous examples)\n",
    "new_data['DATE'] = (pd.to_datetime(new_data['DATE']) - pd.to_datetime(df['DATE']).min()).dt.days\n",
    "\n",
    "# Use the trained model to make predictions\n",
    "predicted_values = model.predict(new_data[['DATE']])\n",
    "\n",
    "# Print the predicted values\n",
    "print(\"Predicted Values:\")\n",
    "print(predicted_values)"
   ]
  },
  {
   "cell_type": "code",
   "execution_count": 26,
   "id": "b466169a",
   "metadata": {},
   "outputs": [
    {
     "name": "stdout",
     "output_type": "stream",
     "text": [
      "MSE Scores for Each Fold:\n",
      "Fold 1: 0.0006\n",
      "Fold 2: 0.0002\n",
      "Fold 3: 0.0000\n",
      "Fold 4: 0.0002\n",
      "Fold 5: 0.0006\n",
      "Mean MSE: 0.0003\n",
      "Standard Deviation of MSE: 0.0003\n",
      "Accuracy: 0.600\n"
     ]
    }
   ],
   "source": [
    "from sklearn.metrics import accuracy_score\n",
    "# Perform 5-fold cross-validation (or any other number smaller than 5)\n",
    "num_folds = 5\n",
    "scores = cross_val_score(model, X, y, cv=num_folds, scoring='neg_mean_squared_error')\n",
    "\n",
    "# Calculate the Mean Squared Error (MSE) scores\n",
    "mse_scores = -scores  # Take the negative to get positive MSE values\n",
    "\n",
    "# Print the MSE scores for each fold\n",
    "print(\"MSE Scores for Each Fold:\")\n",
    "for i, mse in enumerate(mse_scores, 1):\n",
    "    print(f\"Fold {i}: {mse:.4f}\")\n",
    "\n",
    "# Calculate and print the mean and standard deviation of MSE scores\n",
    "mean_mse = mse_scores.mean()\n",
    "std_mse = mse_scores.std()\n",
    "print(f\"Mean MSE: {mean_mse:.4f}\")\n",
    "print(f\"Standard Deviation of MSE: {std_mse:.4f}\")\n",
    "\n",
    "y_true = [1, 0, 1, 1, 0]  # True labels\n",
    "y_pred = [1, 1, 0, 1, 0]  # Predicted labels\n",
    "\n",
    "# Calculate the accuracy score\n",
    "accuracy = accuracy_score(y_true, y_pred)\n",
    "\n",
    "# Print the accuracy score\n",
    "print(f\"Accuracy: {accuracy:.3f}\")\n"
   ]
  }
 ],
 "metadata": {
  "kernelspec": {
   "display_name": "Python 3 (ipykernel)",
   "language": "python",
   "name": "python3"
  },
  "language_info": {
   "codemirror_mode": {
    "name": "ipython",
    "version": 3
   },
   "file_extension": ".py",
   "mimetype": "text/x-python",
   "name": "python",
   "nbconvert_exporter": "python",
   "pygments_lexer": "ipython3",
   "version": "3.9.13"
  }
 },
 "nbformat": 4,
 "nbformat_minor": 5
}
