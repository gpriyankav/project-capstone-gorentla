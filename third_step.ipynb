{
 "cells": [
  {
   "cell_type": "code",
   "execution_count": 6,
   "id": "152c97b7",
   "metadata": {},
   "outputs": [],
   "source": [
    "#Final_Project_11613968\n",
    "import pandas as pd\n",
    "import numpy as np\n",
    "%matplotlib inline\n",
    "import matplotlib.pyplot as plt"
   ]
  },
  {
   "cell_type": "code",
   "execution_count": 7,
   "id": "8ba80701",
   "metadata": {},
   "outputs": [],
   "source": [
    "# For timeseries RNN LSTM neural networks\n",
    "from tensorflow.keras.models import Sequential\n",
    "from tensorflow.keras.layers import LSTM\n",
    "from tensorflow.keras.layers import Dropout\n",
    "from tensorflow.keras.layers import Dense"
   ]
  },
  {
   "cell_type": "code",
   "execution_count": 8,
   "id": "7904c16b",
   "metadata": {},
   "outputs": [],
   "source": [
    "from tensorflow.keras.preprocessing.sequence import TimeseriesGenerator\n",
    "from sklearn.preprocessing import MinMaxScaler"
   ]
  },
  {
   "cell_type": "code",
   "execution_count": 9,
   "id": "6e2e6cdf",
   "metadata": {},
   "outputs": [],
   "source": [
    "df_ALL=pd.read_csv('D202.csv')"
   ]
  },
  {
   "cell_type": "code",
   "execution_count": 10,
   "id": "683307fb",
   "metadata": {},
   "outputs": [
    {
     "data": {
      "text/html": [
       "<div>\n",
       "<style scoped>\n",
       "    .dataframe tbody tr th:only-of-type {\n",
       "        vertical-align: middle;\n",
       "    }\n",
       "\n",
       "    .dataframe tbody tr th {\n",
       "        vertical-align: top;\n",
       "    }\n",
       "\n",
       "    .dataframe thead th {\n",
       "        text-align: right;\n",
       "    }\n",
       "</style>\n",
       "<table border=\"1\" class=\"dataframe\">\n",
       "  <thead>\n",
       "    <tr style=\"text-align: right;\">\n",
       "      <th></th>\n",
       "      <th>TYPE</th>\n",
       "      <th>DATE</th>\n",
       "      <th>START TIME</th>\n",
       "      <th>END TIME</th>\n",
       "      <th>USAGE</th>\n",
       "      <th>UNITS</th>\n",
       "      <th>COST</th>\n",
       "      <th>NOTES</th>\n",
       "    </tr>\n",
       "  </thead>\n",
       "  <tbody>\n",
       "    <tr>\n",
       "      <th>0</th>\n",
       "      <td>Electric usage</td>\n",
       "      <td>10/22/2016</td>\n",
       "      <td>0:00</td>\n",
       "      <td>0:14</td>\n",
       "      <td>0.01</td>\n",
       "      <td>kWh</td>\n",
       "      <td>$0.00</td>\n",
       "      <td>NaN</td>\n",
       "    </tr>\n",
       "    <tr>\n",
       "      <th>1</th>\n",
       "      <td>Electric usage</td>\n",
       "      <td>10/22/2016</td>\n",
       "      <td>0:15</td>\n",
       "      <td>0:29</td>\n",
       "      <td>0.01</td>\n",
       "      <td>kWh</td>\n",
       "      <td>$0.00</td>\n",
       "      <td>NaN</td>\n",
       "    </tr>\n",
       "    <tr>\n",
       "      <th>2</th>\n",
       "      <td>Electric usage</td>\n",
       "      <td>10/22/2016</td>\n",
       "      <td>0:30</td>\n",
       "      <td>0:44</td>\n",
       "      <td>0.01</td>\n",
       "      <td>kWh</td>\n",
       "      <td>$0.00</td>\n",
       "      <td>NaN</td>\n",
       "    </tr>\n",
       "    <tr>\n",
       "      <th>3</th>\n",
       "      <td>Electric usage</td>\n",
       "      <td>10/22/2016</td>\n",
       "      <td>0:45</td>\n",
       "      <td>0:59</td>\n",
       "      <td>0.01</td>\n",
       "      <td>kWh</td>\n",
       "      <td>$0.00</td>\n",
       "      <td>NaN</td>\n",
       "    </tr>\n",
       "    <tr>\n",
       "      <th>4</th>\n",
       "      <td>Electric usage</td>\n",
       "      <td>10/22/2016</td>\n",
       "      <td>1:00</td>\n",
       "      <td>1:14</td>\n",
       "      <td>0.01</td>\n",
       "      <td>kWh</td>\n",
       "      <td>$0.00</td>\n",
       "      <td>NaN</td>\n",
       "    </tr>\n",
       "  </tbody>\n",
       "</table>\n",
       "</div>"
      ],
      "text/plain": [
       "             TYPE        DATE START TIME END TIME  USAGE UNITS    COST  NOTES\n",
       "0  Electric usage  10/22/2016       0:00     0:14   0.01   kWh  $0.00     NaN\n",
       "1  Electric usage  10/22/2016       0:15     0:29   0.01   kWh  $0.00     NaN\n",
       "2  Electric usage  10/22/2016       0:30     0:44   0.01   kWh  $0.00     NaN\n",
       "3  Electric usage  10/22/2016       0:45     0:59   0.01   kWh  $0.00     NaN\n",
       "4  Electric usage  10/22/2016       1:00     1:14   0.01   kWh  $0.00     NaN"
      ]
     },
     "execution_count": 10,
     "metadata": {},
     "output_type": "execute_result"
    }
   ],
   "source": [
    "df_ALL.head()"
   ]
  },
  {
   "cell_type": "code",
   "execution_count": 11,
   "id": "f974f855",
   "metadata": {},
   "outputs": [
    {
     "data": {
      "text/plain": [
       "(70368, 8)"
      ]
     },
     "execution_count": 11,
     "metadata": {},
     "output_type": "execute_result"
    }
   ],
   "source": [
    "df_ALL.shape"
   ]
  },
  {
   "cell_type": "code",
   "execution_count": 12,
   "id": "109d9522",
   "metadata": {},
   "outputs": [
    {
     "data": {
      "text/plain": [
       "TYPE           object\n",
       "DATE           object\n",
       "START TIME     object\n",
       "END TIME       object\n",
       "USAGE         float64\n",
       "UNITS          object\n",
       "COST           object\n",
       "NOTES         float64\n",
       "dtype: object"
      ]
     },
     "execution_count": 12,
     "metadata": {},
     "output_type": "execute_result"
    }
   ],
   "source": [
    "df_ALL.dtypes"
   ]
  },
  {
   "cell_type": "code",
   "execution_count": 13,
   "id": "a8deae80",
   "metadata": {},
   "outputs": [
    {
     "data": {
      "text/html": [
       "<div>\n",
       "<style scoped>\n",
       "    .dataframe tbody tr th:only-of-type {\n",
       "        vertical-align: middle;\n",
       "    }\n",
       "\n",
       "    .dataframe tbody tr th {\n",
       "        vertical-align: top;\n",
       "    }\n",
       "\n",
       "    .dataframe thead th {\n",
       "        text-align: right;\n",
       "    }\n",
       "</style>\n",
       "<table border=\"1\" class=\"dataframe\">\n",
       "  <thead>\n",
       "    <tr style=\"text-align: right;\">\n",
       "      <th></th>\n",
       "      <th>USAGE</th>\n",
       "      <th>NOTES</th>\n",
       "    </tr>\n",
       "  </thead>\n",
       "  <tbody>\n",
       "    <tr>\n",
       "      <th>count</th>\n",
       "      <td>70368.000000</td>\n",
       "      <td>0.0</td>\n",
       "    </tr>\n",
       "    <tr>\n",
       "      <th>mean</th>\n",
       "      <td>0.121941</td>\n",
       "      <td>NaN</td>\n",
       "    </tr>\n",
       "    <tr>\n",
       "      <th>std</th>\n",
       "      <td>0.210507</td>\n",
       "      <td>NaN</td>\n",
       "    </tr>\n",
       "    <tr>\n",
       "      <th>min</th>\n",
       "      <td>0.000000</td>\n",
       "      <td>NaN</td>\n",
       "    </tr>\n",
       "    <tr>\n",
       "      <th>25%</th>\n",
       "      <td>0.030000</td>\n",
       "      <td>NaN</td>\n",
       "    </tr>\n",
       "    <tr>\n",
       "      <th>50%</th>\n",
       "      <td>0.050000</td>\n",
       "      <td>NaN</td>\n",
       "    </tr>\n",
       "    <tr>\n",
       "      <th>75%</th>\n",
       "      <td>0.120000</td>\n",
       "      <td>NaN</td>\n",
       "    </tr>\n",
       "    <tr>\n",
       "      <th>max</th>\n",
       "      <td>2.360000</td>\n",
       "      <td>NaN</td>\n",
       "    </tr>\n",
       "  </tbody>\n",
       "</table>\n",
       "</div>"
      ],
      "text/plain": [
       "              USAGE  NOTES\n",
       "count  70368.000000    0.0\n",
       "mean       0.121941    NaN\n",
       "std        0.210507    NaN\n",
       "min        0.000000    NaN\n",
       "25%        0.030000    NaN\n",
       "50%        0.050000    NaN\n",
       "75%        0.120000    NaN\n",
       "max        2.360000    NaN"
      ]
     },
     "execution_count": 13,
     "metadata": {},
     "output_type": "execute_result"
    }
   ],
   "source": [
    "# Statistics Sumary\n",
    "df_ALL.describe()"
   ]
  },
  {
   "cell_type": "code",
   "execution_count": 14,
   "id": "944c94d6",
   "metadata": {},
   "outputs": [],
   "source": [
    "df = df_ALL.iloc[:,4:5]"
   ]
  },
  {
   "cell_type": "code",
   "execution_count": 15,
   "id": "e3584385",
   "metadata": {},
   "outputs": [
    {
     "data": {
      "text/html": [
       "<div>\n",
       "<style scoped>\n",
       "    .dataframe tbody tr th:only-of-type {\n",
       "        vertical-align: middle;\n",
       "    }\n",
       "\n",
       "    .dataframe tbody tr th {\n",
       "        vertical-align: top;\n",
       "    }\n",
       "\n",
       "    .dataframe thead th {\n",
       "        text-align: right;\n",
       "    }\n",
       "</style>\n",
       "<table border=\"1\" class=\"dataframe\">\n",
       "  <thead>\n",
       "    <tr style=\"text-align: right;\">\n",
       "      <th></th>\n",
       "      <th>USAGE</th>\n",
       "    </tr>\n",
       "  </thead>\n",
       "  <tbody>\n",
       "    <tr>\n",
       "      <th>0</th>\n",
       "      <td>0.01</td>\n",
       "    </tr>\n",
       "    <tr>\n",
       "      <th>1</th>\n",
       "      <td>0.01</td>\n",
       "    </tr>\n",
       "    <tr>\n",
       "      <th>2</th>\n",
       "      <td>0.01</td>\n",
       "    </tr>\n",
       "    <tr>\n",
       "      <th>3</th>\n",
       "      <td>0.01</td>\n",
       "    </tr>\n",
       "    <tr>\n",
       "      <th>4</th>\n",
       "      <td>0.01</td>\n",
       "    </tr>\n",
       "  </tbody>\n",
       "</table>\n",
       "</div>"
      ],
      "text/plain": [
       "   USAGE\n",
       "0   0.01\n",
       "1   0.01\n",
       "2   0.01\n",
       "3   0.01\n",
       "4   0.01"
      ]
     },
     "execution_count": 15,
     "metadata": {},
     "output_type": "execute_result"
    }
   ],
   "source": [
    "df.head()"
   ]
  },
  {
   "cell_type": "code",
   "execution_count": 16,
   "id": "4a059614",
   "metadata": {},
   "outputs": [
    {
     "data": {
      "text/plain": [
       "<Axes: >"
      ]
     },
     "execution_count": 16,
     "metadata": {},
     "output_type": "execute_result"
    },
    {
     "data": {
      "image/png": "[encoded data removed]",
      "text/plain": [
       "<Figure size 1200x800 with 1 Axes>"
      ]
     },
     "metadata": {},
     "output_type": "display_data"
    }
   ],
   "source": [
    "df.plot(figsize=(12, 8))"
   ]
  },
  {
   "cell_type": "code",
   "execution_count": 17,
   "id": "c1c8bdb5",
   "metadata": {},
   "outputs": [],
   "source": [
    "length60 = 60"
   ]
  },
  {
   "cell_type": "code",
   "execution_count": 18,
   "id": "367e2374",
   "metadata": {},
   "outputs": [
    {
     "data": {
      "text/plain": [
       "60"
      ]
     },
     "execution_count": 18,
     "metadata": {},
     "output_type": "execute_result"
    }
   ],
   "source": [
    "length60"
   ]
  },
  {
   "cell_type": "code",
   "execution_count": 19,
   "id": "5291cbc6",
   "metadata": {},
   "outputs": [
    {
     "data": {
      "text/plain": [
       "70368"
      ]
     },
     "execution_count": 19,
     "metadata": {},
     "output_type": "execute_result"
    }
   ],
   "source": [
    "len(df)"
   ]
  },
  {
   "cell_type": "code",
   "execution_count": 20,
   "id": "0d526dd1",
   "metadata": {},
   "outputs": [],
   "source": [
    "test_precent = 0.1"
   ]
  },
  {
   "cell_type": "code",
   "execution_count": 21,
   "id": "113321cb",
   "metadata": {},
   "outputs": [
    {
     "data": {
      "text/plain": [
       "7036.8"
      ]
     },
     "execution_count": 21,
     "metadata": {},
     "output_type": "execute_result"
    }
   ],
   "source": [
    "len(df)*test_precent"
   ]
  },
  {
   "cell_type": "code",
   "execution_count": 22,
   "id": "602838b9",
   "metadata": {},
   "outputs": [
    {
     "data": {
      "text/plain": [
       "7037.0"
      ]
     },
     "execution_count": 22,
     "metadata": {},
     "output_type": "execute_result"
    }
   ],
   "source": [
    "test_length = np.round(len(df)*test_precent)\n",
    "test_length"
   ]
  },
  {
   "cell_type": "code",
   "execution_count": 23,
   "id": "2fa03e0b",
   "metadata": {},
   "outputs": [
    {
     "data": {
      "text/plain": [
       "63331"
      ]
     },
     "execution_count": 23,
     "metadata": {},
     "output_type": "execute_result"
    }
   ],
   "source": [
    "split_index = int(len(df) - test_length)\n",
    "split_index"
   ]
  },
  {
   "cell_type": "code",
   "execution_count": 24,
   "id": "306ead93",
   "metadata": {},
   "outputs": [],
   "source": [
    "data_train = df.iloc[: split_index]\n",
    "data_test = df.iloc[split_index - length60 :]"
   ]
  },
  {
   "cell_type": "code",
   "execution_count": 25,
   "id": "da3c4b9e",
   "metadata": {},
   "outputs": [
    {
     "data": {
      "text/html": [
       "<div>\n",
       "<style scoped>\n",
       "    .dataframe tbody tr th:only-of-type {\n",
       "        vertical-align: middle;\n",
       "    }\n",
       "\n",
       "    .dataframe tbody tr th {\n",
       "        vertical-align: top;\n",
       "    }\n",
       "\n",
       "    .dataframe thead th {\n",
       "        text-align: right;\n",
       "    }\n",
       "</style>\n",
       "<table border=\"1\" class=\"dataframe\">\n",
       "  <thead>\n",
       "    <tr style=\"text-align: right;\">\n",
       "      <th></th>\n",
       "      <th>USAGE</th>\n",
       "    </tr>\n",
       "  </thead>\n",
       "  <tbody>\n",
       "    <tr>\n",
       "      <th>0</th>\n",
       "      <td>0.01</td>\n",
       "    </tr>\n",
       "    <tr>\n",
       "      <th>1</th>\n",
       "      <td>0.01</td>\n",
       "    </tr>\n",
       "    <tr>\n",
       "      <th>2</th>\n",
       "      <td>0.01</td>\n",
       "    </tr>\n",
       "    <tr>\n",
       "      <th>3</th>\n",
       "      <td>0.01</td>\n",
       "    </tr>\n",
       "    <tr>\n",
       "      <th>4</th>\n",
       "      <td>0.01</td>\n",
       "    </tr>\n",
       "  </tbody>\n",
       "</table>\n",
       "</div>"
      ],
      "text/plain": [
       "   USAGE\n",
       "0   0.01\n",
       "1   0.01\n",
       "2   0.01\n",
       "3   0.01\n",
       "4   0.01"
      ]
     },
     "execution_count": 25,
     "metadata": {},
     "output_type": "execute_result"
    }
   ],
   "source": [
    "data_train.head(5)"
   ]
  },
  {
   "cell_type": "code",
   "execution_count": 26,
   "id": "8477e076",
   "metadata": {},
   "outputs": [
    {
     "data": {
      "text/html": [
       "<div>\n",
       "<style scoped>\n",
       "    .dataframe tbody tr th:only-of-type {\n",
       "        vertical-align: middle;\n",
       "    }\n",
       "\n",
       "    .dataframe tbody tr th {\n",
       "        vertical-align: top;\n",
       "    }\n",
       "\n",
       "    .dataframe thead th {\n",
       "        text-align: right;\n",
       "    }\n",
       "</style>\n",
       "<table border=\"1\" class=\"dataframe\">\n",
       "  <thead>\n",
       "    <tr style=\"text-align: right;\">\n",
       "      <th></th>\n",
       "      <th>USAGE</th>\n",
       "    </tr>\n",
       "  </thead>\n",
       "  <tbody>\n",
       "    <tr>\n",
       "      <th>63326</th>\n",
       "      <td>0.16</td>\n",
       "    </tr>\n",
       "    <tr>\n",
       "      <th>63327</th>\n",
       "      <td>0.16</td>\n",
       "    </tr>\n",
       "    <tr>\n",
       "      <th>63328</th>\n",
       "      <td>0.09</td>\n",
       "    </tr>\n",
       "    <tr>\n",
       "      <th>63329</th>\n",
       "      <td>0.09</td>\n",
       "    </tr>\n",
       "    <tr>\n",
       "      <th>63330</th>\n",
       "      <td>0.09</td>\n",
       "    </tr>\n",
       "  </tbody>\n",
       "</table>\n",
       "</div>"
      ],
      "text/plain": [
       "       USAGE\n",
       "63326   0.16\n",
       "63327   0.16\n",
       "63328   0.09\n",
       "63329   0.09\n",
       "63330   0.09"
      ]
     },
     "execution_count": 26,
     "metadata": {},
     "output_type": "execute_result"
    }
   ],
   "source": [
    "data_train.tail()"
   ]
  },
  {
   "cell_type": "code",
   "execution_count": 27,
   "id": "e4ec153f",
   "metadata": {},
   "outputs": [
    {
     "data": {
      "text/html": [
       "<div>\n",
       "<style scoped>\n",
       "    .dataframe tbody tr th:only-of-type {\n",
       "        vertical-align: middle;\n",
       "    }\n",
       "\n",
       "    .dataframe tbody tr th {\n",
       "        vertical-align: top;\n",
       "    }\n",
       "\n",
       "    .dataframe thead th {\n",
       "        text-align: right;\n",
       "    }\n",
       "</style>\n",
       "<table border=\"1\" class=\"dataframe\">\n",
       "  <thead>\n",
       "    <tr style=\"text-align: right;\">\n",
       "      <th></th>\n",
       "      <th>USAGE</th>\n",
       "    </tr>\n",
       "  </thead>\n",
       "  <tbody>\n",
       "    <tr>\n",
       "      <th>63271</th>\n",
       "      <td>0.05</td>\n",
       "    </tr>\n",
       "    <tr>\n",
       "      <th>63272</th>\n",
       "      <td>0.05</td>\n",
       "    </tr>\n",
       "    <tr>\n",
       "      <th>63273</th>\n",
       "      <td>0.05</td>\n",
       "    </tr>\n",
       "    <tr>\n",
       "      <th>63274</th>\n",
       "      <td>0.05</td>\n",
       "    </tr>\n",
       "    <tr>\n",
       "      <th>63275</th>\n",
       "      <td>0.05</td>\n",
       "    </tr>\n",
       "  </tbody>\n",
       "</table>\n",
       "</div>"
      ],
      "text/plain": [
       "       USAGE\n",
       "63271   0.05\n",
       "63272   0.05\n",
       "63273   0.05\n",
       "63274   0.05\n",
       "63275   0.05"
      ]
     },
     "execution_count": 27,
     "metadata": {},
     "output_type": "execute_result"
    }
   ],
   "source": [
    "data_test.head(5)"
   ]
  },
  {
   "cell_type": "code",
   "execution_count": 28,
   "id": "25b5c0a0",
   "metadata": {},
   "outputs": [
    {
     "data": {
      "text/html": [
       "<div>\n",
       "<style scoped>\n",
       "    .dataframe tbody tr th:only-of-type {\n",
       "        vertical-align: middle;\n",
       "    }\n",
       "\n",
       "    .dataframe tbody tr th {\n",
       "        vertical-align: top;\n",
       "    }\n",
       "\n",
       "    .dataframe thead th {\n",
       "        text-align: right;\n",
       "    }\n",
       "</style>\n",
       "<table border=\"1\" class=\"dataframe\">\n",
       "  <thead>\n",
       "    <tr style=\"text-align: right;\">\n",
       "      <th></th>\n",
       "      <th>USAGE</th>\n",
       "    </tr>\n",
       "  </thead>\n",
       "  <tbody>\n",
       "    <tr>\n",
       "      <th>70363</th>\n",
       "      <td>0.02</td>\n",
       "    </tr>\n",
       "    <tr>\n",
       "      <th>70364</th>\n",
       "      <td>0.03</td>\n",
       "    </tr>\n",
       "    <tr>\n",
       "      <th>70365</th>\n",
       "      <td>0.03</td>\n",
       "    </tr>\n",
       "    <tr>\n",
       "      <th>70366</th>\n",
       "      <td>0.03</td>\n",
       "    </tr>\n",
       "    <tr>\n",
       "      <th>70367</th>\n",
       "      <td>0.03</td>\n",
       "    </tr>\n",
       "  </tbody>\n",
       "</table>\n",
       "</div>"
      ],
      "text/plain": [
       "       USAGE\n",
       "70363   0.02\n",
       "70364   0.03\n",
       "70365   0.03\n",
       "70366   0.03\n",
       "70367   0.03"
      ]
     },
     "execution_count": 28,
     "metadata": {},
     "output_type": "execute_result"
    }
   ],
   "source": [
    "data_test.tail()"
   ]
  },
  {
   "cell_type": "code",
   "execution_count": 29,
   "id": "dc9b1353",
   "metadata": {},
   "outputs": [],
   "source": [
    "scaler = MinMaxScaler()"
   ]
  },
  {
   "cell_type": "code",
   "execution_count": 30,
   "id": "f15498cc",
   "metadata": {},
   "outputs": [
    {
     "data": {
      "text/plain": [
       "MinMaxScaler()"
      ]
     },
     "execution_count": 30,
     "metadata": {},
     "output_type": "execute_result"
    }
   ],
   "source": [
    "scaler.fit(data_train)"
   ]
  },
  {
   "cell_type": "code",
   "execution_count": 31,
   "id": "6eca2044",
   "metadata": {},
   "outputs": [],
   "source": [
    "normalized_train = scaler.transform(data_train)\n",
    "normalized_test = scaler.transform(data_test)"
   ]
  },
  {
   "cell_type": "code",
   "execution_count": 32,
   "id": "c4ae70b9",
   "metadata": {},
   "outputs": [],
   "source": [
    "batch_size32 = 32\n",
    "train_tsGenerator60 = TimeseriesGenerator(normalized_train, normalized_train, length=length60, batch_size=batch_size32)"
   ]
  },
  {
   "cell_type": "code",
   "execution_count": 33,
   "id": "008cd634",
   "metadata": {},
   "outputs": [
    {
     "data": {
      "text/plain": [
       "63331"
      ]
     },
     "execution_count": 33,
     "metadata": {},
     "output_type": "execute_result"
    }
   ],
   "source": [
    "len(normalized_train)"
   ]
  },
  {
   "cell_type": "code",
   "execution_count": 34,
   "id": "12c13cc5",
   "metadata": {},
   "outputs": [
    {
     "data": {
      "text/plain": [
       "1978"
      ]
     },
     "execution_count": 34,
     "metadata": {},
     "output_type": "execute_result"
    }
   ],
   "source": [
    "len(train_tsGenerator60)"
   ]
  },
  {
   "cell_type": "code",
   "execution_count": 35,
   "id": "32884748",
   "metadata": {},
   "outputs": [],
   "source": [
    "x,y = train_tsGenerator60[0]"
   ]
  },
  {
   "cell_type": "code",
   "execution_count": 36,
   "id": "4b3fdafc",
   "metadata": {},
   "outputs": [],
   "source": [
    "# print(x)"
   ]
  },
  {
   "cell_type": "code",
   "execution_count": 37,
   "id": "356f7c0a",
   "metadata": {},
   "outputs": [],
   "source": [
    "# print(y)"
   ]
  },
  {
   "cell_type": "code",
   "execution_count": 38,
   "id": "8e89efad",
   "metadata": {},
   "outputs": [],
   "source": [
    "n_features = 1"
   ]
  },
  {
   "cell_type": "code",
   "execution_count": 39,
   "id": "72fbcd75",
   "metadata": {},
   "outputs": [],
   "source": [
    "model = Sequential()\n",
    "model.add(LSTM(50, activation='relu', return_sequences=True, input_shape=(length60, n_features)))\n",
    "model.add(Dropout(0.2))\n",
    "model.add(LSTM(units=50, activation='relu', return_sequences=True))\n",
    "model.add(Dropout(0.2))\n",
    "model.add(LSTM(units=50, activation='relu'))\n",
    "model.add(Dense(1))"
   ]
  },
  {
   "cell_type": "code",
   "execution_count": 40,
   "id": "c54cd858",
   "metadata": {},
   "outputs": [
    {
     "name": "stdout",
     "output_type": "stream",
     "text": [
      "Model: \"sequential\"\n",
      "_________________________________________________________________\n",
      " Layer (type)                Output Shape              Param #   \n",
      "=================================================================\n",
      " lstm (LSTM)                 (None, 60, 50)            10400     \n",
      "                                                                 \n",
      " dropout (Dropout)           (None, 60, 50)            0         \n",
      "                                                                 \n",
      " lstm_1 (LSTM)               (None, 60, 50)            20200     \n",
      "                                                                 \n",
      " dropout_1 (Dropout)         (None, 60, 50)            0         \n",
      "                                                                 \n",
      " lstm_2 (LSTM)               (None, 50)                20200     \n",
      "                                                                 \n",
      " dense (Dense)               (None, 1)                 51        \n",
      "                                                                 \n",
      "=================================================================\n",
      "Total params: 50851 (198.64 KB)\n",
      "Trainable params: 50851 (198.64 KB)\n",
      "Non-trainable params: 0 (0.00 Byte)\n",
      "_________________________________________________________________\n"
     ]
    }
   ],
   "source": [
    "model.compile(optimizer='adam', loss='mse')\n",
    "model.summary()"
   ]
  },
  {
   "cell_type": "markdown",
   "id": "67b9ce54",
   "metadata": {},
   "source": [
    "Train (Fit) Model Using fit_generator()"
   ]
  },
  {
   "cell_type": "code",
   "execution_count": 42,
   "id": "6f3799b6",
   "metadata": {},
   "outputs": [
    {
     "name": "stdout",
     "output_type": "stream",
     "text": [
      "Epoch 1/3\n",
      "   1/1978 [..............................] - ETA: 2:34 - loss: 4.2495e-04"
     ]
    },
    {
     "name": "stderr",
     "output_type": "stream",
     "text": [
      "C:\\Users\\KONGA\\AppData\\Local\\Temp\\ipykernel_16840\\3984196635.py:1: UserWarning: `Model.fit_generator` is deprecated and will be removed in a future version. Please use `Model.fit`, which supports generators.\n",
      "  model.fit_generator(train_tsGenerator60, epochs=3)\n"
     ]
    },
    {
     "name": "stdout",
     "output_type": "stream",
     "text": [
      "1978/1978 [==============================] - 83s 42ms/step - loss: 0.0023\n",
      "Epoch 2/3\n",
      "1978/1978 [==============================] - 84s 43ms/step - loss: 0.0022\n",
      "Epoch 3/3\n",
      "1978/1978 [==============================] - 84s 42ms/step - loss: 0.0020\n"
     ]
    },
    {
     "data": {
      "text/plain": [
       "<keras.src.callbacks.History at 0x14bd3883700>"
      ]
     },
     "execution_count": 42,
     "metadata": {},
     "output_type": "execute_result"
    }
   ],
   "source": [
    "model.fit_generator(train_tsGenerator60, epochs=100)"
   ]
  },
  {
   "cell_type": "markdown",
   "id": "3e506e36",
   "metadata": {},
   "source": [
    "### Visualize Model's Performance after Training"
   ]
  },
  {
   "cell_type": "code",
   "execution_count": 43,
   "id": "e0f91dce",
   "metadata": {},
   "outputs": [
    {
     "data": {
      "text/plain": [
       "dict_keys(['loss'])"
      ]
     },
     "execution_count": 43,
     "metadata": {},
     "output_type": "execute_result"
    }
   ],
   "source": [
    "loss_history_keys = model.history.history.keys()\n",
    "loss_history_keys"
   ]
  },
  {
   "cell_type": "code",
   "execution_count": 44,
   "id": "76d23a6e",
   "metadata": {},
   "outputs": [
    {
     "data": {
      "text/plain": [
       "<Axes: >"
      ]
     },
     "execution_count": 44,
     "metadata": {},
     "output_type": "execute_result"
    },
    {
     "data": {
      "image/png": "[encoded data removed]",
      "text/plain": [
       "<Figure size 640x480 with 1 Axes>"
      ]
     },
     "metadata": {},
     "output_type": "display_data"
    }
   ],
   "source": [
    "df_model_loss = pd.DataFrame(model.history.history)\n",
    "df_model_loss.plot()"
   ]
  },
  {
   "cell_type": "code",
   "execution_count": 45,
   "id": "1b2c3db0",
   "metadata": {},
   "outputs": [],
   "source": [
    "batch_size1 = 1\n",
    "test_tsGenerator60 = TimeseriesGenerator(normalized_test, normalized_test, length=length60, batch_size=batch_size1)"
   ]
  },
  {
   "cell_type": "code",
   "execution_count": 46,
   "id": "9d55c5e8",
   "metadata": {},
   "outputs": [
    {
     "name": "stderr",
     "output_type": "stream",
     "text": [
      "C:\\Users\\KONGA\\AppData\\Local\\Temp\\ipykernel_16840\\880395577.py:1: UserWarning: `Model.predict_generator` is deprecated and will be removed in a future version. Please use `Model.predict`, which supports generators.\n",
      "  normalized_prediction = model.predict_generator (test_tsGenerator60)\n"
     ]
    }
   ],
   "source": [
    "normalized_prediction = model.predict_generator (test_tsGenerator60) "
   ]
  },
  {
   "cell_type": "code",
   "execution_count": 47,
   "id": "4a0f9a93",
   "metadata": {},
   "outputs": [
    {
     "data": {
      "text/plain": [
       "array([[0.02767591],\n",
       "       [0.03083866],\n",
       "       [0.02144145],\n",
       "       ...,\n",
       "       [0.01177924],\n",
       "       [0.0123075 ],\n",
       "       [0.01240895]], dtype=float32)"
      ]
     },
     "execution_count": 47,
     "metadata": {},
     "output_type": "execute_result"
    }
   ],
   "source": [
    "normalized_prediction"
   ]
  },
  {
   "cell_type": "code",
   "execution_count": null,
   "id": "d5c15db4",
   "metadata": {},
   "outputs": [
    {
     "data": {
      "text/plain": [
       "138"
      ]
     },
     "execution_count": 42,
     "metadata": {},
     "output_type": "execute_result"
    }
   ],
   "source": [
    "len(normalized_prediction)"
   ]
  },
  {
   "cell_type": "code",
   "execution_count": 48,
   "id": "3b8daba0",
   "metadata": {},
   "outputs": [],
   "source": [
    "# convert normalized predictions back to the true values\n",
    "prediction = scaler.inverse_transform(normalized_prediction)"
   ]
  },
  {
   "cell_type": "code",
   "execution_count": 51,
   "id": "ed85a0d9",
   "metadata": {},
   "outputs": [
    {
     "ename": "ValueError",
     "evalue": "Shape of passed values is (7037, 1), indices imply (1, 1)",
     "output_type": "error",
     "traceback": [
      "\u001b[1;31m---------------------------------------------------------------------------\u001b[0m",
      "\u001b[1;31mValueError\u001b[0m                                Traceback (most recent call last)",
      "\u001b[1;32m~\\AppData\\Local\\Temp\\ipykernel_16840\\2763985259.py\u001b[0m in \u001b[0;36m<module>\u001b[1;34m\u001b[0m\n\u001b[0;32m      1\u001b[0m \u001b[0mprediction_index\u001b[0m \u001b[1;33m=\u001b[0m \u001b[0mnp\u001b[0m\u001b[1;33m.\u001b[0m\u001b[0marange\u001b[0m\u001b[1;33m(\u001b[0m\u001b[1;36m12\u001b[0m\u001b[1;33m,\u001b[0m \u001b[1;36m13\u001b[0m\u001b[1;33m,\u001b[0m \u001b[0mstep\u001b[0m\u001b[1;33m=\u001b[0m\u001b[1;36m1\u001b[0m\u001b[1;33m)\u001b[0m\u001b[1;33m\u001b[0m\u001b[1;33m\u001b[0m\u001b[0m\n\u001b[0;32m      2\u001b[0m \u001b[1;33m\u001b[0m\u001b[0m\n\u001b[1;32m----> 3\u001b[1;33m \u001b[0mdf_prediction\u001b[0m \u001b[1;33m=\u001b[0m \u001b[0mpd\u001b[0m\u001b[1;33m.\u001b[0m\u001b[0mDataFrame\u001b[0m\u001b[1;33m(\u001b[0m\u001b[0mdata\u001b[0m\u001b[1;33m=\u001b[0m\u001b[0mprediction\u001b[0m\u001b[1;33m,\u001b[0m \u001b[0mindex\u001b[0m\u001b[1;33m=\u001b[0m\u001b[0mprediction_index\u001b[0m\u001b[1;33m,\u001b[0m \u001b[0mcolumns\u001b[0m\u001b[1;33m=\u001b[0m\u001b[1;33m[\u001b[0m\u001b[1;34m'Prediction'\u001b[0m\u001b[1;33m]\u001b[0m\u001b[1;33m)\u001b[0m\u001b[1;33m\u001b[0m\u001b[1;33m\u001b[0m\u001b[0m\n\u001b[0m",
      "\u001b[1;32mc:\\Users\\KONGA\\anaconda3\\lib\\site-packages\\pandas\\core\\frame.py\u001b[0m in \u001b[0;36m__init__\u001b[1;34m(self, data, index, columns, dtype, copy)\u001b[0m\n\u001b[0;32m    692\u001b[0m                 )\n\u001b[0;32m    693\u001b[0m             \u001b[1;32melse\u001b[0m\u001b[1;33m:\u001b[0m\u001b[1;33m\u001b[0m\u001b[1;33m\u001b[0m\u001b[0m\n\u001b[1;32m--> 694\u001b[1;33m                 mgr = ndarray_to_mgr(\n\u001b[0m\u001b[0;32m    695\u001b[0m                     \u001b[0mdata\u001b[0m\u001b[1;33m,\u001b[0m\u001b[1;33m\u001b[0m\u001b[1;33m\u001b[0m\u001b[0m\n\u001b[0;32m    696\u001b[0m                     \u001b[0mindex\u001b[0m\u001b[1;33m,\u001b[0m\u001b[1;33m\u001b[0m\u001b[1;33m\u001b[0m\u001b[0m\n",
      "\u001b[1;32mc:\\Users\\KONGA\\anaconda3\\lib\\site-packages\\pandas\\core\\internals\\construction.py\u001b[0m in \u001b[0;36mndarray_to_mgr\u001b[1;34m(values, index, columns, dtype, copy, typ)\u001b[0m\n\u001b[0;32m    349\u001b[0m     )\n\u001b[0;32m    350\u001b[0m \u001b[1;33m\u001b[0m\u001b[0m\n\u001b[1;32m--> 351\u001b[1;33m     \u001b[0m_check_values_indices_shape_match\u001b[0m\u001b[1;33m(\u001b[0m\u001b[0mvalues\u001b[0m\u001b[1;33m,\u001b[0m \u001b[0mindex\u001b[0m\u001b[1;33m,\u001b[0m \u001b[0mcolumns\u001b[0m\u001b[1;33m)\u001b[0m\u001b[1;33m\u001b[0m\u001b[1;33m\u001b[0m\u001b[0m\n\u001b[0m\u001b[0;32m    352\u001b[0m \u001b[1;33m\u001b[0m\u001b[0m\n\u001b[0;32m    353\u001b[0m     \u001b[1;32mif\u001b[0m \u001b[0mtyp\u001b[0m \u001b[1;33m==\u001b[0m \u001b[1;34m\"array\"\u001b[0m\u001b[1;33m:\u001b[0m\u001b[1;33m\u001b[0m\u001b[1;33m\u001b[0m\u001b[0m\n",
      "\u001b[1;32mc:\\Users\\KONGA\\anaconda3\\lib\\site-packages\\pandas\\core\\internals\\construction.py\u001b[0m in \u001b[0;36m_check_values_indices_shape_match\u001b[1;34m(values, index, columns)\u001b[0m\n\u001b[0;32m    420\u001b[0m         \u001b[0mpassed\u001b[0m \u001b[1;33m=\u001b[0m \u001b[0mvalues\u001b[0m\u001b[1;33m.\u001b[0m\u001b[0mshape\u001b[0m\u001b[1;33m\u001b[0m\u001b[1;33m\u001b[0m\u001b[0m\n\u001b[0;32m    421\u001b[0m         \u001b[0mimplied\u001b[0m \u001b[1;33m=\u001b[0m \u001b[1;33m(\u001b[0m\u001b[0mlen\u001b[0m\u001b[1;33m(\u001b[0m\u001b[0mindex\u001b[0m\u001b[1;33m)\u001b[0m\u001b[1;33m,\u001b[0m \u001b[0mlen\u001b[0m\u001b[1;33m(\u001b[0m\u001b[0mcolumns\u001b[0m\u001b[1;33m)\u001b[0m\u001b[1;33m)\u001b[0m\u001b[1;33m\u001b[0m\u001b[1;33m\u001b[0m\u001b[0m\n\u001b[1;32m--> 422\u001b[1;33m         \u001b[1;32mraise\u001b[0m \u001b[0mValueError\u001b[0m\u001b[1;33m(\u001b[0m\u001b[1;34mf\"Shape of passed values is {passed}, indices imply {implied}\"\u001b[0m\u001b[1;33m)\u001b[0m\u001b[1;33m\u001b[0m\u001b[1;33m\u001b[0m\u001b[0m\n\u001b[0m\u001b[0;32m    423\u001b[0m \u001b[1;33m\u001b[0m\u001b[0m\n\u001b[0;32m    424\u001b[0m \u001b[1;33m\u001b[0m\u001b[0m\n",
      "\u001b[1;31mValueError\u001b[0m: Shape of passed values is (7037, 1), indices imply (1, 1)"
     ]
    }
   ],
   "source": [
    "prediction_index = np.arange(1244, 1382, step=1)\n",
    "\n",
    "df_prediction = pd.DataFrame(data=prediction, index=prediction_index, columns=['Prediction'])"
   ]
  },
  {
   "cell_type": "code",
   "execution_count": 50,
   "id": "a9c75f02",
   "metadata": {},
   "outputs": [
    {
     "ename": "NameError",
     "evalue": "name 'df_prediction' is not defined",
     "output_type": "error",
     "traceback": [
      "\u001b[1;31m---------------------------------------------------------------------------\u001b[0m",
      "\u001b[1;31mNameError\u001b[0m                                 Traceback (most recent call last)",
      "\u001b[1;32m~\\AppData\\Local\\Temp\\ipykernel_16840\\1095929566.py\u001b[0m in \u001b[0;36m<module>\u001b[1;34m\u001b[0m\n\u001b[1;32m----> 1\u001b[1;33m \u001b[0mdf_prediction\u001b[0m\u001b[1;33m\u001b[0m\u001b[1;33m\u001b[0m\u001b[0m\n\u001b[0m",
      "\u001b[1;31mNameError\u001b[0m: name 'df_prediction' is not defined"
     ]
    }
   ],
   "source": [
    "df_prediction"
   ]
  },
  {
   "cell_type": "markdown",
   "id": "821a62e1",
   "metadata": {},
   "source": [
    "### Visualize Prediction"
   ]
  },
  {
   "cell_type": "code",
   "execution_count": null,
   "id": "1be0fb16",
   "metadata": {},
   "outputs": [
    {
     "data": {
      "text/plain": [
       "<AxesSubplot:>"
      ]
     },
     "execution_count": 46,
     "metadata": {},
     "output_type": "execute_result"
    },
    {
     "data": {
      "image/png": "[encoded data removed]",
      "text/plain": [
       "<Figure size 576x864 with 1 Axes>"
      ]
     },
     "metadata": {
      "needs_background": "light"
     },
     "output_type": "display_data"
    }
   ],
   "source": [
    "ax = data_train.plot()\n",
    "df_prediction.plot(ax=ax, figsize=(8, 12))"
   ]
  },
  {
   "cell_type": "markdown",
   "id": "53a48c8f",
   "metadata": {},
   "source": [
    "### Visualize Prediction and compare actual close price"
   ]
  },
  {
   "cell_type": "code",
   "execution_count": null,
   "id": "8fbd21bc",
   "metadata": {},
   "outputs": [
    {
     "data": {
      "text/plain": [
       "<AxesSubplot:>"
      ]
     },
     "execution_count": 47,
     "metadata": {},
     "output_type": "execute_result"
    },
    {
     "data": {
      "image/png": "[encoded data removed]",
      "text/plain": [
       "<Figure size 576x864 with 1 Axes>"
      ]
     },
     "metadata": {
      "needs_background": "light"
     },
     "output_type": "display_data"
    }
   ],
   "source": [
    "ax = df.plot()\n",
    "df_prediction.plot(ax=ax, figsize=(8, 12))"
   ]
  },
  {
   "cell_type": "markdown",
   "id": "c8a8f6b2",
   "metadata": {},
   "source": [
    "# PreProcess Full Input Dataset"
   ]
  },
  {
   "cell_type": "code",
   "execution_count": null,
   "id": "73c89118",
   "metadata": {},
   "outputs": [],
   "source": [
    "#Still use Minmax Scaler to normalize the full input dataset\n",
    "\n",
    "full_scaler = MinMaxScaler()\n",
    "normalized_full_data = full_scaler.fit_transform(df)"
   ]
  },
  {
   "cell_type": "markdown",
   "id": "16b22f9c",
   "metadata": {},
   "source": [
    "# Create TimeSeriesGenerator for Forecasting"
   ]
  },
  {
   "cell_type": "code",
   "execution_count": null,
   "id": "24e2fbae",
   "metadata": {},
   "outputs": [
    {
     "data": {
      "text/plain": [
       "60"
      ]
     },
     "execution_count": 49,
     "metadata": {},
     "output_type": "execute_result"
    }
   ],
   "source": [
    "# Number of time steps of the input time series\n",
    "# still use length60:\n",
    "length60"
   ]
  },
  {
   "cell_type": "code",
   "execution_count": null,
   "id": "539556ea",
   "metadata": {},
   "outputs": [],
   "source": [
    "# create timeseries Generator for forecasting\n",
    "forecast_tsGenerator = TimeseriesGenerator(normalized_full_data, normalized_full_data, length=length60, batch_size=batch_size32)\n"
   ]
  },
  {
   "cell_type": "markdown",
   "id": "8da568a5",
   "metadata": {},
   "source": [
    "# Build, Compile, and Fit LSTM model for Forecasting"
   ]
  },
  {
   "cell_type": "code",
   "execution_count": null,
   "id": "11fccd99",
   "metadata": {},
   "outputs": [
    {
     "name": "stdout",
     "output_type": "stream",
     "text": [
      "Epoch 1/40\n",
      "42/42 [==============================] - 17s 396ms/step - loss: 0.0023\n",
      "Epoch 2/40\n",
      "42/42 [==============================] - 17s 395ms/step - loss: 0.0017\n",
      "Epoch 3/40\n",
      "42/42 [==============================] - 17s 394ms/step - loss: 0.0022\n",
      "Epoch 4/40\n",
      "42/42 [==============================] - 17s 410ms/step - loss: 0.0015\n",
      "Epoch 5/40\n",
      "42/42 [==============================] - 17s 395ms/step - loss: 0.0014\n",
      "Epoch 6/40\n",
      "42/42 [==============================] - 16s 387ms/step - loss: 0.0014\n",
      "Epoch 7/40\n",
      "42/42 [==============================] - 17s 397ms/step - loss: 0.0016\n",
      "Epoch 8/40\n",
      "42/42 [==============================] - 17s 395ms/step - loss: 0.0013\n",
      "Epoch 9/40\n",
      "42/42 [==============================] - 17s 395ms/step - loss: 0.0014\n",
      "Epoch 10/40\n",
      "42/42 [==============================] - 17s 397ms/step - loss: 0.0018\n",
      "Epoch 11/40\n",
      "42/42 [==============================] - 16s 389ms/step - loss: 0.0017\n",
      "Epoch 12/40\n",
      "42/42 [==============================] - 17s 398ms/step - loss: 0.0015\n",
      "Epoch 13/40\n",
      "42/42 [==============================] - 17s 397ms/step - loss: 0.0015\n",
      "Epoch 14/40\n",
      "42/42 [==============================] - 17s 397ms/step - loss: 0.0018\n",
      "Epoch 15/40\n",
      "42/42 [==============================] - 17s 396ms/step - loss: 0.0014\n",
      "Epoch 16/40\n",
      "42/42 [==============================] - 17s 396ms/step - loss: 0.0015\n",
      "Epoch 17/40\n",
      "42/42 [==============================] - 17s 401ms/step - loss: 0.0021\n",
      "Epoch 18/40\n",
      "42/42 [==============================] - 17s 396ms/step - loss: 0.0017\n",
      "Epoch 19/40\n",
      "42/42 [==============================] - 17s 399ms/step - loss: 0.0014\n",
      "Epoch 20/40\n",
      "42/42 [==============================] - 17s 396ms/step - loss: 0.0013\n",
      "Epoch 21/40\n",
      "42/42 [==============================] - 17s 394ms/step - loss: 0.0012\n",
      "Epoch 22/40\n",
      "42/42 [==============================] - 17s 407ms/step - loss: 0.0012\n",
      "Epoch 23/40\n",
      "42/42 [==============================] - 17s 411ms/step - loss: 0.0013\n",
      "Epoch 24/40\n",
      "42/42 [==============================] - 17s 396ms/step - loss: 0.0013\n",
      "Epoch 25/40\n",
      "42/42 [==============================] - 17s 394ms/step - loss: 0.0013\n",
      "Epoch 26/40\n",
      "42/42 [==============================] - 17s 398ms/step - loss: 0.0018\n",
      "Epoch 27/40\n",
      "42/42 [==============================] - 17s 399ms/step - loss: 0.0024\n",
      "Epoch 28/40\n",
      "42/42 [==============================] - 17s 397ms/step - loss: 0.0023\n",
      "Epoch 29/40\n",
      "42/42 [==============================] - 17s 395ms/step - loss: 0.0021\n",
      "Epoch 30/40\n",
      "42/42 [==============================] - 16s 392ms/step - loss: 0.0021\n",
      "Epoch 31/40\n",
      "42/42 [==============================] - 17s 394ms/step - loss: 0.0015\n",
      "Epoch 32/40\n",
      "42/42 [==============================] - 17s 396ms/step - loss: 0.0012\n",
      "Epoch 33/40\n",
      "42/42 [==============================] - 17s 393ms/step - loss: 0.0013\n",
      "Epoch 34/40\n",
      "42/42 [==============================] - 17s 397ms/step - loss: 0.0010\n",
      "Epoch 35/40\n",
      "42/42 [==============================] - 17s 393ms/step - loss: 0.0011\n",
      "Epoch 36/40\n",
      "42/42 [==============================] - 17s 396ms/step - loss: 0.0013\n",
      "Epoch 37/40\n",
      "42/42 [==============================] - 17s 397ms/step - loss: 0.0012\n",
      "Epoch 38/40\n",
      "42/42 [==============================] - 17s 397ms/step - loss: 0.0014\n",
      "Epoch 39/40\n",
      "42/42 [==============================] - 17s 397ms/step - loss: 0.0017\n",
      "Epoch 40/40\n",
      "42/42 [==============================] - 17s 400ms/step - loss: 0.0020\n"
     ]
    },
    {
     "data": {
      "text/plain": [
       "<tensorflow.python.keras.callbacks.History at 0x7f3426917390>"
      ]
     },
     "execution_count": 51,
     "metadata": {},
     "output_type": "execute_result"
    }
   ],
   "source": [
    "# Train/Fit LSTM model\n",
    "# In forecasting, we don't validate, only FORECAST\n",
    "# So, not need EarlyStop: Not need validation_generator\n",
    "\n",
    "model.fit_generator(forecast_tsGenerator, epochs = 40)"
   ]
  },
  {
   "cell_type": "markdown",
   "id": "c086dba9",
   "metadata": {},
   "source": [
    "# Time Series Forecasting Using LSTM Neural Network: 07/01/2019 - 12/15/2019"
   ]
  },
  {
   "cell_type": "code",
   "execution_count": null,
   "id": "6dc34d3c",
   "metadata": {},
   "outputs": [],
   "source": [
    "forecast = []\n",
    "# Set periods with the time span of forecasting\n",
    "# Let's forecast for the next 117 business days (07/01/2019 - 12/15/2019)\n",
    "periods = 117\n",
    "\n",
    "first_eval_batch = normalized_full_data[-length60:]\n",
    "current_batch = first_eval_batch.reshape((1, length60, n_features))\n",
    "\n",
    "for i in range(periods):\n",
    "    \n",
    "    # get prediction 1 time stamp ahead([0] is for grabbing just the number instead of [array])\n",
    "    current_pred = model.predict(current_batch)[0]\n",
    "    \n",
    "    # store prediction\n",
    "    forecast.append(current_pred)\n",
    "    \n",
    "    # update batch to now include prediction and drop first value\n",
    "    current_batch = np.append(current_batch[:,1:,:], [[current_pred]],axis=1)\n",
    "    \n"
   ]
  },
  {
   "cell_type": "markdown",
   "id": "4e9161e6",
   "metadata": {},
   "source": [
    "# Inverse to Transform Normalized Data Back into True Values"
   ]
  },
  {
   "cell_type": "code",
   "execution_count": null,
   "id": "115b2ec5",
   "metadata": {},
   "outputs": [
    {
     "data": {
      "text/plain": [
       "array([[1064.10696734],\n",
       "       [1059.01504253],\n",
       "       [1054.19582058],\n",
       "       [1049.81553393],\n",
       "       [1045.91690365],\n",
       "       [1042.45137013],\n",
       "       [1039.32466219],\n",
       "       [1036.43263536],\n",
       "       [1033.68320197],\n",
       "       [1031.00667922],\n",
       "       [1028.35702327],\n",
       "       [1025.70974072],\n",
       "       [1023.05638228],\n",
       "       [1020.39974856],\n",
       "       [1017.74862112],\n",
       "       [1015.11429729],\n",
       "       [1012.5078371 ],\n",
       "       [1009.93854424],\n",
       "       [1007.41330156],\n",
       "       [1004.93623875],\n",
       "       [1002.50849505],\n",
       "       [1000.12741226],\n",
       "       [ 997.79018977],\n",
       "       [ 995.49388458],\n",
       "       [ 993.23602835],\n",
       "       [ 991.01405782],\n",
       "       [ 988.82559961],\n",
       "       [ 986.66847018],\n",
       "       [ 984.54072335],\n",
       "       [ 982.4407927 ],\n",
       "       [ 980.36692189],\n",
       "       [ 978.31792425],\n",
       "       [ 976.2925656 ],\n",
       "       [ 974.28956431],\n",
       "       [ 972.3080185 ],\n",
       "       [ 970.37066526],\n",
       "       [ 968.47062176],\n",
       "       [ 966.5985843 ],\n",
       "       [ 964.7503757 ],\n",
       "       [ 962.92352764],\n",
       "       [ 961.1158566 ],\n",
       "       [ 959.32494171],\n",
       "       [ 957.54859945],\n",
       "       [ 955.78483618],\n",
       "       [ 954.03189558],\n",
       "       [ 952.28849602],\n",
       "       [ 950.55278625],\n",
       "       [ 948.82386439],\n",
       "       [ 947.10168296],\n",
       "       [ 945.38628943],\n",
       "       [ 943.67754141],\n",
       "       [ 941.97539142],\n",
       "       [ 940.27974452],\n",
       "       [ 938.59026845],\n",
       "       [ 936.90667839],\n",
       "       [ 935.22864208],\n",
       "       [ 933.55568482],\n",
       "       [ 931.88723701],\n",
       "       [ 930.2227765 ],\n",
       "       [ 928.56159127],\n",
       "       [ 926.90311171],\n",
       "       [ 925.2466258 ],\n",
       "       [ 923.59146899],\n",
       "       [ 921.93707167],\n",
       "       [ 920.28276928],\n",
       "       [ 918.62784981],\n",
       "       [ 916.97179111],\n",
       "       [ 915.31392863],\n",
       "       [ 913.65369276],\n",
       "       [ 911.99046641],\n",
       "       [ 910.32367998],\n",
       "       [ 908.65271637],\n",
       "       [ 906.97695851],\n",
       "       [ 905.29583678],\n",
       "       [ 903.61248406],\n",
       "       [ 901.92561872],\n",
       "       [ 900.23376926],\n",
       "       [ 898.53565403],\n",
       "       [ 896.83022876],\n",
       "       [ 895.11644914],\n",
       "       [ 893.39346076],\n",
       "       [ 891.66036173],\n",
       "       [ 889.91625015],\n",
       "       [ 888.16029534],\n",
       "       [ 886.39166661],\n",
       "       [ 884.60960447],\n",
       "       [ 882.81859465],\n",
       "       [ 881.02191241],\n",
       "       [ 879.21829987],\n",
       "       [ 877.40581084],\n",
       "       [ 875.58257034],\n",
       "       [ 873.74665592],\n",
       "       [ 871.89645367],\n",
       "       [ 870.03030222],\n",
       "       [ 868.14649273],\n",
       "       [ 866.24360116],\n",
       "       [ 864.32312275],\n",
       "       [ 862.38484389],\n",
       "       [ 860.42679466],\n",
       "       [ 858.44631688],\n",
       "       [ 856.44065739],\n",
       "       [ 854.40775135],\n",
       "       [ 852.34570004],\n",
       "       [ 850.25331677],\n",
       "       [ 848.12948605],\n",
       "       [ 845.97342465],\n",
       "       [ 843.78010097],\n",
       "       [ 841.54801979],\n",
       "       [ 839.27687257],\n",
       "       [ 836.96620834],\n",
       "       [ 834.61697648],\n",
       "       [ 832.23193013],\n",
       "       [ 829.81218476],\n",
       "       [ 827.35759799],\n",
       "       [ 824.86741032],\n",
       "       [ 822.34055373],\n",
       "       [ 819.77600766]])"
      ]
     },
     "execution_count": 53,
     "metadata": {},
     "output_type": "execute_result"
    }
   ],
   "source": [
    "forecast = full_scaler.inverse_transform(forecast)\n",
    "\n",
    "forecast"
   ]
  },
  {
   "cell_type": "code",
   "execution_count": null,
   "id": "80f904e0",
   "metadata": {},
   "outputs": [
    {
     "data": {
      "text/html": [
       "<div>\n",
       "<style scoped>\n",
       "    .dataframe tbody tr th:only-of-type {\n",
       "        vertical-align: middle;\n",
       "    }\n",
       "\n",
       "    .dataframe tbody tr th {\n",
       "        vertical-align: top;\n",
       "    }\n",
       "\n",
       "    .dataframe thead th {\n",
       "        text-align: right;\n",
       "    }\n",
       "</style>\n",
       "<table border=\"1\" class=\"dataframe\">\n",
       "  <thead>\n",
       "    <tr style=\"text-align: right;\">\n",
       "      <th></th>\n",
       "      <th>Close</th>\n",
       "    </tr>\n",
       "  </thead>\n",
       "  <tbody>\n",
       "    <tr>\n",
       "      <th>0</th>\n",
       "      <td>554.481689</td>\n",
       "    </tr>\n",
       "    <tr>\n",
       "      <th>1</th>\n",
       "      <td>550.436829</td>\n",
       "    </tr>\n",
       "    <tr>\n",
       "      <th>2</th>\n",
       "      <td>556.573853</td>\n",
       "    </tr>\n",
       "    <tr>\n",
       "      <th>3</th>\n",
       "      <td>567.303589</td>\n",
       "    </tr>\n",
       "    <tr>\n",
       "      <th>4</th>\n",
       "      <td>568.484192</td>\n",
       "    </tr>\n",
       "    <tr>\n",
       "      <th>...</th>\n",
       "      <td>...</td>\n",
       "    </tr>\n",
       "    <tr>\n",
       "      <th>1377</th>\n",
       "      <td>1115.520020</td>\n",
       "    </tr>\n",
       "    <tr>\n",
       "      <th>1378</th>\n",
       "      <td>1086.349976</td>\n",
       "    </tr>\n",
       "    <tr>\n",
       "      <th>1379</th>\n",
       "      <td>1079.800049</td>\n",
       "    </tr>\n",
       "    <tr>\n",
       "      <th>1380</th>\n",
       "      <td>1076.010010</td>\n",
       "    </tr>\n",
       "    <tr>\n",
       "      <th>1381</th>\n",
       "      <td>1080.910034</td>\n",
       "    </tr>\n",
       "  </tbody>\n",
       "</table>\n",
       "<p>1382 rows × 1 columns</p>\n",
       "</div>"
      ],
      "text/plain": [
       "            Close\n",
       "0      554.481689\n",
       "1      550.436829\n",
       "2      556.573853\n",
       "3      567.303589\n",
       "4      568.484192\n",
       "...           ...\n",
       "1377  1115.520020\n",
       "1378  1086.349976\n",
       "1379  1079.800049\n",
       "1380  1076.010010\n",
       "1381  1080.910034\n",
       "\n",
       "[1382 rows x 1 columns]"
      ]
     },
     "execution_count": 54,
     "metadata": {},
     "output_type": "execute_result"
    }
   ],
   "source": [
    "df"
   ]
  },
  {
   "cell_type": "markdown",
   "id": "51681ff2",
   "metadata": {},
   "source": [
    "# Creating new time stamp index with pandas : 07/01/2019 - 12/15/2019"
   ]
  },
  {
   "cell_type": "code",
   "execution_count": null,
   "id": "e9f09128",
   "metadata": {},
   "outputs": [],
   "source": [
    "#calculate forecast index\n",
    "\n",
    "forecast_index = np.arange(1382,1499,step=1)"
   ]
  },
  {
   "cell_type": "code",
   "execution_count": null,
   "id": "6ae988c0",
   "metadata": {},
   "outputs": [],
   "source": [
    "forecast_df=pd.DataFrame(data=forecast,index=forecast_index,columns=['Forecast'])"
   ]
  },
  {
   "cell_type": "code",
   "execution_count": null,
   "id": "2938860b",
   "metadata": {},
   "outputs": [
    {
     "data": {
      "text/html": [
       "<div>\n",
       "<style scoped>\n",
       "    .dataframe tbody tr th:only-of-type {\n",
       "        vertical-align: middle;\n",
       "    }\n",
       "\n",
       "    .dataframe tbody tr th {\n",
       "        vertical-align: top;\n",
       "    }\n",
       "\n",
       "    .dataframe thead th {\n",
       "        text-align: right;\n",
       "    }\n",
       "</style>\n",
       "<table border=\"1\" class=\"dataframe\">\n",
       "  <thead>\n",
       "    <tr style=\"text-align: right;\">\n",
       "      <th></th>\n",
       "      <th>Forecast</th>\n",
       "    </tr>\n",
       "  </thead>\n",
       "  <tbody>\n",
       "    <tr>\n",
       "      <th>1382</th>\n",
       "      <td>1064.106967</td>\n",
       "    </tr>\n",
       "    <tr>\n",
       "      <th>1383</th>\n",
       "      <td>1059.015043</td>\n",
       "    </tr>\n",
       "    <tr>\n",
       "      <th>1384</th>\n",
       "      <td>1054.195821</td>\n",
       "    </tr>\n",
       "    <tr>\n",
       "      <th>1385</th>\n",
       "      <td>1049.815534</td>\n",
       "    </tr>\n",
       "    <tr>\n",
       "      <th>1386</th>\n",
       "      <td>1045.916904</td>\n",
       "    </tr>\n",
       "    <tr>\n",
       "      <th>...</th>\n",
       "      <td>...</td>\n",
       "    </tr>\n",
       "    <tr>\n",
       "      <th>1494</th>\n",
       "      <td>829.812185</td>\n",
       "    </tr>\n",
       "    <tr>\n",
       "      <th>1495</th>\n",
       "      <td>827.357598</td>\n",
       "    </tr>\n",
       "    <tr>\n",
       "      <th>1496</th>\n",
       "      <td>824.867410</td>\n",
       "    </tr>\n",
       "    <tr>\n",
       "      <th>1497</th>\n",
       "      <td>822.340554</td>\n",
       "    </tr>\n",
       "    <tr>\n",
       "      <th>1498</th>\n",
       "      <td>819.776008</td>\n",
       "    </tr>\n",
       "  </tbody>\n",
       "</table>\n",
       "<p>117 rows × 1 columns</p>\n",
       "</div>"
      ],
      "text/plain": [
       "         Forecast\n",
       "1382  1064.106967\n",
       "1383  1059.015043\n",
       "1384  1054.195821\n",
       "1385  1049.815534\n",
       "1386  1045.916904\n",
       "...           ...\n",
       "1494   829.812185\n",
       "1495   827.357598\n",
       "1496   824.867410\n",
       "1497   822.340554\n",
       "1498   819.776008\n",
       "\n",
       "[117 rows x 1 columns]"
      ]
     },
     "execution_count": 57,
     "metadata": {},
     "output_type": "execute_result"
    }
   ],
   "source": [
    "forecast_df"
   ]
  },
  {
   "cell_type": "code",
   "execution_count": null,
   "id": "e6d8abcc",
   "metadata": {},
   "outputs": [
    {
     "data": {
      "text/plain": [
       "<AxesSubplot:>"
      ]
     },
     "execution_count": 58,
     "metadata": {},
     "output_type": "execute_result"
    },
    {
     "data": {
      "image/png": "[encoded data removed]",
      "text/plain": [
       "<Figure size 432x288 with 1 Axes>"
      ]
     },
     "metadata": {
      "needs_background": "light"
     },
     "output_type": "display_data"
    },
    {
     "data": {
      "image/png": "[encoded data removed]",
      "text/plain": [
       "<Figure size 432x288 with 1 Axes>"
      ]
     },
     "metadata": {
      "needs_background": "light"
     },
     "output_type": "display_data"
    }
   ],
   "source": [
    "df.plot()\n",
    "forecast_df.plot()"
   ]
  },
  {
   "cell_type": "code",
   "execution_count": null,
   "id": "70956ab8",
   "metadata": {},
   "outputs": [
    {
     "data": {
      "text/plain": [
       "<AxesSubplot:>"
      ]
     },
     "execution_count": 59,
     "metadata": {},
     "output_type": "execute_result"
    },
    {
     "data": {
      "image/png": "[encoded data removed]",
      "text/plain": [
       "<Figure size 864x576 with 1 Axes>"
      ]
     },
     "metadata": {
      "needs_background": "light"
     },
     "output_type": "display_data"
    }
   ],
   "source": [
    "ax=df.plot()\n",
    "forecast_df.plot(ax=ax, figsize=(12,8))"
   ]
  },
  {
   "cell_type": "code",
   "execution_count": null,
   "id": "5734ed5d",
   "metadata": {},
   "outputs": [],
   "source": [
    "df_ALL_JUL_DEC_2019 = pd.read_csv('DATA/GOOG_20190701_20191215.csv')"
   ]
  },
  {
   "cell_type": "code",
   "execution_count": null,
   "id": "64701f5b",
   "metadata": {},
   "outputs": [
    {
     "data": {
      "text/html": [
       "<div>\n",
       "<style scoped>\n",
       "    .dataframe tbody tr th:only-of-type {\n",
       "        vertical-align: middle;\n",
       "    }\n",
       "\n",
       "    .dataframe tbody tr th {\n",
       "        vertical-align: top;\n",
       "    }\n",
       "\n",
       "    .dataframe thead th {\n",
       "        text-align: right;\n",
       "    }\n",
       "</style>\n",
       "<table border=\"1\" class=\"dataframe\">\n",
       "  <thead>\n",
       "    <tr style=\"text-align: right;\">\n",
       "      <th></th>\n",
       "      <th>Date</th>\n",
       "      <th>Open</th>\n",
       "      <th>High</th>\n",
       "      <th>Low</th>\n",
       "      <th>Close</th>\n",
       "      <th>Adj Close</th>\n",
       "      <th>Volume</th>\n",
       "    </tr>\n",
       "  </thead>\n",
       "  <tbody>\n",
       "    <tr>\n",
       "      <th>0</th>\n",
       "      <td>2019-07-01</td>\n",
       "      <td>1098.000000</td>\n",
       "      <td>1107.579956</td>\n",
       "      <td>1093.703003</td>\n",
       "      <td>1097.949951</td>\n",
       "      <td>1097.949951</td>\n",
       "      <td>1436300</td>\n",
       "    </tr>\n",
       "    <tr>\n",
       "      <th>1</th>\n",
       "      <td>2019-07-02</td>\n",
       "      <td>1102.239990</td>\n",
       "      <td>1111.770020</td>\n",
       "      <td>1098.170044</td>\n",
       "      <td>1111.250000</td>\n",
       "      <td>1111.250000</td>\n",
       "      <td>991600</td>\n",
       "    </tr>\n",
       "    <tr>\n",
       "      <th>2</th>\n",
       "      <td>2019-07-03</td>\n",
       "      <td>1117.410034</td>\n",
       "      <td>1126.760010</td>\n",
       "      <td>1113.859985</td>\n",
       "      <td>1121.579956</td>\n",
       "      <td>1121.579956</td>\n",
       "      <td>767000</td>\n",
       "    </tr>\n",
       "    <tr>\n",
       "      <th>3</th>\n",
       "      <td>2019-07-05</td>\n",
       "      <td>1117.800049</td>\n",
       "      <td>1132.880005</td>\n",
       "      <td>1116.140015</td>\n",
       "      <td>1131.589966</td>\n",
       "      <td>1131.589966</td>\n",
       "      <td>1264300</td>\n",
       "    </tr>\n",
       "    <tr>\n",
       "      <th>4</th>\n",
       "      <td>2019-07-08</td>\n",
       "      <td>1125.170044</td>\n",
       "      <td>1125.979980</td>\n",
       "      <td>1111.209961</td>\n",
       "      <td>1116.349976</td>\n",
       "      <td>1116.349976</td>\n",
       "      <td>1236400</td>\n",
       "    </tr>\n",
       "  </tbody>\n",
       "</table>\n",
       "</div>"
      ],
      "text/plain": [
       "         Date         Open         High          Low        Close  \\\n",
       "0  2019-07-01  1098.000000  1107.579956  1093.703003  1097.949951   \n",
       "1  2019-07-02  1102.239990  1111.770020  1098.170044  1111.250000   \n",
       "2  2019-07-03  1117.410034  1126.760010  1113.859985  1121.579956   \n",
       "3  2019-07-05  1117.800049  1132.880005  1116.140015  1131.589966   \n",
       "4  2019-07-08  1125.170044  1125.979980  1111.209961  1116.349976   \n",
       "\n",
       "     Adj Close   Volume  \n",
       "0  1097.949951  1436300  \n",
       "1  1111.250000   991600  \n",
       "2  1121.579956   767000  \n",
       "3  1131.589966  1264300  \n",
       "4  1116.349976  1236400  "
      ]
     },
     "execution_count": 61,
     "metadata": {},
     "output_type": "execute_result"
    }
   ],
   "source": [
    "df_ALL_JUL_DEC_2019.head()"
   ]
  },
  {
   "cell_type": "code",
   "execution_count": null,
   "id": "8c140a9f",
   "metadata": {},
   "outputs": [],
   "source": [
    "df_JUL_DEC_2019=df_ALL_JUL_DEC_2019.iloc[:,4:5]"
   ]
  },
  {
   "cell_type": "code",
   "execution_count": null,
   "id": "5bdb589c",
   "metadata": {},
   "outputs": [
    {
     "data": {
      "text/html": [
       "<div>\n",
       "<style scoped>\n",
       "    .dataframe tbody tr th:only-of-type {\n",
       "        vertical-align: middle;\n",
       "    }\n",
       "\n",
       "    .dataframe tbody tr th {\n",
       "        vertical-align: top;\n",
       "    }\n",
       "\n",
       "    .dataframe thead th {\n",
       "        text-align: right;\n",
       "    }\n",
       "</style>\n",
       "<table border=\"1\" class=\"dataframe\">\n",
       "  <thead>\n",
       "    <tr style=\"text-align: right;\">\n",
       "      <th></th>\n",
       "      <th>Close</th>\n",
       "    </tr>\n",
       "  </thead>\n",
       "  <tbody>\n",
       "    <tr>\n",
       "      <th>0</th>\n",
       "      <td>1097.949951</td>\n",
       "    </tr>\n",
       "    <tr>\n",
       "      <th>1</th>\n",
       "      <td>1111.250000</td>\n",
       "    </tr>\n",
       "    <tr>\n",
       "      <th>2</th>\n",
       "      <td>1121.579956</td>\n",
       "    </tr>\n",
       "    <tr>\n",
       "      <th>3</th>\n",
       "      <td>1131.589966</td>\n",
       "    </tr>\n",
       "    <tr>\n",
       "      <th>4</th>\n",
       "      <td>1116.349976</td>\n",
       "    </tr>\n",
       "    <tr>\n",
       "      <th>...</th>\n",
       "      <td>...</td>\n",
       "    </tr>\n",
       "    <tr>\n",
       "      <th>112</th>\n",
       "      <td>1343.560059</td>\n",
       "    </tr>\n",
       "    <tr>\n",
       "      <th>113</th>\n",
       "      <td>1344.660034</td>\n",
       "    </tr>\n",
       "    <tr>\n",
       "      <th>114</th>\n",
       "      <td>1345.020020</td>\n",
       "    </tr>\n",
       "    <tr>\n",
       "      <th>115</th>\n",
       "      <td>1350.270020</td>\n",
       "    </tr>\n",
       "    <tr>\n",
       "      <th>116</th>\n",
       "      <td>1347.829956</td>\n",
       "    </tr>\n",
       "  </tbody>\n",
       "</table>\n",
       "<p>117 rows × 1 columns</p>\n",
       "</div>"
      ],
      "text/plain": [
       "           Close\n",
       "0    1097.949951\n",
       "1    1111.250000\n",
       "2    1121.579956\n",
       "3    1131.589966\n",
       "4    1116.349976\n",
       "..           ...\n",
       "112  1343.560059\n",
       "113  1344.660034\n",
       "114  1345.020020\n",
       "115  1350.270020\n",
       "116  1347.829956\n",
       "\n",
       "[117 rows x 1 columns]"
      ]
     },
     "execution_count": 63,
     "metadata": {},
     "output_type": "execute_result"
    }
   ],
   "source": [
    "df_JUL_DEC_2019"
   ]
  },
  {
   "cell_type": "code",
   "execution_count": null,
   "id": "67b63f13",
   "metadata": {},
   "outputs": [
    {
     "data": {
      "text/plain": [
       "<AxesSubplot:>"
      ]
     },
     "execution_count": 64,
     "metadata": {},
     "output_type": "execute_result"
    },
    {
     "data": {
      "image/png": "[encoded data removed]",
      "text/plain": [
       "<Figure size 432x288 with 1 Axes>"
      ]
     },
     "metadata": {
      "needs_background": "light"
     },
     "output_type": "display_data"
    }
   ],
   "source": [
    "df_JUL_DEC_2019.plot()"
   ]
  },
  {
   "cell_type": "code",
   "execution_count": null,
   "id": "788fc857",
   "metadata": {},
   "outputs": [
    {
     "data": {
      "text/plain": [
       "array([1064.10696734, 1059.01504253, 1054.19582058, 1049.81553393,\n",
       "       1045.91690365, 1042.45137013, 1039.32466219, 1036.43263536,\n",
       "       1033.68320197, 1031.00667922, 1028.35702327, 1025.70974072,\n",
       "       1023.05638228, 1020.39974856, 1017.74862112, 1015.11429729,\n",
       "       1012.5078371 , 1009.93854424, 1007.41330156, 1004.93623875,\n",
       "       1002.50849505, 1000.12741226,  997.79018977,  995.49388458,\n",
       "        993.23602835,  991.01405782,  988.82559961,  986.66847018,\n",
       "        984.54072335,  982.4407927 ,  980.36692189,  978.31792425,\n",
       "        976.2925656 ,  974.28956431,  972.3080185 ,  970.37066526,\n",
       "        968.47062176,  966.5985843 ,  964.7503757 ,  962.92352764,\n",
       "        961.1158566 ,  959.32494171,  957.54859945,  955.78483618,\n",
       "        954.03189558,  952.28849602,  950.55278625,  948.82386439,\n",
       "        947.10168296,  945.38628943,  943.67754141,  941.97539142,\n",
       "        940.27974452,  938.59026845,  936.90667839,  935.22864208,\n",
       "        933.55568482,  931.88723701,  930.2227765 ,  928.56159127,\n",
       "        926.90311171,  925.2466258 ,  923.59146899,  921.93707167,\n",
       "        920.28276928,  918.62784981,  916.97179111,  915.31392863,\n",
       "        913.65369276,  911.99046641,  910.32367998,  908.65271637,\n",
       "        906.97695851,  905.29583678,  903.61248406,  901.92561872,\n",
       "        900.23376926,  898.53565403,  896.83022876,  895.11644914,\n",
       "        893.39346076,  891.66036173,  889.91625015,  888.16029534,\n",
       "        886.39166661,  884.60960447,  882.81859465,  881.02191241,\n",
       "        879.21829987,  877.40581084,  875.58257034,  873.74665592,\n",
       "        871.89645367,  870.03030222,  868.14649273,  866.24360116,\n",
       "        864.32312275,  862.38484389,  860.42679466,  858.44631688,\n",
       "        856.44065739,  854.40775135,  852.34570004,  850.25331677,\n",
       "        848.12948605,  845.97342465,  843.78010097,  841.54801979,\n",
       "        839.27687257,  836.96620834,  834.61697648,  832.23193013,\n",
       "        829.81218476,  827.35759799,  824.86741032,  822.34055373,\n",
       "        819.77600766])"
      ]
     },
     "execution_count": 65,
     "metadata": {},
     "output_type": "execute_result"
    }
   ],
   "source": [
    "forecast_df['Forecast'].values"
   ]
  },
  {
   "cell_type": "code",
   "execution_count": null,
   "id": "1a5a985d",
   "metadata": {},
   "outputs": [],
   "source": [
    "df_JUL_DEC_2019['Forecast'] = forecast_df['Forecast'].values"
   ]
  },
  {
   "cell_type": "code",
   "execution_count": null,
   "id": "12e38bec",
   "metadata": {},
   "outputs": [
    {
     "data": {
      "text/html": [
       "<div>\n",
       "<style scoped>\n",
       "    .dataframe tbody tr th:only-of-type {\n",
       "        vertical-align: middle;\n",
       "    }\n",
       "\n",
       "    .dataframe tbody tr th {\n",
       "        vertical-align: top;\n",
       "    }\n",
       "\n",
       "    .dataframe thead th {\n",
       "        text-align: right;\n",
       "    }\n",
       "</style>\n",
       "<table border=\"1\" class=\"dataframe\">\n",
       "  <thead>\n",
       "    <tr style=\"text-align: right;\">\n",
       "      <th></th>\n",
       "      <th>Close</th>\n",
       "      <th>Forecast</th>\n",
       "    </tr>\n",
       "  </thead>\n",
       "  <tbody>\n",
       "    <tr>\n",
       "      <th>0</th>\n",
       "      <td>1097.949951</td>\n",
       "      <td>1064.106967</td>\n",
       "    </tr>\n",
       "    <tr>\n",
       "      <th>1</th>\n",
       "      <td>1111.250000</td>\n",
       "      <td>1059.015043</td>\n",
       "    </tr>\n",
       "    <tr>\n",
       "      <th>2</th>\n",
       "      <td>1121.579956</td>\n",
       "      <td>1054.195821</td>\n",
       "    </tr>\n",
       "    <tr>\n",
       "      <th>3</th>\n",
       "      <td>1131.589966</td>\n",
       "      <td>1049.815534</td>\n",
       "    </tr>\n",
       "    <tr>\n",
       "      <th>4</th>\n",
       "      <td>1116.349976</td>\n",
       "      <td>1045.916904</td>\n",
       "    </tr>\n",
       "    <tr>\n",
       "      <th>...</th>\n",
       "      <td>...</td>\n",
       "      <td>...</td>\n",
       "    </tr>\n",
       "    <tr>\n",
       "      <th>112</th>\n",
       "      <td>1343.560059</td>\n",
       "      <td>829.812185</td>\n",
       "    </tr>\n",
       "    <tr>\n",
       "      <th>113</th>\n",
       "      <td>1344.660034</td>\n",
       "      <td>827.357598</td>\n",
       "    </tr>\n",
       "    <tr>\n",
       "      <th>114</th>\n",
       "      <td>1345.020020</td>\n",
       "      <td>824.867410</td>\n",
       "    </tr>\n",
       "    <tr>\n",
       "      <th>115</th>\n",
       "      <td>1350.270020</td>\n",
       "      <td>822.340554</td>\n",
       "    </tr>\n",
       "    <tr>\n",
       "      <th>116</th>\n",
       "      <td>1347.829956</td>\n",
       "      <td>819.776008</td>\n",
       "    </tr>\n",
       "  </tbody>\n",
       "</table>\n",
       "<p>117 rows × 2 columns</p>\n",
       "</div>"
      ],
      "text/plain": [
       "           Close     Forecast\n",
       "0    1097.949951  1064.106967\n",
       "1    1111.250000  1059.015043\n",
       "2    1121.579956  1054.195821\n",
       "3    1131.589966  1049.815534\n",
       "4    1116.349976  1045.916904\n",
       "..           ...          ...\n",
       "112  1343.560059   829.812185\n",
       "113  1344.660034   827.357598\n",
       "114  1345.020020   824.867410\n",
       "115  1350.270020   822.340554\n",
       "116  1347.829956   819.776008\n",
       "\n",
       "[117 rows x 2 columns]"
      ]
     },
     "execution_count": 67,
     "metadata": {},
     "output_type": "execute_result"
    }
   ],
   "source": [
    "df_JUL_DEC_2019"
   ]
  },
  {
   "cell_type": "code",
   "execution_count": null,
   "id": "131a0ba6",
   "metadata": {},
   "outputs": [
    {
     "data": {
      "text/plain": [
       "<AxesSubplot:>"
      ]
     },
     "execution_count": 68,
     "metadata": {},
     "output_type": "execute_result"
    },
    {
     "data": {
      "image/png": "[encoded data removed]",
      "text/plain": [
       "<Figure size 432x288 with 1 Axes>"
      ]
     },
     "metadata": {
      "needs_background": "light"
     },
     "output_type": "display_data"
    }
   ],
   "source": [
    "df_JUL_DEC_2019.plot()"
   ]
  },
  {
   "cell_type": "code",
   "execution_count": null,
   "id": "e3b1ea28",
   "metadata": {},
   "outputs": [],
   "source": []
  }
 ],
 "metadata": {
  "kernelspec": {
   "display_name": "Python 3 (ipykernel)",
   "language": "python",
   "name": "python3"
  },
  "language_info": {
   "codemirror_mode": {
    "name": "ipython",
    "version": 3
   },
   "file_extension": ".py",
   "mimetype": "text/x-python",
   "name": "python",
   "nbconvert_exporter": "python",
   "pygments_lexer": "ipython3",
   "version": "3.9.13"
  }
 },
 "nbformat": 4,
 "nbformat_minor": 5
}
