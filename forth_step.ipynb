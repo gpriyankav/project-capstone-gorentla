{
 "cells": [
  {
   "cell_type": "code",
   "execution_count": 1,
   "id": "152c97b7",
   "metadata": {},
   "outputs": [],
   "source": [
    "#Final_Project_11613968\n",
    "import pandas as pd\n",
    "import numpy as np\n",
    "%matplotlib inline\n",
    "import matplotlib.pyplot as plt"
   ]
  },
  {
   "cell_type": "code",
   "execution_count": 2,
   "id": "8ba80701",
   "metadata": {},
   "outputs": [],
   "source": [
    "# For timeseries RNN LSTM neural networks\n",
    "from tensorflow.keras.models import Sequential\n",
    "from tensorflow.keras.layers import LSTM\n",
    "from tensorflow.keras.layers import Dropout\n",
    "from tensorflow.keras.layers import Dense"
   ]
  },
  {
   "cell_type": "code",
   "execution_count": 3,
   "id": "7904c16b",
   "metadata": {},
   "outputs": [],
   "source": [
    "from tensorflow.keras.preprocessing.sequence import TimeseriesGenerator\n",
    "from sklearn.preprocessing import MinMaxScaler"
   ]
  },
  {
   "cell_type": "markdown",
   "id": "5c2f789a",
   "metadata": {},
   "source": [
    "### Load Dataset"
   ]
  },
  {
   "cell_type": "code",
   "execution_count": 4,
   "id": "6e2e6cdf",
   "metadata": {},
   "outputs": [],
   "source": [
    "df_ALL=pd.read_csv('DATA/GOOG_20140101_20190630.csv')"
   ]
  },
  {
   "cell_type": "code",
   "execution_count": 5,
   "id": "683307fb",
   "metadata": {},
   "outputs": [
    {
     "data": {
      "text/html": [
       "<div>\n",
       "<style scoped>\n",
       "    .dataframe tbody tr th:only-of-type {\n",
       "        vertical-align: middle;\n",
       "    }\n",
       "\n",
       "    .dataframe tbody tr th {\n",
       "        vertical-align: top;\n",
       "    }\n",
       "\n",
       "    .dataframe thead th {\n",
       "        text-align: right;\n",
       "    }\n",
       "</style>\n",
       "<table border=\"1\" class=\"dataframe\">\n",
       "  <thead>\n",
       "    <tr style=\"text-align: right;\">\n",
       "      <th></th>\n",
       "      <th>Date</th>\n",
       "      <th>Open</th>\n",
       "      <th>High</th>\n",
       "      <th>Low</th>\n",
       "      <th>Close</th>\n",
       "      <th>Adj Close</th>\n",
       "      <th>Volume</th>\n",
       "    </tr>\n",
       "  </thead>\n",
       "  <tbody>\n",
       "    <tr>\n",
       "      <th>0</th>\n",
       "      <td>2014-01-02</td>\n",
       "      <td>555.647278</td>\n",
       "      <td>556.788025</td>\n",
       "      <td>552.060730</td>\n",
       "      <td>554.481689</td>\n",
       "      <td>554.481689</td>\n",
       "      <td>3656454</td>\n",
       "    </tr>\n",
       "    <tr>\n",
       "      <th>1</th>\n",
       "      <td>2014-01-03</td>\n",
       "      <td>555.418152</td>\n",
       "      <td>556.379578</td>\n",
       "      <td>550.401978</td>\n",
       "      <td>550.436829</td>\n",
       "      <td>550.436829</td>\n",
       "      <td>3345894</td>\n",
       "    </tr>\n",
       "    <tr>\n",
       "      <th>2</th>\n",
       "      <td>2014-01-06</td>\n",
       "      <td>554.426880</td>\n",
       "      <td>557.340942</td>\n",
       "      <td>551.154114</td>\n",
       "      <td>556.573853</td>\n",
       "      <td>556.573853</td>\n",
       "      <td>3551864</td>\n",
       "    </tr>\n",
       "    <tr>\n",
       "      <th>3</th>\n",
       "      <td>2014-01-07</td>\n",
       "      <td>560.399475</td>\n",
       "      <td>567.717041</td>\n",
       "      <td>558.486633</td>\n",
       "      <td>567.303589</td>\n",
       "      <td>567.303589</td>\n",
       "      <td>5124336</td>\n",
       "    </tr>\n",
       "    <tr>\n",
       "      <th>4</th>\n",
       "      <td>2014-01-08</td>\n",
       "      <td>570.860291</td>\n",
       "      <td>571.517822</td>\n",
       "      <td>564.528992</td>\n",
       "      <td>568.484192</td>\n",
       "      <td>568.484192</td>\n",
       "      <td>4501811</td>\n",
       "    </tr>\n",
       "  </tbody>\n",
       "</table>\n",
       "</div>"
      ],
      "text/plain": [
       "         Date        Open        High         Low       Close   Adj Close  \\\n",
       "0  2014-01-02  555.647278  556.788025  552.060730  554.481689  554.481689   \n",
       "1  2014-01-03  555.418152  556.379578  550.401978  550.436829  550.436829   \n",
       "2  2014-01-06  554.426880  557.340942  551.154114  556.573853  556.573853   \n",
       "3  2014-01-07  560.399475  567.717041  558.486633  567.303589  567.303589   \n",
       "4  2014-01-08  570.860291  571.517822  564.528992  568.484192  568.484192   \n",
       "\n",
       "    Volume  \n",
       "0  3656454  \n",
       "1  3345894  \n",
       "2  3551864  \n",
       "3  5124336  \n",
       "4  4501811  "
      ]
     },
     "execution_count": 5,
     "metadata": {},
     "output_type": "execute_result"
    }
   ],
   "source": [
    "df_ALL.head()"
   ]
  },
  {
   "cell_type": "code",
   "execution_count": 6,
   "id": "f974f855",
   "metadata": {},
   "outputs": [
    {
     "data": {
      "text/plain": [
       "(1382, 7)"
      ]
     },
     "execution_count": 6,
     "metadata": {},
     "output_type": "execute_result"
    }
   ],
   "source": [
    "df_ALL.shape"
   ]
  },
  {
   "cell_type": "code",
   "execution_count": 7,
   "id": "109d9522",
   "metadata": {},
   "outputs": [
    {
     "data": {
      "text/plain": [
       "Date          object\n",
       "Open         float64\n",
       "High         float64\n",
       "Low          float64\n",
       "Close        float64\n",
       "Adj Close    float64\n",
       "Volume         int64\n",
       "dtype: object"
      ]
     },
     "execution_count": 7,
     "metadata": {},
     "output_type": "execute_result"
    }
   ],
   "source": [
    "df_ALL.dtypes"
   ]
  },
  {
   "cell_type": "code",
   "execution_count": 8,
   "id": "a8deae80",
   "metadata": {},
   "outputs": [
    {
     "data": {
      "text/html": [
       "<div>\n",
       "<style scoped>\n",
       "    .dataframe tbody tr th:only-of-type {\n",
       "        vertical-align: middle;\n",
       "    }\n",
       "\n",
       "    .dataframe tbody tr th {\n",
       "        vertical-align: top;\n",
       "    }\n",
       "\n",
       "    .dataframe thead th {\n",
       "        text-align: right;\n",
       "    }\n",
       "</style>\n",
       "<table border=\"1\" class=\"dataframe\">\n",
       "  <thead>\n",
       "    <tr style=\"text-align: right;\">\n",
       "      <th></th>\n",
       "      <th>Open</th>\n",
       "      <th>High</th>\n",
       "      <th>Low</th>\n",
       "      <th>Close</th>\n",
       "      <th>Adj Close</th>\n",
       "      <th>Volume</th>\n",
       "    </tr>\n",
       "  </thead>\n",
       "  <tbody>\n",
       "    <tr>\n",
       "      <th>count</th>\n",
       "      <td>1382.000000</td>\n",
       "      <td>1382.000000</td>\n",
       "      <td>1382.000000</td>\n",
       "      <td>1382.000000</td>\n",
       "      <td>1382.000000</td>\n",
       "      <td>1.382000e+03</td>\n",
       "    </tr>\n",
       "    <tr>\n",
       "      <th>mean</th>\n",
       "      <td>819.195519</td>\n",
       "      <td>826.032276</td>\n",
       "      <td>811.798320</td>\n",
       "      <td>819.147829</td>\n",
       "      <td>819.147829</td>\n",
       "      <td>1.884475e+06</td>\n",
       "    </tr>\n",
       "    <tr>\n",
       "      <th>std</th>\n",
       "      <td>228.689687</td>\n",
       "      <td>231.087414</td>\n",
       "      <td>226.686725</td>\n",
       "      <td>229.045157</td>\n",
       "      <td>229.045157</td>\n",
       "      <td>1.095459e+06</td>\n",
       "    </tr>\n",
       "    <tr>\n",
       "      <th>min</th>\n",
       "      <td>493.295654</td>\n",
       "      <td>494.618011</td>\n",
       "      <td>486.225067</td>\n",
       "      <td>491.201416</td>\n",
       "      <td>491.201416</td>\n",
       "      <td>7.922000e+03</td>\n",
       "    </tr>\n",
       "    <tr>\n",
       "      <th>25%</th>\n",
       "      <td>586.407532</td>\n",
       "      <td>589.281662</td>\n",
       "      <td>581.008683</td>\n",
       "      <td>585.380326</td>\n",
       "      <td>585.380326</td>\n",
       "      <td>1.262075e+06</td>\n",
       "    </tr>\n",
       "    <tr>\n",
       "      <th>50%</th>\n",
       "      <td>773.615021</td>\n",
       "      <td>778.630005</td>\n",
       "      <td>768.470001</td>\n",
       "      <td>772.355011</td>\n",
       "      <td>772.355011</td>\n",
       "      <td>1.571100e+06</td>\n",
       "    </tr>\n",
       "    <tr>\n",
       "      <th>75%</th>\n",
       "      <td>1042.342529</td>\n",
       "      <td>1054.703491</td>\n",
       "      <td>1028.487488</td>\n",
       "      <td>1040.077484</td>\n",
       "      <td>1040.077484</td>\n",
       "      <td>2.102393e+06</td>\n",
       "    </tr>\n",
       "    <tr>\n",
       "      <th>max</th>\n",
       "      <td>1274.000000</td>\n",
       "      <td>1289.270020</td>\n",
       "      <td>1266.295044</td>\n",
       "      <td>1287.579956</td>\n",
       "      <td>1287.579956</td>\n",
       "      <td>1.117433e+07</td>\n",
       "    </tr>\n",
       "  </tbody>\n",
       "</table>\n",
       "</div>"
      ],
      "text/plain": [
       "              Open         High          Low        Close    Adj Close  \\\n",
       "count  1382.000000  1382.000000  1382.000000  1382.000000  1382.000000   \n",
       "mean    819.195519   826.032276   811.798320   819.147829   819.147829   \n",
       "std     228.689687   231.087414   226.686725   229.045157   229.045157   \n",
       "min     493.295654   494.618011   486.225067   491.201416   491.201416   \n",
       "25%     586.407532   589.281662   581.008683   585.380326   585.380326   \n",
       "50%     773.615021   778.630005   768.470001   772.355011   772.355011   \n",
       "75%    1042.342529  1054.703491  1028.487488  1040.077484  1040.077484   \n",
       "max    1274.000000  1289.270020  1266.295044  1287.579956  1287.579956   \n",
       "\n",
       "             Volume  \n",
       "count  1.382000e+03  \n",
       "mean   1.884475e+06  \n",
       "std    1.095459e+06  \n",
       "min    7.922000e+03  \n",
       "25%    1.262075e+06  \n",
       "50%    1.571100e+06  \n",
       "75%    2.102393e+06  \n",
       "max    1.117433e+07  "
      ]
     },
     "execution_count": 8,
     "metadata": {},
     "output_type": "execute_result"
    }
   ],
   "source": [
    "# Statistics Sumary\n",
    "df_ALL.describe()"
   ]
  },
  {
   "cell_type": "markdown",
   "id": "e385b612",
   "metadata": {},
   "source": [
    "### Keep Only \"Close\" (for Closing Price) and Filter out all other attributes\n",
    "notes: the research focuses only on the closing price"
   ]
  },
  {
   "cell_type": "code",
   "execution_count": 9,
   "id": "944c94d6",
   "metadata": {},
   "outputs": [],
   "source": [
    "df = df_ALL.iloc[:,4:5]"
   ]
  },
  {
   "cell_type": "code",
   "execution_count": 10,
   "id": "e3584385",
   "metadata": {},
   "outputs": [
    {
     "data": {
      "text/html": [
       "<div>\n",
       "<style scoped>\n",
       "    .dataframe tbody tr th:only-of-type {\n",
       "        vertical-align: middle;\n",
       "    }\n",
       "\n",
       "    .dataframe tbody tr th {\n",
       "        vertical-align: top;\n",
       "    }\n",
       "\n",
       "    .dataframe thead th {\n",
       "        text-align: right;\n",
       "    }\n",
       "</style>\n",
       "<table border=\"1\" class=\"dataframe\">\n",
       "  <thead>\n",
       "    <tr style=\"text-align: right;\">\n",
       "      <th></th>\n",
       "      <th>Close</th>\n",
       "    </tr>\n",
       "  </thead>\n",
       "  <tbody>\n",
       "    <tr>\n",
       "      <th>0</th>\n",
       "      <td>554.481689</td>\n",
       "    </tr>\n",
       "    <tr>\n",
       "      <th>1</th>\n",
       "      <td>550.436829</td>\n",
       "    </tr>\n",
       "    <tr>\n",
       "      <th>2</th>\n",
       "      <td>556.573853</td>\n",
       "    </tr>\n",
       "    <tr>\n",
       "      <th>3</th>\n",
       "      <td>567.303589</td>\n",
       "    </tr>\n",
       "    <tr>\n",
       "      <th>4</th>\n",
       "      <td>568.484192</td>\n",
       "    </tr>\n",
       "  </tbody>\n",
       "</table>\n",
       "</div>"
      ],
      "text/plain": [
       "        Close\n",
       "0  554.481689\n",
       "1  550.436829\n",
       "2  556.573853\n",
       "3  567.303589\n",
       "4  568.484192"
      ]
     },
     "execution_count": 10,
     "metadata": {},
     "output_type": "execute_result"
    }
   ],
   "source": [
    "df.head()"
   ]
  },
  {
   "cell_type": "code",
   "execution_count": 11,
   "id": "4a059614",
   "metadata": {},
   "outputs": [
    {
     "data": {
      "text/plain": [
       "<AxesSubplot:>"
      ]
     },
     "execution_count": 11,
     "metadata": {},
     "output_type": "execute_result"
    },
    {
     "data": {
      "image/png": "[encoded data removed]",
      "text/plain": [
       "<Figure size 864x576 with 1 Axes>"
      ]
     },
     "metadata": {
      "needs_background": "light"
     },
     "output_type": "display_data"
    }
   ],
   "source": [
    "df.plot(figsize=(12, 8))"
   ]
  },
  {
   "cell_type": "code",
   "execution_count": 12,
   "id": "c1c8bdb5",
   "metadata": {},
   "outputs": [],
   "source": [
    "# I am giving Length60=50 as 50 but keeping name as length60\n",
    "length60 = 50"
   ]
  },
  {
   "cell_type": "code",
   "execution_count": 13,
   "id": "367e2374",
   "metadata": {},
   "outputs": [
    {
     "data": {
      "text/plain": [
       "50"
      ]
     },
     "execution_count": 13,
     "metadata": {},
     "output_type": "execute_result"
    }
   ],
   "source": [
    "length60"
   ]
  },
  {
   "cell_type": "code",
   "execution_count": 14,
   "id": "5291cbc6",
   "metadata": {},
   "outputs": [
    {
     "data": {
      "text/plain": [
       "1382"
      ]
     },
     "execution_count": 14,
     "metadata": {},
     "output_type": "execute_result"
    }
   ],
   "source": [
    "len(df)"
   ]
  },
  {
   "cell_type": "code",
   "execution_count": 15,
   "id": "0d526dd1",
   "metadata": {},
   "outputs": [],
   "source": [
    "test_precent = 0.3"
   ]
  },
  {
   "cell_type": "code",
   "execution_count": 16,
   "id": "113321cb",
   "metadata": {},
   "outputs": [
    {
     "data": {
      "text/plain": [
       "414.59999999999997"
      ]
     },
     "execution_count": 16,
     "metadata": {},
     "output_type": "execute_result"
    }
   ],
   "source": [
    "len(df)*test_precent"
   ]
  },
  {
   "cell_type": "code",
   "execution_count": 17,
   "id": "602838b9",
   "metadata": {},
   "outputs": [
    {
     "data": {
      "text/plain": [
       "415.0"
      ]
     },
     "execution_count": 17,
     "metadata": {},
     "output_type": "execute_result"
    }
   ],
   "source": [
    "test_length = np.round(len(df)*test_precent)\n",
    "test_length"
   ]
  },
  {
   "cell_type": "code",
   "execution_count": 18,
   "id": "2fa03e0b",
   "metadata": {},
   "outputs": [
    {
     "data": {
      "text/plain": [
       "967"
      ]
     },
     "execution_count": 18,
     "metadata": {},
     "output_type": "execute_result"
    }
   ],
   "source": [
    "split_index = int(len(df) - test_length)\n",
    "split_index"
   ]
  },
  {
   "cell_type": "code",
   "execution_count": 19,
   "id": "306ead93",
   "metadata": {},
   "outputs": [],
   "source": [
    "data_train = df.iloc[: split_index]\n",
    "data_test = df.iloc[split_index - length60 :]"
   ]
  },
  {
   "cell_type": "code",
   "execution_count": 20,
   "id": "da3c4b9e",
   "metadata": {},
   "outputs": [
    {
     "data": {
      "text/html": [
       "<div>\n",
       "<style scoped>\n",
       "    .dataframe tbody tr th:only-of-type {\n",
       "        vertical-align: middle;\n",
       "    }\n",
       "\n",
       "    .dataframe tbody tr th {\n",
       "        vertical-align: top;\n",
       "    }\n",
       "\n",
       "    .dataframe thead th {\n",
       "        text-align: right;\n",
       "    }\n",
       "</style>\n",
       "<table border=\"1\" class=\"dataframe\">\n",
       "  <thead>\n",
       "    <tr style=\"text-align: right;\">\n",
       "      <th></th>\n",
       "      <th>Close</th>\n",
       "    </tr>\n",
       "  </thead>\n",
       "  <tbody>\n",
       "    <tr>\n",
       "      <th>0</th>\n",
       "      <td>554.481689</td>\n",
       "    </tr>\n",
       "    <tr>\n",
       "      <th>1</th>\n",
       "      <td>550.436829</td>\n",
       "    </tr>\n",
       "    <tr>\n",
       "      <th>2</th>\n",
       "      <td>556.573853</td>\n",
       "    </tr>\n",
       "    <tr>\n",
       "      <th>3</th>\n",
       "      <td>567.303589</td>\n",
       "    </tr>\n",
       "    <tr>\n",
       "      <th>4</th>\n",
       "      <td>568.484192</td>\n",
       "    </tr>\n",
       "  </tbody>\n",
       "</table>\n",
       "</div>"
      ],
      "text/plain": [
       "        Close\n",
       "0  554.481689\n",
       "1  550.436829\n",
       "2  556.573853\n",
       "3  567.303589\n",
       "4  568.484192"
      ]
     },
     "execution_count": 20,
     "metadata": {},
     "output_type": "execute_result"
    }
   ],
   "source": [
    "data_train.head(5)"
   ]
  },
  {
   "cell_type": "code",
   "execution_count": 21,
   "id": "8477e076",
   "metadata": {},
   "outputs": [
    {
     "data": {
      "text/html": [
       "<div>\n",
       "<style scoped>\n",
       "    .dataframe tbody tr th:only-of-type {\n",
       "        vertical-align: middle;\n",
       "    }\n",
       "\n",
       "    .dataframe tbody tr th {\n",
       "        vertical-align: top;\n",
       "    }\n",
       "\n",
       "    .dataframe thead th {\n",
       "        text-align: right;\n",
       "    }\n",
       "</style>\n",
       "<table border=\"1\" class=\"dataframe\">\n",
       "  <thead>\n",
       "    <tr style=\"text-align: right;\">\n",
       "      <th></th>\n",
       "      <th>Close</th>\n",
       "    </tr>\n",
       "  </thead>\n",
       "  <tbody>\n",
       "    <tr>\n",
       "      <th>962</th>\n",
       "      <td>972.559998</td>\n",
       "    </tr>\n",
       "    <tr>\n",
       "      <th>963</th>\n",
       "      <td>1019.270020</td>\n",
       "    </tr>\n",
       "    <tr>\n",
       "      <th>964</th>\n",
       "      <td>1017.109985</td>\n",
       "    </tr>\n",
       "    <tr>\n",
       "      <th>965</th>\n",
       "      <td>1016.640015</td>\n",
       "    </tr>\n",
       "    <tr>\n",
       "      <th>966</th>\n",
       "      <td>1025.500000</td>\n",
       "    </tr>\n",
       "  </tbody>\n",
       "</table>\n",
       "</div>"
      ],
      "text/plain": [
       "           Close\n",
       "962   972.559998\n",
       "963  1019.270020\n",
       "964  1017.109985\n",
       "965  1016.640015\n",
       "966  1025.500000"
      ]
     },
     "execution_count": 21,
     "metadata": {},
     "output_type": "execute_result"
    }
   ],
   "source": [
    "data_train.tail()"
   ]
  },
  {
   "cell_type": "code",
   "execution_count": 22,
   "id": "e4ec153f",
   "metadata": {},
   "outputs": [
    {
     "data": {
      "text/html": [
       "<div>\n",
       "<style scoped>\n",
       "    .dataframe tbody tr th:only-of-type {\n",
       "        vertical-align: middle;\n",
       "    }\n",
       "\n",
       "    .dataframe tbody tr th {\n",
       "        vertical-align: top;\n",
       "    }\n",
       "\n",
       "    .dataframe thead th {\n",
       "        text-align: right;\n",
       "    }\n",
       "</style>\n",
       "<table border=\"1\" class=\"dataframe\">\n",
       "  <thead>\n",
       "    <tr style=\"text-align: right;\">\n",
       "      <th></th>\n",
       "      <th>Close</th>\n",
       "    </tr>\n",
       "  </thead>\n",
       "  <tbody>\n",
       "    <tr>\n",
       "      <th>917</th>\n",
       "      <td>927.000000</td>\n",
       "    </tr>\n",
       "    <tr>\n",
       "      <th>918</th>\n",
       "      <td>921.280029</td>\n",
       "    </tr>\n",
       "    <tr>\n",
       "      <th>919</th>\n",
       "      <td>915.890015</td>\n",
       "    </tr>\n",
       "    <tr>\n",
       "      <th>920</th>\n",
       "      <td>913.809998</td>\n",
       "    </tr>\n",
       "    <tr>\n",
       "      <th>921</th>\n",
       "      <td>921.289978</td>\n",
       "    </tr>\n",
       "  </tbody>\n",
       "</table>\n",
       "</div>"
      ],
      "text/plain": [
       "          Close\n",
       "917  927.000000\n",
       "918  921.280029\n",
       "919  915.890015\n",
       "920  913.809998\n",
       "921  921.289978"
      ]
     },
     "execution_count": 22,
     "metadata": {},
     "output_type": "execute_result"
    }
   ],
   "source": [
    "data_test.head(5)"
   ]
  },
  {
   "cell_type": "code",
   "execution_count": 23,
   "id": "25b5c0a0",
   "metadata": {},
   "outputs": [
    {
     "data": {
      "text/html": [
       "<div>\n",
       "<style scoped>\n",
       "    .dataframe tbody tr th:only-of-type {\n",
       "        vertical-align: middle;\n",
       "    }\n",
       "\n",
       "    .dataframe tbody tr th {\n",
       "        vertical-align: top;\n",
       "    }\n",
       "\n",
       "    .dataframe thead th {\n",
       "        text-align: right;\n",
       "    }\n",
       "</style>\n",
       "<table border=\"1\" class=\"dataframe\">\n",
       "  <thead>\n",
       "    <tr style=\"text-align: right;\">\n",
       "      <th></th>\n",
       "      <th>Close</th>\n",
       "    </tr>\n",
       "  </thead>\n",
       "  <tbody>\n",
       "    <tr>\n",
       "      <th>1377</th>\n",
       "      <td>1115.520020</td>\n",
       "    </tr>\n",
       "    <tr>\n",
       "      <th>1378</th>\n",
       "      <td>1086.349976</td>\n",
       "    </tr>\n",
       "    <tr>\n",
       "      <th>1379</th>\n",
       "      <td>1079.800049</td>\n",
       "    </tr>\n",
       "    <tr>\n",
       "      <th>1380</th>\n",
       "      <td>1076.010010</td>\n",
       "    </tr>\n",
       "    <tr>\n",
       "      <th>1381</th>\n",
       "      <td>1080.910034</td>\n",
       "    </tr>\n",
       "  </tbody>\n",
       "</table>\n",
       "</div>"
      ],
      "text/plain": [
       "            Close\n",
       "1377  1115.520020\n",
       "1378  1086.349976\n",
       "1379  1079.800049\n",
       "1380  1076.010010\n",
       "1381  1080.910034"
      ]
     },
     "execution_count": 23,
     "metadata": {},
     "output_type": "execute_result"
    }
   ],
   "source": [
    "data_test.tail()"
   ]
  },
  {
   "cell_type": "code",
   "execution_count": 24,
   "id": "dc9b1353",
   "metadata": {},
   "outputs": [],
   "source": [
    "scaler = MinMaxScaler()"
   ]
  },
  {
   "cell_type": "code",
   "execution_count": 25,
   "id": "f15498cc",
   "metadata": {},
   "outputs": [
    {
     "data": {
      "text/plain": [
       "MinMaxScaler()"
      ]
     },
     "execution_count": 25,
     "metadata": {},
     "output_type": "execute_result"
    }
   ],
   "source": [
    "scaler.fit(data_train)"
   ]
  },
  {
   "cell_type": "code",
   "execution_count": 26,
   "id": "6eca2044",
   "metadata": {},
   "outputs": [],
   "source": [
    "normalized_train = scaler.transform(data_train)\n",
    "normalized_test = scaler.transform(data_test)"
   ]
  },
  {
   "cell_type": "code",
   "execution_count": 27,
   "id": "c4ae70b9",
   "metadata": {},
   "outputs": [],
   "source": [
    "batch_size30 = 30\n",
    "train_tsGenerator60 = TimeseriesGenerator(normalized_train, normalized_train, length=length60, batch_size=batch_size30)"
   ]
  },
  {
   "cell_type": "code",
   "execution_count": 28,
   "id": "008cd634",
   "metadata": {},
   "outputs": [
    {
     "data": {
      "text/plain": [
       "967"
      ]
     },
     "execution_count": 28,
     "metadata": {},
     "output_type": "execute_result"
    }
   ],
   "source": [
    "len(normalized_train)"
   ]
  },
  {
   "cell_type": "code",
   "execution_count": 29,
   "id": "12c13cc5",
   "metadata": {},
   "outputs": [
    {
     "data": {
      "text/plain": [
       "31"
      ]
     },
     "execution_count": 29,
     "metadata": {},
     "output_type": "execute_result"
    }
   ],
   "source": [
    "len(train_tsGenerator60)"
   ]
  },
  {
   "cell_type": "code",
   "execution_count": 30,
   "id": "32884748",
   "metadata": {},
   "outputs": [],
   "source": [
    "x,y = train_tsGenerator60[0]"
   ]
  },
  {
   "cell_type": "code",
   "execution_count": 31,
   "id": "4b3fdafc",
   "metadata": {},
   "outputs": [],
   "source": [
    "# print(x)"
   ]
  },
  {
   "cell_type": "code",
   "execution_count": 32,
   "id": "356f7c0a",
   "metadata": {},
   "outputs": [],
   "source": [
    "# print(y)"
   ]
  },
  {
   "cell_type": "code",
   "execution_count": 33,
   "id": "8e89efad",
   "metadata": {},
   "outputs": [],
   "source": [
    "n_features = 1"
   ]
  },
  {
   "cell_type": "code",
   "execution_count": 34,
   "id": "72fbcd75",
   "metadata": {},
   "outputs": [
    {
     "name": "stdout",
     "output_type": "stream",
     "text": [
      "WARNING:tensorflow:From /opt/conda/lib/python3.7/site-packages/tensorflow_core/python/ops/resource_variable_ops.py:1630: calling BaseResourceVariable.__init__ (from tensorflow.python.ops.resource_variable_ops) with constraint is deprecated and will be removed in a future version.\n",
      "Instructions for updating:\n",
      "If using Keras pass *_constraint arguments to layers.\n"
     ]
    }
   ],
   "source": [
    "model = Sequential()\n",
    "model.add(LSTM(50, activation='relu', return_sequences=True, input_shape=(length60, n_features)))\n",
    "model.add(Dropout(0.3))\n",
    "model.add(LSTM(units=50, activation='relu', return_sequences=True))\n",
    "model.add(Dropout(0.3))\n",
    "model.add(LSTM(units=50, activation='relu'))\n",
    "model.add(Dense(1))"
   ]
  },
  {
   "cell_type": "code",
   "execution_count": 35,
   "id": "c54cd858",
   "metadata": {},
   "outputs": [
    {
     "name": "stdout",
     "output_type": "stream",
     "text": [
      "Model: \"sequential\"\n",
      "_________________________________________________________________\n",
      "Layer (type)                 Output Shape              Param #   \n",
      "=================================================================\n",
      "lstm (LSTM)                  (None, 50, 50)            10400     \n",
      "_________________________________________________________________\n",
      "dropout (Dropout)            (None, 50, 50)            0         \n",
      "_________________________________________________________________\n",
      "lstm_1 (LSTM)                (None, 50, 50)            20200     \n",
      "_________________________________________________________________\n",
      "dropout_1 (Dropout)          (None, 50, 50)            0         \n",
      "_________________________________________________________________\n",
      "lstm_2 (LSTM)                (None, 50)                20200     \n",
      "_________________________________________________________________\n",
      "dense (Dense)                (None, 1)                 51        \n",
      "=================================================================\n",
      "Total params: 50,851\n",
      "Trainable params: 50,851\n",
      "Non-trainable params: 0\n",
      "_________________________________________________________________\n"
     ]
    }
   ],
   "source": [
    "model.compile(optimizer='adam', loss='mse')\n",
    "model.summary()"
   ]
  },
  {
   "cell_type": "markdown",
   "id": "67b9ce54",
   "metadata": {},
   "source": [
    "Train (Fit) Model Using fit_generator()"
   ]
  },
  {
   "cell_type": "code",
   "execution_count": 36,
   "id": "6f3799b6",
   "metadata": {},
   "outputs": [
    {
     "name": "stdout",
     "output_type": "stream",
     "text": [
      "Epoch 1/80\n",
      "WARNING:tensorflow:From /opt/conda/lib/python3.7/site-packages/tensorflow_core/python/ops/math_grad.py:1424: where (from tensorflow.python.ops.array_ops) is deprecated and will be removed in a future version.\n",
      "Instructions for updating:\n",
      "Use tf.where in 2.0, which has the same broadcast rule as np.where\n",
      "WARNING:tensorflow:OMP_NUM_THREADS is no longer used by the default Keras config. To configure the number of threads, use tf.config.threading APIs.\n"
     ]
    },
    {
     "name": "stderr",
     "output_type": "stream",
     "text": [
      "\n",
      "User settings:\n",
      "\n",
      "   KMP_AFFINITY=granularity=fine,verbose,compact,1,0\n",
      "   KMP_BLOCKTIME=0\n",
      "   KMP_DUPLICATE_LIB_OK=True\n",
      "   KMP_INIT_AT_FORK=FALSE\n",
      "   KMP_SETTINGS=1\n",
      "   OMP_NUM_THREADS=8\n",
      "\n",
      "Effective settings:\n",
      "\n",
      "   KMP_ABORT_DELAY=0\n",
      "   KMP_ADAPTIVE_LOCK_PROPS='1,1024'\n",
      "   KMP_ALIGN_ALLOC=64\n",
      "   KMP_ALL_THREADPRIVATE=128\n",
      "   KMP_ATOMIC_MODE=2\n",
      "   KMP_BLOCKTIME=0\n",
      "   KMP_CPUINFO_FILE: value is not defined\n",
      "   KMP_DETERMINISTIC_REDUCTION=false\n",
      "   KMP_DEVICE_THREAD_LIMIT=2147483647\n",
      "   KMP_DISP_HAND_THREAD=false\n",
      "   KMP_DISP_NUM_BUFFERS=7\n",
      "   KMP_DUPLICATE_LIB_OK=true\n",
      "   KMP_FORCE_REDUCTION: value is not defined\n",
      "   KMP_FOREIGN_THREADS_THREADPRIVATE=true\n",
      "   KMP_FORKJOIN_BARRIER='2,2'\n",
      "   KMP_FORKJOIN_BARRIER_PATTERN='hyper,hyper'\n",
      "   KMP_FORKJOIN_FRAMES=true\n",
      "   KMP_FORKJOIN_FRAMES_MODE=3\n",
      "   KMP_GTID_MODE=3\n",
      "   KMP_HANDLE_SIGNALS=false\n",
      "   KMP_HOT_TEAMS_MAX_LEVEL=1\n",
      "   KMP_HOT_TEAMS_MODE=0\n",
      "   KMP_INIT_AT_FORK=true\n",
      "   KMP_ITT_PREPARE_DELAY=0\n",
      "   KMP_LIBRARY=throughput\n",
      "   KMP_LOCK_KIND=queuing\n",
      "   KMP_MALLOC_POOL_INCR=1M\n",
      "   KMP_MWAIT_HINTS=0\n",
      "   KMP_NUM_LOCKS_IN_BLOCK=1\n",
      "   KMP_PLAIN_BARRIER='2,2'\n",
      "   KMP_PLAIN_BARRIER_PATTERN='hyper,hyper'\n",
      "   KMP_REDUCTION_BARRIER='1,1'\n",
      "   KMP_REDUCTION_BARRIER_PATTERN='hyper,hyper'\n",
      "   KMP_SCHEDULE='static,balanced;guided,iterative'\n",
      "   KMP_SETTINGS=true\n",
      "   KMP_SPIN_BACKOFF_PARAMS='4096,100'\n",
      "   KMP_STACKOFFSET=64\n",
      "   KMP_STACKPAD=0\n",
      "   KMP_STACKSIZE=8M\n",
      "   KMP_STORAGE_MAP=false\n",
      "   KMP_TASKING=2\n",
      "   KMP_TASKLOOP_MIN_TASKS=0\n",
      "   KMP_TASK_STEALING_CONSTRAINT=1\n",
      "   KMP_TEAMS_THREAD_LIMIT=8\n",
      "   KMP_TOPOLOGY_METHOD=all\n",
      "   KMP_USER_LEVEL_MWAIT=false\n",
      "   KMP_USE_YIELD=1\n",
      "   KMP_VERSION=false\n",
      "   KMP_WARNINGS=true\n",
      "   OMP_AFFINITY_FORMAT='OMP: pid %P tid %i thread %n bound to OS proc set {%A}'\n",
      "   OMP_ALLOCATOR=omp_default_mem_alloc\n",
      "   OMP_CANCELLATION=false\n",
      "   OMP_DEBUG=disabled\n",
      "   OMP_DEFAULT_DEVICE=0\n",
      "   OMP_DISPLAY_AFFINITY=false\n",
      "   OMP_DISPLAY_ENV=false\n",
      "   OMP_DYNAMIC=false\n",
      "   OMP_MAX_ACTIVE_LEVELS=2147483647\n",
      "   OMP_MAX_TASK_PRIORITY=0\n",
      "   OMP_NESTED=false\n",
      "   OMP_NUM_THREADS='8'\n",
      "   OMP_PLACES: value is not defined\n",
      "   OMP_PROC_BIND='intel'\n",
      "   OMP_SCHEDULE='static'\n",
      "   OMP_STACKSIZE=8M\n",
      "   OMP_TARGET_OFFLOAD=DEFAULT\n",
      "   OMP_THREAD_LIMIT=2147483647\n",
      "   OMP_TOOL=enabled\n",
      "   OMP_TOOL_LIBRARIES: value is not defined\n",
      "   OMP_WAIT_POLICY=PASSIVE\n",
      "   KMP_AFFINITY='verbose,warnings,respect,granularity=fine,compact,1,0'\n",
      "\n",
      "2022-03-05 06:48:07.284392: I tensorflow/core/platform/profile_utils/cpu_utils.cc:94] CPU Frequency: 2299995000 Hz\n",
      "2022-03-05 06:48:07.285672: I tensorflow/compiler/xla/service/service.cc:168] XLA service 0x562d95f9a9e0 initialized for platform Host (this does not guarantee that XLA will be used). Devices:\n",
      "2022-03-05 06:48:07.285705: I tensorflow/compiler/xla/service/service.cc:176]   StreamExecutor device (0): Host, Default Version\n",
      "2022-03-05 06:48:07.286700: I tensorflow/core/common_runtime/process_util.cc:136] Creating new thread pool with default inter op setting: 2. Tune using inter_op_parallelism_threads for best performance.\n",
      "OMP: Info #212: KMP_AFFINITY: decoding x2APIC ids.\n",
      "OMP: Info #210: KMP_AFFINITY: Affinity capable, using global cpuid leaf 11 info\n",
      "OMP: Info #154: KMP_AFFINITY: Initial OS proc set respected: 0-7\n",
      "OMP: Info #156: KMP_AFFINITY: 8 available OS procs\n",
      "OMP: Info #157: KMP_AFFINITY: Uniform topology\n",
      "OMP: Info #179: KMP_AFFINITY: 1 packages x 4 cores/pkg x 2 threads/core (4 total cores)\n",
      "OMP: Info #214: KMP_AFFINITY: OS proc to physical thread map:\n",
      "OMP: Info #171: KMP_AFFINITY: OS proc 0 maps to package 0 core 0 thread 0 \n",
      "OMP: Info #171: KMP_AFFINITY: OS proc 4 maps to package 0 core 0 thread 1 \n",
      "OMP: Info #171: KMP_AFFINITY: OS proc 1 maps to package 0 core 1 thread 0 \n",
      "OMP: Info #171: KMP_AFFINITY: OS proc 5 maps to package 0 core 1 thread 1 \n",
      "OMP: Info #171: KMP_AFFINITY: OS proc 2 maps to package 0 core 2 thread 0 \n",
      "OMP: Info #171: KMP_AFFINITY: OS proc 6 maps to package 0 core 2 thread 1 \n",
      "OMP: Info #171: KMP_AFFINITY: OS proc 3 maps to package 0 core 3 thread 0 \n",
      "OMP: Info #171: KMP_AFFINITY: OS proc 7 maps to package 0 core 3 thread 1 \n",
      "OMP: Info #250: KMP_AFFINITY: pid 1424 tid 1479 thread 0 bound to OS proc set 0\n",
      "OMP: Info #250: KMP_AFFINITY: pid 1424 tid 1480 thread 1 bound to OS proc set 1\n",
      "OMP: Info #250: KMP_AFFINITY: pid 1424 tid 1479 thread 2 bound to OS proc set 2\n",
      "OMP: Info #250: KMP_AFFINITY: pid 1424 tid 1482 thread 3 bound to OS proc set 3\n",
      "OMP: Info #250: KMP_AFFINITY: pid 1424 tid 1483 thread 4 bound to OS proc set 4\n",
      "OMP: Info #250: KMP_AFFINITY: pid 1424 tid 1484 thread 5 bound to OS proc set 5\n",
      "OMP: Info #250: KMP_AFFINITY: pid 1424 tid 1485 thread 6 bound to OS proc set 6\n",
      "OMP: Info #250: KMP_AFFINITY: pid 1424 tid 1486 thread 7 bound to OS proc set 7\n",
      "OMP: Info #250: KMP_AFFINITY: pid 1424 tid 1487 thread 8 bound to OS proc set 0\n",
      "OMP: Info #250: KMP_AFFINITY: pid 1424 tid 1489 thread 10 bound to OS proc set 2\n",
      "OMP: Info #250: KMP_AFFINITY: pid 1424 tid 1488 thread 9 bound to OS proc set 1\n",
      "OMP: Info #250: KMP_AFFINITY: pid 1424 tid 1490 thread 11 bound to OS proc set 3\n",
      "OMP: Info #250: KMP_AFFINITY: pid 1424 tid 1491 thread 12 bound to OS proc set 4\n",
      "OMP: Info #250: KMP_AFFINITY: pid 1424 tid 1492 thread 13 bound to OS proc set 5\n",
      "OMP: Info #250: KMP_AFFINITY: pid 1424 tid 1493 thread 14 bound to OS proc set 6\n",
      "OMP: Info #250: KMP_AFFINITY: pid 1424 tid 1494 thread 15 bound to OS proc set 7\n",
      "OMP: Info #250: KMP_AFFINITY: pid 1424 tid 1495 thread 16 bound to OS proc set 0\n"
     ]
    },
    {
     "name": "stdout",
     "output_type": "stream",
     "text": [
      "31/31 [==============================] - 17s 543ms/step - loss: 0.0831\n",
      "Epoch 2/80\n",
      "31/31 [==============================] - 10s 322ms/step - loss: 0.0185\n",
      "Epoch 3/80\n",
      "31/31 [==============================] - 10s 318ms/step - loss: 0.0113\n",
      "Epoch 4/80\n",
      "31/31 [==============================] - 10s 317ms/step - loss: 0.0054\n",
      "Epoch 5/80\n",
      "31/31 [==============================] - 10s 319ms/step - loss: 0.0063\n",
      "Epoch 6/80\n",
      "31/31 [==============================] - 10s 322ms/step - loss: 0.0060\n",
      "Epoch 7/80\n",
      "31/31 [==============================] - 10s 318ms/step - loss: 0.0071\n",
      "Epoch 8/80\n",
      "31/31 [==============================] - 10s 317ms/step - loss: 0.0037\n",
      "Epoch 9/80\n",
      "31/31 [==============================] - 10s 319ms/step - loss: 0.0034\n",
      "Epoch 10/80\n",
      "31/31 [==============================] - 10s 317ms/step - loss: 0.0041\n",
      "Epoch 11/80\n",
      "31/31 [==============================] - 10s 315ms/step - loss: 0.0036\n",
      "Epoch 12/80\n",
      "31/31 [==============================] - 10s 316ms/step - loss: 0.0085\n",
      "Epoch 13/80\n",
      "31/31 [==============================] - 10s 319ms/step - loss: 0.0049\n",
      "Epoch 14/80\n",
      "31/31 [==============================] - 10s 317ms/step - loss: 0.0035\n",
      "Epoch 15/80\n",
      "31/31 [==============================] - 10s 319ms/step - loss: 0.0031\n",
      "Epoch 16/80\n",
      "31/31 [==============================] - 10s 315ms/step - loss: 0.0045\n",
      "Epoch 17/80\n",
      "31/31 [==============================] - 10s 316ms/step - loss: 0.0027\n",
      "Epoch 18/80\n",
      "31/31 [==============================] - 10s 319ms/step - loss: 0.0029\n",
      "Epoch 19/80\n",
      "31/31 [==============================] - 10s 315ms/step - loss: 0.0038\n",
      "Epoch 20/80\n",
      "31/31 [==============================] - 10s 307ms/step - loss: 0.0034\n",
      "Epoch 21/80\n",
      "31/31 [==============================] - 10s 314ms/step - loss: 0.0028\n",
      "Epoch 22/80\n",
      "31/31 [==============================] - 10s 316ms/step - loss: 0.0026\n",
      "Epoch 23/80\n",
      "31/31 [==============================] - 10s 325ms/step - loss: 0.0074\n",
      "Epoch 24/80\n",
      "31/31 [==============================] - 10s 332ms/step - loss: 0.0047\n",
      "Epoch 25/80\n",
      "31/31 [==============================] - 10s 316ms/step - loss: 0.0042\n",
      "Epoch 26/80\n",
      "31/31 [==============================] - 10s 313ms/step - loss: 0.0034\n",
      "Epoch 27/80\n",
      "31/31 [==============================] - 10s 319ms/step - loss: 0.0032\n",
      "Epoch 28/80\n",
      "31/31 [==============================] - 10s 311ms/step - loss: 0.0031\n",
      "Epoch 29/80\n",
      "31/31 [==============================] - 10s 317ms/step - loss: 0.0027\n",
      "Epoch 30/80\n",
      "31/31 [==============================] - 10s 320ms/step - loss: 0.0024\n",
      "Epoch 31/80\n",
      "31/31 [==============================] - 10s 317ms/step - loss: 0.0031\n",
      "Epoch 32/80\n",
      "31/31 [==============================] - 10s 316ms/step - loss: 0.0029\n",
      "Epoch 33/80\n",
      "31/31 [==============================] - 10s 315ms/step - loss: 0.0037\n",
      "Epoch 34/80\n",
      "31/31 [==============================] - 10s 317ms/step - loss: 0.0025\n",
      "Epoch 35/80\n",
      "31/31 [==============================] - 10s 317ms/step - loss: 0.0028\n",
      "Epoch 36/80\n",
      "31/31 [==============================] - 10s 316ms/step - loss: 0.0026\n",
      "Epoch 37/80\n",
      "31/31 [==============================] - 10s 319ms/step - loss: 0.0027\n",
      "Epoch 38/80\n",
      "31/31 [==============================] - 10s 322ms/step - loss: 0.0027\n",
      "Epoch 39/80\n",
      "31/31 [==============================] - 10s 322ms/step - loss: 0.0036\n",
      "Epoch 40/80\n",
      "31/31 [==============================] - 10s 324ms/step - loss: 0.0025\n",
      "Epoch 41/80\n",
      "31/31 [==============================] - 10s 326ms/step - loss: 0.0021\n",
      "Epoch 42/80\n",
      "31/31 [==============================] - 10s 326ms/step - loss: 0.0023\n",
      "Epoch 43/80\n",
      "31/31 [==============================] - 11s 346ms/step - loss: 0.0029\n",
      "Epoch 44/80\n",
      "31/31 [==============================] - 10s 338ms/step - loss: 0.0033\n",
      "Epoch 45/80\n",
      "31/31 [==============================] - 11s 347ms/step - loss: 0.0033\n",
      "Epoch 46/80\n",
      "31/31 [==============================] - 11s 351ms/step - loss: 0.0032\n",
      "Epoch 47/80\n",
      "31/31 [==============================] - 11s 347ms/step - loss: 0.0020\n",
      "Epoch 48/80\n",
      "31/31 [==============================] - 10s 332ms/step - loss: 0.0025\n",
      "Epoch 49/80\n",
      "31/31 [==============================] - 10s 333ms/step - loss: 0.0029\n",
      "Epoch 50/80\n",
      "31/31 [==============================] - 10s 329ms/step - loss: 0.0029\n",
      "Epoch 51/80\n",
      "31/31 [==============================] - 10s 329ms/step - loss: 0.0032\n",
      "Epoch 52/80\n",
      "31/31 [==============================] - 10s 320ms/step - loss: 0.0029\n",
      "Epoch 53/80\n",
      "31/31 [==============================] - 10s 327ms/step - loss: 0.0025\n",
      "Epoch 54/80\n",
      "31/31 [==============================] - 11s 340ms/step - loss: 0.0024\n",
      "Epoch 55/80\n",
      "31/31 [==============================] - 10s 337ms/step - loss: 0.0021\n",
      "Epoch 56/80\n",
      "31/31 [==============================] - 10s 325ms/step - loss: 0.0030\n",
      "Epoch 57/80\n",
      "31/31 [==============================] - 10s 327ms/step - loss: 0.0026\n",
      "Epoch 58/80\n",
      "31/31 [==============================] - 10s 329ms/step - loss: 0.0024\n",
      "Epoch 59/80\n",
      "31/31 [==============================] - 10s 330ms/step - loss: 0.0037\n",
      "Epoch 60/80\n",
      "31/31 [==============================] - 10s 322ms/step - loss: 0.0021\n",
      "Epoch 61/80\n",
      "31/31 [==============================] - 10s 329ms/step - loss: 0.0020\n",
      "Epoch 62/80\n",
      "31/31 [==============================] - 10s 329ms/step - loss: 0.0025\n",
      "Epoch 63/80\n",
      "31/31 [==============================] - 10s 328ms/step - loss: 0.0021\n",
      "Epoch 64/80\n",
      "31/31 [==============================] - 10s 327ms/step - loss: 0.0024\n",
      "Epoch 65/80\n",
      "31/31 [==============================] - 10s 329ms/step - loss: 0.0022\n",
      "Epoch 66/80\n",
      "31/31 [==============================] - 10s 329ms/step - loss: 0.0019\n",
      "Epoch 67/80\n",
      "31/31 [==============================] - 10s 326ms/step - loss: 0.0021\n",
      "Epoch 68/80\n",
      "31/31 [==============================] - 10s 322ms/step - loss: 0.0020\n",
      "Epoch 69/80\n",
      "31/31 [==============================] - 10s 329ms/step - loss: 0.0017\n",
      "Epoch 70/80\n",
      "31/31 [==============================] - 10s 327ms/step - loss: 0.0024\n",
      "Epoch 71/80\n",
      "31/31 [==============================] - 10s 327ms/step - loss: 0.0021\n",
      "Epoch 72/80\n",
      "31/31 [==============================] - 10s 329ms/step - loss: 0.0021\n",
      "Epoch 73/80\n",
      "31/31 [==============================] - 10s 333ms/step - loss: 0.0036\n",
      "Epoch 74/80\n",
      "31/31 [==============================] - 10s 331ms/step - loss: 0.0022\n",
      "Epoch 75/80\n",
      "31/31 [==============================] - 10s 326ms/step - loss: 0.0022\n",
      "Epoch 76/80\n",
      "31/31 [==============================] - 10s 324ms/step - loss: 0.0019\n",
      "Epoch 77/80\n",
      "31/31 [==============================] - 10s 332ms/step - loss: 0.0019\n",
      "Epoch 78/80\n",
      "31/31 [==============================] - 10s 326ms/step - loss: 0.0019\n",
      "Epoch 79/80\n",
      "31/31 [==============================] - 10s 326ms/step - loss: 0.0021\n",
      "Epoch 80/80\n",
      "31/31 [==============================] - 10s 326ms/step - loss: 0.0017\n"
     ]
    },
    {
     "data": {
      "text/plain": [
       "<tensorflow.python.keras.callbacks.History at 0x7fca1a8d99d0>"
      ]
     },
     "execution_count": 36,
     "metadata": {},
     "output_type": "execute_result"
    }
   ],
   "source": [
    "model.fit_generator(train_tsGenerator60, epochs=80)"
   ]
  },
  {
   "cell_type": "markdown",
   "id": "3e506e36",
   "metadata": {},
   "source": [
    "### Visualize Model's Performance after Training"
   ]
  },
  {
   "cell_type": "code",
   "execution_count": 37,
   "id": "e0f91dce",
   "metadata": {},
   "outputs": [
    {
     "data": {
      "text/plain": [
       "dict_keys(['loss'])"
      ]
     },
     "execution_count": 37,
     "metadata": {},
     "output_type": "execute_result"
    }
   ],
   "source": [
    "loss_history_keys = model.history.history.keys()\n",
    "loss_history_keys"
   ]
  },
  {
   "cell_type": "code",
   "execution_count": 38,
   "id": "76d23a6e",
   "metadata": {},
   "outputs": [
    {
     "data": {
      "text/plain": [
       "<AxesSubplot:>"
      ]
     },
     "execution_count": 38,
     "metadata": {},
     "output_type": "execute_result"
    },
    {
     "data": {
      "image/png": "[encoded data removed]",
      "text/plain": [
       "<Figure size 432x288 with 1 Axes>"
      ]
     },
     "metadata": {
      "needs_background": "light"
     },
     "output_type": "display_data"
    }
   ],
   "source": [
    "df_model_loss = pd.DataFrame(model.history.history)\n",
    "df_model_loss.plot()"
   ]
  },
  {
   "cell_type": "markdown",
   "id": "ede84e84",
   "metadata": {},
   "source": [
    "### Prediciton for Testing: Using TimeseriesGenerator\n",
    "#### Create TimeseriesGenerator for Testing"
   ]
  },
  {
   "cell_type": "code",
   "execution_count": 39,
   "id": "1b2c3db0",
   "metadata": {},
   "outputs": [],
   "source": [
    "batch_size1 = 1\n",
    "test_tsGenerator60 = TimeseriesGenerator(normalized_test, normalized_test, length=length60, batch_size=batch_size1)"
   ]
  },
  {
   "cell_type": "markdown",
   "id": "c0b41953",
   "metadata": {},
   "source": [
    "### predict Future Data Points for Testing"
   ]
  },
  {
   "cell_type": "code",
   "execution_count": 40,
   "id": "9d55c5e8",
   "metadata": {},
   "outputs": [],
   "source": [
    "normalized_prediction = model.predict_generator (test_tsGenerator60) "
   ]
  },
  {
   "cell_type": "code",
   "execution_count": 41,
   "id": "4a0f9a93",
   "metadata": {},
   "outputs": [
    {
     "data": {
      "text/plain": [
       "array([[0.85004556],\n",
       "       [0.85860085],\n",
       "       [0.86753345],\n",
       "       [0.87564385],\n",
       "       [0.88297284],\n",
       "       [0.88983154],\n",
       "       [0.8954276 ],\n",
       "       [0.8993981 ],\n",
       "       [0.9018049 ],\n",
       "       [0.90301263],\n",
       "       [0.90307605],\n",
       "       [0.9030746 ],\n",
       "       [0.9025104 ],\n",
       "       [0.9014102 ],\n",
       "       [0.901003  ],\n",
       "       [0.90168357],\n",
       "       [0.90360725],\n",
       "       [0.90738547],\n",
       "       [0.91196406],\n",
       "       [0.914765  ],\n",
       "       [0.9155702 ],\n",
       "       [0.9140444 ],\n",
       "       [0.91004854],\n",
       "       [0.90479976],\n",
       "       [0.90004665],\n",
       "       [0.89719343],\n",
       "       [0.89693093],\n",
       "       [0.89905155],\n",
       "       [0.9026811 ],\n",
       "       [0.90696084],\n",
       "       [0.9118602 ],\n",
       "       [0.9179706 ],\n",
       "       [0.92563283],\n",
       "       [0.93369794],\n",
       "       [0.9408714 ],\n",
       "       [0.9465414 ],\n",
       "       [0.950488  ],\n",
       "       [0.9527278 ],\n",
       "       [0.95315033],\n",
       "       [0.95212835],\n",
       "       [0.95010436],\n",
       "       [0.9487644 ],\n",
       "       [0.94967675],\n",
       "       [0.9530643 ],\n",
       "       [0.9591821 ],\n",
       "       [0.9673803 ],\n",
       "       [0.9764512 ],\n",
       "       [0.98500687],\n",
       "       [0.99256045],\n",
       "       [1.0001143 ],\n",
       "       [1.0074232 ],\n",
       "       [1.014896  ],\n",
       "       [1.0219772 ],\n",
       "       [1.0288705 ],\n",
       "       [1.036639  ],\n",
       "       [1.0459163 ],\n",
       "       [1.055468  ],\n",
       "       [1.0648613 ],\n",
       "       [1.073957  ],\n",
       "       [1.0823197 ],\n",
       "       [1.0888312 ],\n",
       "       [1.0938067 ],\n",
       "       [1.0973728 ],\n",
       "       [1.0961242 ],\n",
       "       [1.0881231 ],\n",
       "       [1.0762136 ],\n",
       "       [1.0611286 ],\n",
       "       [1.0424895 ],\n",
       "       [1.0226612 ],\n",
       "       [1.004046  ],\n",
       "       [0.98787403],\n",
       "       [0.9758017 ],\n",
       "       [0.96894324],\n",
       "       [0.96750045],\n",
       "       [0.97061163],\n",
       "       [0.9772105 ],\n",
       "       [0.9854226 ],\n",
       "       [0.99516857],\n",
       "       [1.0064996 ],\n",
       "       [1.0165149 ],\n",
       "       [1.0235128 ],\n",
       "       [1.0252513 ],\n",
       "       [1.0230688 ],\n",
       "       [1.0192537 ],\n",
       "       [1.0153539 ],\n",
       "       [1.012993  ],\n",
       "       [1.0133922 ],\n",
       "       [1.0183581 ],\n",
       "       [1.0272157 ],\n",
       "       [1.0363828 ],\n",
       "       [1.0452354 ],\n",
       "       [1.0532429 ],\n",
       "       [1.0591936 ],\n",
       "       [1.0606681 ],\n",
       "       [1.0580622 ],\n",
       "       [1.052276  ],\n",
       "       [1.0426645 ],\n",
       "       [1.0293577 ],\n",
       "       [1.014908  ],\n",
       "       [0.9988321 ],\n",
       "       [0.9817464 ],\n",
       "       [0.96575   ],\n",
       "       [0.9508391 ],\n",
       "       [0.93772495],\n",
       "       [0.9272685 ],\n",
       "       [0.9197885 ],\n",
       "       [0.91377586],\n",
       "       [0.90916693],\n",
       "       [0.90680313],\n",
       "       [0.9056334 ],\n",
       "       [0.9059786 ],\n",
       "       [0.9071841 ],\n",
       "       [0.9093835 ],\n",
       "       [0.91441983],\n",
       "       [0.9216864 ],\n",
       "       [0.9310322 ],\n",
       "       [0.9404067 ],\n",
       "       [0.94831836],\n",
       "       [0.9511806 ],\n",
       "       [0.9494463 ],\n",
       "       [0.94568807],\n",
       "       [0.9407134 ],\n",
       "       [0.93456054],\n",
       "       [0.92912334],\n",
       "       [0.92420167],\n",
       "       [0.9198318 ],\n",
       "       [0.917634  ],\n",
       "       [0.9182337 ],\n",
       "       [0.9209285 ],\n",
       "       [0.9266579 ],\n",
       "       [0.93542564],\n",
       "       [0.94609624],\n",
       "       [0.957487  ],\n",
       "       [0.9668416 ],\n",
       "       [0.97375345],\n",
       "       [0.97830087],\n",
       "       [0.9801274 ],\n",
       "       [0.98065245],\n",
       "       [0.979987  ],\n",
       "       [0.9791937 ],\n",
       "       [0.9786322 ],\n",
       "       [0.9781866 ],\n",
       "       [0.976866  ],\n",
       "       [0.9751899 ],\n",
       "       [0.97455734],\n",
       "       [0.9772979 ],\n",
       "       [0.9843416 ],\n",
       "       [0.9945334 ],\n",
       "       [1.0060893 ],\n",
       "       [1.0165001 ],\n",
       "       [1.0247327 ],\n",
       "       [1.0313653 ],\n",
       "       [1.0372685 ],\n",
       "       [1.042309  ],\n",
       "       [1.0476143 ],\n",
       "       [1.0531826 ],\n",
       "       [1.0600936 ],\n",
       "       [1.0675937 ],\n",
       "       [1.0750912 ],\n",
       "       [1.0812478 ],\n",
       "       [1.0856227 ],\n",
       "       [1.086356  ],\n",
       "       [1.0835379 ],\n",
       "       [1.0775441 ],\n",
       "       [1.0702999 ],\n",
       "       [1.0630894 ],\n",
       "       [1.0572908 ],\n",
       "       [1.0519115 ],\n",
       "       [1.048088  ],\n",
       "       [1.046985  ],\n",
       "       [1.0491294 ],\n",
       "       [1.0536973 ],\n",
       "       [1.0596583 ],\n",
       "       [1.0679628 ],\n",
       "       [1.0781493 ],\n",
       "       [1.0885673 ],\n",
       "       [1.0992646 ],\n",
       "       [1.1093867 ],\n",
       "       [1.1177202 ],\n",
       "       [1.1238428 ],\n",
       "       [1.1292937 ],\n",
       "       [1.1370015 ],\n",
       "       [1.1478424 ],\n",
       "       [1.1610833 ],\n",
       "       [1.1730516 ],\n",
       "       [1.1812981 ],\n",
       "       [1.1855922 ],\n",
       "       [1.1869498 ],\n",
       "       [1.1868465 ],\n",
       "       [1.1859937 ],\n",
       "       [1.1849914 ],\n",
       "       [1.1853137 ],\n",
       "       [1.1872585 ],\n",
       "       [1.1906441 ],\n",
       "       [1.1941233 ],\n",
       "       [1.1969811 ],\n",
       "       [1.1995304 ],\n",
       "       [1.2003865 ],\n",
       "       [1.1991513 ],\n",
       "       [1.1960678 ],\n",
       "       [1.1920865 ],\n",
       "       [1.1876192 ],\n",
       "       [1.1834197 ],\n",
       "       [1.1797304 ],\n",
       "       [1.1774585 ],\n",
       "       [1.1777472 ],\n",
       "       [1.1798111 ],\n",
       "       [1.184071  ],\n",
       "       [1.1891143 ],\n",
       "       [1.1926949 ],\n",
       "       [1.1934087 ],\n",
       "       [1.1910143 ],\n",
       "       [1.1857411 ],\n",
       "       [1.1781821 ],\n",
       "       [1.1692455 ],\n",
       "       [1.1603831 ],\n",
       "       [1.1517744 ],\n",
       "       [1.1444244 ],\n",
       "       [1.1385137 ],\n",
       "       [1.1331148 ],\n",
       "       [1.1282895 ],\n",
       "       [1.124614  ],\n",
       "       [1.1229762 ],\n",
       "       [1.1220517 ],\n",
       "       [1.1217859 ],\n",
       "       [1.1226983 ],\n",
       "       [1.1242746 ],\n",
       "       [1.127017  ],\n",
       "       [1.1304989 ],\n",
       "       [1.1343284 ],\n",
       "       [1.1383845 ],\n",
       "       [1.1425265 ],\n",
       "       [1.1441898 ],\n",
       "       [1.1426762 ],\n",
       "       [1.1384199 ],\n",
       "       [1.1318624 ],\n",
       "       [1.1215289 ],\n",
       "       [1.1079029 ],\n",
       "       [1.0935628 ],\n",
       "       [1.0792848 ],\n",
       "       [1.0671239 ],\n",
       "       [1.0577111 ],\n",
       "       [1.0495105 ],\n",
       "       [1.0424803 ],\n",
       "       [1.0367937 ],\n",
       "       [1.0325891 ],\n",
       "       [1.0267714 ],\n",
       "       [1.021418  ],\n",
       "       [1.0159532 ],\n",
       "       [1.0077244 ],\n",
       "       [0.99775934],\n",
       "       [0.9891772 ],\n",
       "       [0.9827512 ],\n",
       "       [0.97780013],\n",
       "       [0.9728416 ],\n",
       "       [0.9686224 ],\n",
       "       [0.96748966],\n",
       "       [0.9688987 ],\n",
       "       [0.97071314],\n",
       "       [0.97048914],\n",
       "       [0.9678478 ],\n",
       "       [0.96386325],\n",
       "       [0.9606696 ],\n",
       "       [0.9586204 ],\n",
       "       [0.955014  ],\n",
       "       [0.9500171 ],\n",
       "       [0.9449545 ],\n",
       "       [0.9395777 ],\n",
       "       [0.93569446],\n",
       "       [0.9333356 ],\n",
       "       [0.9348591 ],\n",
       "       [0.9399879 ],\n",
       "       [0.9478699 ],\n",
       "       [0.9578897 ],\n",
       "       [0.96463543],\n",
       "       [0.9688395 ],\n",
       "       [0.968976  ],\n",
       "       [0.96592426],\n",
       "       [0.96169233],\n",
       "       [0.9581278 ],\n",
       "       [0.9556771 ],\n",
       "       [0.9530923 ],\n",
       "       [0.9485736 ],\n",
       "       [0.94308317],\n",
       "       [0.9370229 ],\n",
       "       [0.93010664],\n",
       "       [0.9210819 ],\n",
       "       [0.91036975],\n",
       "       [0.9022434 ],\n",
       "       [0.89839447],\n",
       "       [0.8982033 ],\n",
       "       [0.90040946],\n",
       "       [0.9046087 ],\n",
       "       [0.9076295 ],\n",
       "       [0.9125029 ],\n",
       "       [0.9191361 ],\n",
       "       [0.92729235],\n",
       "       [0.9359744 ],\n",
       "       [0.9439546 ],\n",
       "       [0.9496544 ],\n",
       "       [0.9523368 ],\n",
       "       [0.9545154 ],\n",
       "       [0.9572023 ],\n",
       "       [0.9611659 ],\n",
       "       [0.9666742 ],\n",
       "       [0.9710009 ],\n",
       "       [0.97404516],\n",
       "       [0.9758258 ],\n",
       "       [0.977708  ],\n",
       "       [0.9786405 ],\n",
       "       [0.9779736 ],\n",
       "       [0.97780454],\n",
       "       [0.98032594],\n",
       "       [0.98516214],\n",
       "       [0.9928095 ],\n",
       "       [1.0030537 ],\n",
       "       [1.012309  ],\n",
       "       [1.0185473 ],\n",
       "       [1.021527  ],\n",
       "       [1.0219057 ],\n",
       "       [1.0222594 ],\n",
       "       [1.0232595 ],\n",
       "       [1.0250375 ],\n",
       "       [1.0268532 ],\n",
       "       [1.0287567 ],\n",
       "       [1.0303267 ],\n",
       "       [1.0304173 ],\n",
       "       [1.0299724 ],\n",
       "       [1.0293596 ],\n",
       "       [1.029153  ],\n",
       "       [1.0295001 ],\n",
       "       [1.0305548 ],\n",
       "       [1.033491  ],\n",
       "       [1.0384781 ],\n",
       "       [1.0457903 ],\n",
       "       [1.0540799 ],\n",
       "       [1.0613252 ],\n",
       "       [1.0668684 ],\n",
       "       [1.0728664 ],\n",
       "       [1.0805669 ],\n",
       "       [1.0895714 ],\n",
       "       [1.0984187 ],\n",
       "       [1.1062452 ],\n",
       "       [1.1126716 ],\n",
       "       [1.118604  ],\n",
       "       [1.125815  ],\n",
       "       [1.1345814 ],\n",
       "       [1.1423672 ],\n",
       "       [1.1475527 ],\n",
       "       [1.1496074 ],\n",
       "       [1.1484085 ],\n",
       "       [1.1447983 ],\n",
       "       [1.1401978 ],\n",
       "       [1.1366309 ],\n",
       "       [1.1351423 ],\n",
       "       [1.1359882 ],\n",
       "       [1.1391978 ],\n",
       "       [1.1434816 ],\n",
       "       [1.147762  ],\n",
       "       [1.1510904 ],\n",
       "       [1.1536168 ],\n",
       "       [1.1556269 ],\n",
       "       [1.1581208 ],\n",
       "       [1.161339  ],\n",
       "       [1.1653944 ],\n",
       "       [1.1704922 ],\n",
       "       [1.176144  ],\n",
       "       [1.1825845 ],\n",
       "       [1.1903512 ],\n",
       "       [1.1982198 ],\n",
       "       [1.2059003 ],\n",
       "       [1.2135181 ],\n",
       "       [1.2217371 ],\n",
       "       [1.2237573 ],\n",
       "       [1.2195737 ],\n",
       "       [1.2104517 ],\n",
       "       [1.1990808 ],\n",
       "       [1.1874397 ],\n",
       "       [1.1760381 ],\n",
       "       [1.1650488 ],\n",
       "       [1.154657  ],\n",
       "       [1.1452215 ],\n",
       "       [1.1356001 ],\n",
       "       [1.125221  ],\n",
       "       [1.1163929 ],\n",
       "       [1.1108543 ],\n",
       "       [1.1076657 ],\n",
       "       [1.1048625 ],\n",
       "       [1.1024022 ],\n",
       "       [1.1003529 ],\n",
       "       [1.0981411 ],\n",
       "       [1.0953302 ],\n",
       "       [1.0920625 ],\n",
       "       [1.0876759 ],\n",
       "       [1.0824921 ],\n",
       "       [1.0762379 ],\n",
       "       [1.0661318 ],\n",
       "       [1.0533018 ],\n",
       "       [1.0385948 ],\n",
       "       [1.0232055 ],\n",
       "       [1.0091897 ],\n",
       "       [0.99836457],\n",
       "       [0.99093777],\n",
       "       [0.98654103],\n",
       "       [0.9851683 ],\n",
       "       [0.98585814],\n",
       "       [0.9882029 ],\n",
       "       [0.9922512 ],\n",
       "       [0.9971272 ],\n",
       "       [1.002735  ],\n",
       "       [1.0092387 ],\n",
       "       [1.0154963 ],\n",
       "       [1.0191215 ],\n",
       "       [1.0195504 ],\n",
       "       [1.0171748 ]], dtype=float32)"
      ]
     },
     "execution_count": 41,
     "metadata": {},
     "output_type": "execute_result"
    }
   ],
   "source": [
    "normalized_prediction"
   ]
  },
  {
   "cell_type": "code",
   "execution_count": 42,
   "id": "d5c15db4",
   "metadata": {},
   "outputs": [
    {
     "data": {
      "text/plain": [
       "415"
      ]
     },
     "execution_count": 42,
     "metadata": {},
     "output_type": "execute_result"
    }
   ],
   "source": [
    "len(normalized_prediction)"
   ]
  },
  {
   "cell_type": "code",
   "execution_count": 43,
   "id": "3b8daba0",
   "metadata": {},
   "outputs": [],
   "source": [
    "# convert normalized predictions back to the true values\n",
    "prediction = scaler.inverse_transform(normalized_prediction)"
   ]
  },
  {
   "cell_type": "code",
   "execution_count": 45,
   "id": "ed85a0d9",
   "metadata": {},
   "outputs": [],
   "source": [
    "prediction_index = np.arange(1244, 1659, step=1)\n",
    "\n",
    "df_prediction = pd.DataFrame(data=prediction, index=prediction_index, columns=['Prediction'])"
   ]
  },
  {
   "cell_type": "code",
   "execution_count": 46,
   "id": "a9c75f02",
   "metadata": {},
   "outputs": [
    {
     "data": {
      "text/html": [
       "<div>\n",
       "<style scoped>\n",
       "    .dataframe tbody tr th:only-of-type {\n",
       "        vertical-align: middle;\n",
       "    }\n",
       "\n",
       "    .dataframe tbody tr th {\n",
       "        vertical-align: top;\n",
       "    }\n",
       "\n",
       "    .dataframe thead th {\n",
       "        text-align: right;\n",
       "    }\n",
       "</style>\n",
       "<table border=\"1\" class=\"dataframe\">\n",
       "  <thead>\n",
       "    <tr style=\"text-align: right;\">\n",
       "      <th></th>\n",
       "      <th>Prediction</th>\n",
       "    </tr>\n",
       "  </thead>\n",
       "  <tbody>\n",
       "    <tr>\n",
       "      <th>1244</th>\n",
       "      <td>945.379578</td>\n",
       "    </tr>\n",
       "    <tr>\n",
       "      <th>1245</th>\n",
       "      <td>949.950623</td>\n",
       "    </tr>\n",
       "    <tr>\n",
       "      <th>1246</th>\n",
       "      <td>954.723328</td>\n",
       "    </tr>\n",
       "    <tr>\n",
       "      <th>1247</th>\n",
       "      <td>959.056702</td>\n",
       "    </tr>\n",
       "    <tr>\n",
       "      <th>1248</th>\n",
       "      <td>962.972595</td>\n",
       "    </tr>\n",
       "    <tr>\n",
       "      <th>...</th>\n",
       "      <td>...</td>\n",
       "    </tr>\n",
       "    <tr>\n",
       "      <th>1654</th>\n",
       "      <td>1030.436279</td>\n",
       "    </tr>\n",
       "    <tr>\n",
       "      <th>1655</th>\n",
       "      <td>1033.779663</td>\n",
       "    </tr>\n",
       "    <tr>\n",
       "      <th>1656</th>\n",
       "      <td>1035.716675</td>\n",
       "    </tr>\n",
       "    <tr>\n",
       "      <th>1657</th>\n",
       "      <td>1035.945801</td>\n",
       "    </tr>\n",
       "    <tr>\n",
       "      <th>1658</th>\n",
       "      <td>1034.676514</td>\n",
       "    </tr>\n",
       "  </tbody>\n",
       "</table>\n",
       "<p>415 rows × 1 columns</p>\n",
       "</div>"
      ],
      "text/plain": [
       "       Prediction\n",
       "1244   945.379578\n",
       "1245   949.950623\n",
       "1246   954.723328\n",
       "1247   959.056702\n",
       "1248   962.972595\n",
       "...           ...\n",
       "1654  1030.436279\n",
       "1655  1033.779663\n",
       "1656  1035.716675\n",
       "1657  1035.945801\n",
       "1658  1034.676514\n",
       "\n",
       "[415 rows x 1 columns]"
      ]
     },
     "execution_count": 46,
     "metadata": {},
     "output_type": "execute_result"
    }
   ],
   "source": [
    "df_prediction"
   ]
  },
  {
   "cell_type": "markdown",
   "id": "821a62e1",
   "metadata": {},
   "source": [
    "### Visualize Prediction"
   ]
  },
  {
   "cell_type": "code",
   "execution_count": 47,
   "id": "1be0fb16",
   "metadata": {},
   "outputs": [
    {
     "data": {
      "text/plain": [
       "<AxesSubplot:>"
      ]
     },
     "execution_count": 47,
     "metadata": {},
     "output_type": "execute_result"
    },
    {
     "data": {
      "image/png": "[encoded data removed]",
      "text/plain": [
       "<Figure size 576x864 with 1 Axes>"
      ]
     },
     "metadata": {
      "needs_background": "light"
     },
     "output_type": "display_data"
    }
   ],
   "source": [
    "ax = data_train.plot()\n",
    "df_prediction.plot(ax=ax, figsize=(8, 12))"
   ]
  },
  {
   "cell_type": "code",
   "execution_count": 48,
   "id": "8fbd21bc",
   "metadata": {},
   "outputs": [
    {
     "data": {
      "text/plain": [
       "<AxesSubplot:>"
      ]
     },
     "execution_count": 48,
     "metadata": {},
     "output_type": "execute_result"
    },
    {
     "data": {
      "image/png": "[encoded data removed]",
      "text/plain": [
       "<Figure size 576x864 with 1 Axes>"
      ]
     },
     "metadata": {
      "needs_background": "light"
     },
     "output_type": "display_data"
    }
   ],
   "source": [
    "ax = df.plot()\n",
    "df_prediction.plot(ax=ax, figsize=(8, 12))"
   ]
  },
  {
   "cell_type": "code",
   "execution_count": 49,
   "id": "73c89118",
   "metadata": {},
   "outputs": [],
   "source": [
    "#Still use Minmax Scaler to normalize the full input dataset\n",
    "\n",
    "full_scaler = MinMaxScaler()\n",
    "normalized_full_data = full_scaler.fit_transform(df)"
   ]
  },
  {
   "cell_type": "code",
   "execution_count": 50,
   "id": "24e2fbae",
   "metadata": {},
   "outputs": [
    {
     "data": {
      "text/plain": [
       "50"
      ]
     },
     "execution_count": 50,
     "metadata": {},
     "output_type": "execute_result"
    }
   ],
   "source": [
    "# Number of time steps of the input time series\n",
    "# still use length60:\n",
    "length60"
   ]
  },
  {
   "cell_type": "code",
   "execution_count": 54,
   "id": "539556ea",
   "metadata": {},
   "outputs": [],
   "source": [
    "# create timeseries Generator for forecasting\n",
    "forecast_tsGenerator = TimeseriesGenerator(normalized_full_data, normalized_full_data, length=length60, batch_size=batch_size30)\n"
   ]
  },
  {
   "cell_type": "code",
   "execution_count": 55,
   "id": "11fccd99",
   "metadata": {},
   "outputs": [
    {
     "name": "stdout",
     "output_type": "stream",
     "text": [
      "Epoch 1/30\n",
      "45/45 [==============================] - 15s 332ms/step - loss: 0.0018\n",
      "Epoch 2/30\n",
      "45/45 [==============================] - 15s 332ms/step - loss: 0.0022\n",
      "Epoch 3/30\n",
      "45/45 [==============================] - 15s 331ms/step - loss: 0.0016\n",
      "Epoch 4/30\n",
      "45/45 [==============================] - 15s 327ms/step - loss: 0.0018\n",
      "Epoch 5/30\n",
      "45/45 [==============================] - 15s 325ms/step - loss: 0.0018\n",
      "Epoch 6/30\n",
      "45/45 [==============================] - 15s 327ms/step - loss: 0.0019\n",
      "Epoch 7/30\n",
      "45/45 [==============================] - 15s 327ms/step - loss: 0.0017\n",
      "Epoch 8/30\n",
      "45/45 [==============================] - 15s 324ms/step - loss: 0.0023\n",
      "Epoch 9/30\n",
      "45/45 [==============================] - 15s 327ms/step - loss: 0.0014\n",
      "Epoch 10/30\n",
      "45/45 [==============================] - 15s 326ms/step - loss: 0.0015\n",
      "Epoch 11/30\n",
      "45/45 [==============================] - 15s 323ms/step - loss: 0.0018\n",
      "Epoch 12/30\n",
      "45/45 [==============================] - 15s 328ms/step - loss: 0.0017\n",
      "Epoch 13/30\n",
      "45/45 [==============================] - 15s 324ms/step - loss: 0.0017\n",
      "Epoch 14/30\n",
      "45/45 [==============================] - 14s 319ms/step - loss: 0.0016\n",
      "Epoch 15/30\n",
      "45/45 [==============================] - 14s 320ms/step - loss: 0.0014\n",
      "Epoch 16/30\n",
      "45/45 [==============================] - 14s 318ms/step - loss: 0.0014\n",
      "Epoch 17/30\n",
      "45/45 [==============================] - 14s 317ms/step - loss: 0.0015\n",
      "Epoch 18/30\n",
      "45/45 [==============================] - 14s 322ms/step - loss: 0.0013\n",
      "Epoch 19/30\n",
      "45/45 [==============================] - 15s 322ms/step - loss: 0.0019\n",
      "Epoch 20/30\n",
      "45/45 [==============================] - 15s 322ms/step - loss: 0.0015\n",
      "Epoch 21/30\n",
      "45/45 [==============================] - 15s 335ms/step - loss: 0.0015\n",
      "Epoch 22/30\n",
      "45/45 [==============================] - 14s 319ms/step - loss: 0.0018\n",
      "Epoch 23/30\n",
      "45/45 [==============================] - 14s 320ms/step - loss: 0.0017\n",
      "Epoch 24/30\n",
      "45/45 [==============================] - 14s 317ms/step - loss: 0.0015\n",
      "Epoch 25/30\n",
      "45/45 [==============================] - 14s 321ms/step - loss: 0.0016\n",
      "Epoch 26/30\n",
      "45/45 [==============================] - 15s 323ms/step - loss: 0.0022\n",
      "Epoch 27/30\n",
      "45/45 [==============================] - 15s 335ms/step - loss: 0.0024\n",
      "Epoch 28/30\n",
      "45/45 [==============================] - 14s 319ms/step - loss: 0.0015\n",
      "Epoch 29/30\n",
      "45/45 [==============================] - 15s 325ms/step - loss: 0.0013\n",
      "Epoch 30/30\n",
      "45/45 [==============================] - 15s 327ms/step - loss: 0.0017\n"
     ]
    },
    {
     "data": {
      "text/plain": [
       "<tensorflow.python.keras.callbacks.History at 0x7fc964b05050>"
      ]
     },
     "execution_count": 55,
     "metadata": {},
     "output_type": "execute_result"
    }
   ],
   "source": [
    "# Train/Fit LSTM model\n",
    "# In forecasting, we don't validate, only FORECAST\n",
    "# So, not need EarlyStop: Not need validation_generator\n",
    "\n",
    "model.fit_generator(forecast_tsGenerator, epochs = 30)"
   ]
  },
  {
   "cell_type": "code",
   "execution_count": 56,
   "id": "6dc34d3c",
   "metadata": {},
   "outputs": [],
   "source": [
    "forecast = []\n",
    "# Set periods with the time span of forecasting\n",
    "# Let's forecast for the next 117 business days (07/01/2019 - 12/15/2019)\n",
    "periods = 117\n",
    "\n",
    "first_eval_batch = normalized_full_data[-length60:]\n",
    "current_batch = first_eval_batch.reshape((1, length60, n_features))\n",
    "\n",
    "for i in range(periods):\n",
    "    \n",
    "    # get prediction 1 time stamp ahead([0] is for grabbing just the number instead of [array])\n",
    "    current_pred = model.predict(current_batch)[0]\n",
    "    \n",
    "    # store prediction\n",
    "    forecast.append(current_pred)\n",
    "    \n",
    "    # update batch to now include prediction and drop first value\n",
    "    current_batch = np.append(current_batch[:,1:,:], [[current_pred]],axis=1)\n",
    "    \n"
   ]
  },
  {
   "cell_type": "code",
   "execution_count": 57,
   "id": "115b2ec5",
   "metadata": {},
   "outputs": [
    {
     "data": {
      "text/plain": [
       "array([[1072.80132298],\n",
       "       [1068.76570046],\n",
       "       [1064.88966488],\n",
       "       [1061.27451267],\n",
       "       [1057.95370865],\n",
       "       [1054.92217377],\n",
       "       [1052.15308869],\n",
       "       [1049.61441261],\n",
       "       [1047.27790213],\n",
       "       [1045.12746567],\n",
       "       [1043.13823006],\n",
       "       [1041.2780121 ],\n",
       "       [1039.52008737],\n",
       "       [1037.84314282],\n",
       "       [1036.22838115],\n",
       "       [1034.66047027],\n",
       "       [1033.12986913],\n",
       "       [1031.63016956],\n",
       "       [1030.15548555],\n",
       "       [1028.70026337],\n",
       "       [1027.26455048],\n",
       "       [1025.84782473],\n",
       "       [1024.44918423],\n",
       "       [1023.06725242],\n",
       "       [1021.70426029],\n",
       "       [1020.36239136],\n",
       "       [1019.03993678],\n",
       "       [1017.73642188],\n",
       "       [1016.45403017],\n",
       "       [1015.19361609],\n",
       "       [1013.95741061],\n",
       "       [1012.74717005],\n",
       "       [1011.55791029],\n",
       "       [1010.39243192],\n",
       "       [1009.24878877],\n",
       "       [1008.12607894],\n",
       "       [1007.02453979],\n",
       "       [1005.94436116],\n",
       "       [1004.88502093],\n",
       "       [1003.8456172 ],\n",
       "       [1002.82610251],\n",
       "       [1001.8246256 ],\n",
       "       [1000.84042699],\n",
       "       [ 999.87379149],\n",
       "       [ 998.92376974],\n",
       "       [ 997.98964972],\n",
       "       [ 997.07228586],\n",
       "       [ 996.17196296],\n",
       "       [ 995.28697218],\n",
       "       [ 994.4167439 ],\n",
       "       [ 993.56066104],\n",
       "       [ 992.71896095],\n",
       "       [ 991.89112147],\n",
       "       [ 991.0767154 ],\n",
       "       [ 990.27550539],\n",
       "       [ 989.4871117 ],\n",
       "       [ 988.7111546 ],\n",
       "       [ 987.9474442 ],\n",
       "       [ 987.19560076],\n",
       "       [ 986.45529202],\n",
       "       [ 985.72637556],\n",
       "       [ 985.00847165],\n",
       "       [ 984.30143787],\n",
       "       [ 983.60494196],\n",
       "       [ 982.91874658],\n",
       "       [ 982.24270932],\n",
       "       [ 981.57645043],\n",
       "       [ 980.91992246],\n",
       "       [ 980.27279313],\n",
       "       [ 979.63496749],\n",
       "       [ 979.00620822],\n",
       "       [ 978.3862305 ],\n",
       "       [ 977.7749394 ],\n",
       "       [ 977.17219251],\n",
       "       [ 976.57770504],\n",
       "       [ 975.99138203],\n",
       "       [ 975.41303362],\n",
       "       [ 974.84256488],\n",
       "       [ 974.279691  ],\n",
       "       [ 973.72431704],\n",
       "       [ 973.17630059],\n",
       "       [ 972.63549926],\n",
       "       [ 972.10177065],\n",
       "       [ 971.57492487],\n",
       "       [ 971.05491446],\n",
       "       [ 970.54154956],\n",
       "       [ 970.03468775],\n",
       "       [ 969.5342341 ],\n",
       "       [ 969.04009368],\n",
       "       [ 968.55207661],\n",
       "       [ 968.07013543],\n",
       "       [ 967.59408026],\n",
       "       [ 967.12391111],\n",
       "       [ 966.65939063],\n",
       "       [ 966.20056629],\n",
       "       [ 965.74715329],\n",
       "       [ 965.29915163],\n",
       "       [ 964.85651384],\n",
       "       [ 964.41909751],\n",
       "       [ 963.98680771],\n",
       "       [ 963.55945456],\n",
       "       [ 963.13708555],\n",
       "       [ 962.71955825],\n",
       "       [ 962.30687267],\n",
       "       [ 961.89883895],\n",
       "       [ 961.49536214],\n",
       "       [ 961.09644224],\n",
       "       [ 960.70198433],\n",
       "       [ 960.31189345],\n",
       "       [ 959.92612216],\n",
       "       [ 959.5445755 ],\n",
       "       [ 959.16720601],\n",
       "       [ 958.79387129],\n",
       "       [ 958.42457134],\n",
       "       [ 958.05930616],\n",
       "       [ 957.69783841],\n",
       "       [ 957.34021555]])"
      ]
     },
     "execution_count": 57,
     "metadata": {},
     "output_type": "execute_result"
    }
   ],
   "source": [
    "forecast = full_scaler.inverse_transform(forecast)\n",
    "\n",
    "forecast"
   ]
  },
  {
   "cell_type": "code",
   "execution_count": 58,
   "id": "80f904e0",
   "metadata": {},
   "outputs": [
    {
     "data": {
      "text/html": [
       "<div>\n",
       "<style scoped>\n",
       "    .dataframe tbody tr th:only-of-type {\n",
       "        vertical-align: middle;\n",
       "    }\n",
       "\n",
       "    .dataframe tbody tr th {\n",
       "        vertical-align: top;\n",
       "    }\n",
       "\n",
       "    .dataframe thead th {\n",
       "        text-align: right;\n",
       "    }\n",
       "</style>\n",
       "<table border=\"1\" class=\"dataframe\">\n",
       "  <thead>\n",
       "    <tr style=\"text-align: right;\">\n",
       "      <th></th>\n",
       "      <th>Close</th>\n",
       "    </tr>\n",
       "  </thead>\n",
       "  <tbody>\n",
       "    <tr>\n",
       "      <th>0</th>\n",
       "      <td>554.481689</td>\n",
       "    </tr>\n",
       "    <tr>\n",
       "      <th>1</th>\n",
       "      <td>550.436829</td>\n",
       "    </tr>\n",
       "    <tr>\n",
       "      <th>2</th>\n",
       "      <td>556.573853</td>\n",
       "    </tr>\n",
       "    <tr>\n",
       "      <th>3</th>\n",
       "      <td>567.303589</td>\n",
       "    </tr>\n",
       "    <tr>\n",
       "      <th>4</th>\n",
       "      <td>568.484192</td>\n",
       "    </tr>\n",
       "    <tr>\n",
       "      <th>...</th>\n",
       "      <td>...</td>\n",
       "    </tr>\n",
       "    <tr>\n",
       "      <th>1377</th>\n",
       "      <td>1115.520020</td>\n",
       "    </tr>\n",
       "    <tr>\n",
       "      <th>1378</th>\n",
       "      <td>1086.349976</td>\n",
       "    </tr>\n",
       "    <tr>\n",
       "      <th>1379</th>\n",
       "      <td>1079.800049</td>\n",
       "    </tr>\n",
       "    <tr>\n",
       "      <th>1380</th>\n",
       "      <td>1076.010010</td>\n",
       "    </tr>\n",
       "    <tr>\n",
       "      <th>1381</th>\n",
       "      <td>1080.910034</td>\n",
       "    </tr>\n",
       "  </tbody>\n",
       "</table>\n",
       "<p>1382 rows × 1 columns</p>\n",
       "</div>"
      ],
      "text/plain": [
       "            Close\n",
       "0      554.481689\n",
       "1      550.436829\n",
       "2      556.573853\n",
       "3      567.303589\n",
       "4      568.484192\n",
       "...           ...\n",
       "1377  1115.520020\n",
       "1378  1086.349976\n",
       "1379  1079.800049\n",
       "1380  1076.010010\n",
       "1381  1080.910034\n",
       "\n",
       "[1382 rows x 1 columns]"
      ]
     },
     "execution_count": 58,
     "metadata": {},
     "output_type": "execute_result"
    }
   ],
   "source": [
    "df"
   ]
  },
  {
   "cell_type": "code",
   "execution_count": 59,
   "id": "e9f09128",
   "metadata": {},
   "outputs": [],
   "source": [
    "#calculate forecast index\n",
    "\n",
    "forecast_index = np.arange(1382,1499,step=1)"
   ]
  },
  {
   "cell_type": "code",
   "execution_count": 60,
   "id": "6ae988c0",
   "metadata": {},
   "outputs": [],
   "source": [
    "forecast_df=pd.DataFrame(data=forecast,index=forecast_index,columns=['Forecast'])"
   ]
  },
  {
   "cell_type": "code",
   "execution_count": 61,
   "id": "2938860b",
   "metadata": {},
   "outputs": [
    {
     "data": {
      "text/html": [
       "<div>\n",
       "<style scoped>\n",
       "    .dataframe tbody tr th:only-of-type {\n",
       "        vertical-align: middle;\n",
       "    }\n",
       "\n",
       "    .dataframe tbody tr th {\n",
       "        vertical-align: top;\n",
       "    }\n",
       "\n",
       "    .dataframe thead th {\n",
       "        text-align: right;\n",
       "    }\n",
       "</style>\n",
       "<table border=\"1\" class=\"dataframe\">\n",
       "  <thead>\n",
       "    <tr style=\"text-align: right;\">\n",
       "      <th></th>\n",
       "      <th>Forecast</th>\n",
       "    </tr>\n",
       "  </thead>\n",
       "  <tbody>\n",
       "    <tr>\n",
       "      <th>1382</th>\n",
       "      <td>1072.801323</td>\n",
       "    </tr>\n",
       "    <tr>\n",
       "      <th>1383</th>\n",
       "      <td>1068.765700</td>\n",
       "    </tr>\n",
       "    <tr>\n",
       "      <th>1384</th>\n",
       "      <td>1064.889665</td>\n",
       "    </tr>\n",
       "    <tr>\n",
       "      <th>1385</th>\n",
       "      <td>1061.274513</td>\n",
       "    </tr>\n",
       "    <tr>\n",
       "      <th>1386</th>\n",
       "      <td>1057.953709</td>\n",
       "    </tr>\n",
       "    <tr>\n",
       "      <th>...</th>\n",
       "      <td>...</td>\n",
       "    </tr>\n",
       "    <tr>\n",
       "      <th>1494</th>\n",
       "      <td>958.793871</td>\n",
       "    </tr>\n",
       "    <tr>\n",
       "      <th>1495</th>\n",
       "      <td>958.424571</td>\n",
       "    </tr>\n",
       "    <tr>\n",
       "      <th>1496</th>\n",
       "      <td>958.059306</td>\n",
       "    </tr>\n",
       "    <tr>\n",
       "      <th>1497</th>\n",
       "      <td>957.697838</td>\n",
       "    </tr>\n",
       "    <tr>\n",
       "      <th>1498</th>\n",
       "      <td>957.340216</td>\n",
       "    </tr>\n",
       "  </tbody>\n",
       "</table>\n",
       "<p>117 rows × 1 columns</p>\n",
       "</div>"
      ],
      "text/plain": [
       "         Forecast\n",
       "1382  1072.801323\n",
       "1383  1068.765700\n",
       "1384  1064.889665\n",
       "1385  1061.274513\n",
       "1386  1057.953709\n",
       "...           ...\n",
       "1494   958.793871\n",
       "1495   958.424571\n",
       "1496   958.059306\n",
       "1497   957.697838\n",
       "1498   957.340216\n",
       "\n",
       "[117 rows x 1 columns]"
      ]
     },
     "execution_count": 61,
     "metadata": {},
     "output_type": "execute_result"
    }
   ],
   "source": [
    "forecast_df"
   ]
  },
  {
   "cell_type": "code",
   "execution_count": 62,
   "id": "e6d8abcc",
   "metadata": {},
   "outputs": [
    {
     "data": {
      "text/plain": [
       "<AxesSubplot:>"
      ]
     },
     "execution_count": 62,
     "metadata": {},
     "output_type": "execute_result"
    },
    {
     "data": {
      "image/png": "[encoded data removed]",
      "text/plain": [
       "<Figure size 432x288 with 1 Axes>"
      ]
     },
     "metadata": {
      "needs_background": "light"
     },
     "output_type": "display_data"
    },
    {
     "data": {
      "image/png": "[encoded data removed]",
      "text/plain": [
       "<Figure size 432x288 with 1 Axes>"
      ]
     },
     "metadata": {
      "needs_background": "light"
     },
     "output_type": "display_data"
    }
   ],
   "source": [
    "df.plot()\n",
    "forecast_df.plot()"
   ]
  },
  {
   "cell_type": "code",
   "execution_count": 63,
   "id": "70956ab8",
   "metadata": {},
   "outputs": [
    {
     "data": {
      "text/plain": [
       "<AxesSubplot:>"
      ]
     },
     "execution_count": 63,
     "metadata": {},
     "output_type": "execute_result"
    },
    {
     "data": {
      "image/png": "[encoded data removed]",
      "text/plain": [
       "<Figure size 864x576 with 1 Axes>"
      ]
     },
     "metadata": {
      "needs_background": "light"
     },
     "output_type": "display_data"
    }
   ],
   "source": [
    "ax=df.plot()\n",
    "forecast_df.plot(ax=ax, figsize=(12,8))"
   ]
  },
  {
   "cell_type": "code",
   "execution_count": 64,
   "id": "5734ed5d",
   "metadata": {},
   "outputs": [],
   "source": [
    "df_ALL_JUL_DEC_2019 = pd.read_csv('DATA/GOOG_20190701_20191215.csv')"
   ]
  },
  {
   "cell_type": "code",
   "execution_count": 65,
   "id": "64701f5b",
   "metadata": {},
   "outputs": [
    {
     "data": {
      "text/html": [
       "<div>\n",
       "<style scoped>\n",
       "    .dataframe tbody tr th:only-of-type {\n",
       "        vertical-align: middle;\n",
       "    }\n",
       "\n",
       "    .dataframe tbody tr th {\n",
       "        vertical-align: top;\n",
       "    }\n",
       "\n",
       "    .dataframe thead th {\n",
       "        text-align: right;\n",
       "    }\n",
       "</style>\n",
       "<table border=\"1\" class=\"dataframe\">\n",
       "  <thead>\n",
       "    <tr style=\"text-align: right;\">\n",
       "      <th></th>\n",
       "      <th>Date</th>\n",
       "      <th>Open</th>\n",
       "      <th>High</th>\n",
       "      <th>Low</th>\n",
       "      <th>Close</th>\n",
       "      <th>Adj Close</th>\n",
       "      <th>Volume</th>\n",
       "    </tr>\n",
       "  </thead>\n",
       "  <tbody>\n",
       "    <tr>\n",
       "      <th>0</th>\n",
       "      <td>2019-07-01</td>\n",
       "      <td>1098.000000</td>\n",
       "      <td>1107.579956</td>\n",
       "      <td>1093.703003</td>\n",
       "      <td>1097.949951</td>\n",
       "      <td>1097.949951</td>\n",
       "      <td>1436300</td>\n",
       "    </tr>\n",
       "    <tr>\n",
       "      <th>1</th>\n",
       "      <td>2019-07-02</td>\n",
       "      <td>1102.239990</td>\n",
       "      <td>1111.770020</td>\n",
       "      <td>1098.170044</td>\n",
       "      <td>1111.250000</td>\n",
       "      <td>1111.250000</td>\n",
       "      <td>991600</td>\n",
       "    </tr>\n",
       "    <tr>\n",
       "      <th>2</th>\n",
       "      <td>2019-07-03</td>\n",
       "      <td>1117.410034</td>\n",
       "      <td>1126.760010</td>\n",
       "      <td>1113.859985</td>\n",
       "      <td>1121.579956</td>\n",
       "      <td>1121.579956</td>\n",
       "      <td>767000</td>\n",
       "    </tr>\n",
       "    <tr>\n",
       "      <th>3</th>\n",
       "      <td>2019-07-05</td>\n",
       "      <td>1117.800049</td>\n",
       "      <td>1132.880005</td>\n",
       "      <td>1116.140015</td>\n",
       "      <td>1131.589966</td>\n",
       "      <td>1131.589966</td>\n",
       "      <td>1264300</td>\n",
       "    </tr>\n",
       "    <tr>\n",
       "      <th>4</th>\n",
       "      <td>2019-07-08</td>\n",
       "      <td>1125.170044</td>\n",
       "      <td>1125.979980</td>\n",
       "      <td>1111.209961</td>\n",
       "      <td>1116.349976</td>\n",
       "      <td>1116.349976</td>\n",
       "      <td>1236400</td>\n",
       "    </tr>\n",
       "  </tbody>\n",
       "</table>\n",
       "</div>"
      ],
      "text/plain": [
       "         Date         Open         High          Low        Close  \\\n",
       "0  2019-07-01  1098.000000  1107.579956  1093.703003  1097.949951   \n",
       "1  2019-07-02  1102.239990  1111.770020  1098.170044  1111.250000   \n",
       "2  2019-07-03  1117.410034  1126.760010  1113.859985  1121.579956   \n",
       "3  2019-07-05  1117.800049  1132.880005  1116.140015  1131.589966   \n",
       "4  2019-07-08  1125.170044  1125.979980  1111.209961  1116.349976   \n",
       "\n",
       "     Adj Close   Volume  \n",
       "0  1097.949951  1436300  \n",
       "1  1111.250000   991600  \n",
       "2  1121.579956   767000  \n",
       "3  1131.589966  1264300  \n",
       "4  1116.349976  1236400  "
      ]
     },
     "execution_count": 65,
     "metadata": {},
     "output_type": "execute_result"
    }
   ],
   "source": [
    "df_ALL_JUL_DEC_2019.head()"
   ]
  },
  {
   "cell_type": "code",
   "execution_count": 66,
   "id": "8c140a9f",
   "metadata": {},
   "outputs": [],
   "source": [
    "df_JUL_DEC_2019=df_ALL_JUL_DEC_2019.iloc[:,4:5]"
   ]
  },
  {
   "cell_type": "code",
   "execution_count": 67,
   "id": "5bdb589c",
   "metadata": {},
   "outputs": [
    {
     "data": {
      "text/html": [
       "<div>\n",
       "<style scoped>\n",
       "    .dataframe tbody tr th:only-of-type {\n",
       "        vertical-align: middle;\n",
       "    }\n",
       "\n",
       "    .dataframe tbody tr th {\n",
       "        vertical-align: top;\n",
       "    }\n",
       "\n",
       "    .dataframe thead th {\n",
       "        text-align: right;\n",
       "    }\n",
       "</style>\n",
       "<table border=\"1\" class=\"dataframe\">\n",
       "  <thead>\n",
       "    <tr style=\"text-align: right;\">\n",
       "      <th></th>\n",
       "      <th>Close</th>\n",
       "    </tr>\n",
       "  </thead>\n",
       "  <tbody>\n",
       "    <tr>\n",
       "      <th>0</th>\n",
       "      <td>1097.949951</td>\n",
       "    </tr>\n",
       "    <tr>\n",
       "      <th>1</th>\n",
       "      <td>1111.250000</td>\n",
       "    </tr>\n",
       "    <tr>\n",
       "      <th>2</th>\n",
       "      <td>1121.579956</td>\n",
       "    </tr>\n",
       "    <tr>\n",
       "      <th>3</th>\n",
       "      <td>1131.589966</td>\n",
       "    </tr>\n",
       "    <tr>\n",
       "      <th>4</th>\n",
       "      <td>1116.349976</td>\n",
       "    </tr>\n",
       "    <tr>\n",
       "      <th>...</th>\n",
       "      <td>...</td>\n",
       "    </tr>\n",
       "    <tr>\n",
       "      <th>112</th>\n",
       "      <td>1343.560059</td>\n",
       "    </tr>\n",
       "    <tr>\n",
       "      <th>113</th>\n",
       "      <td>1344.660034</td>\n",
       "    </tr>\n",
       "    <tr>\n",
       "      <th>114</th>\n",
       "      <td>1345.020020</td>\n",
       "    </tr>\n",
       "    <tr>\n",
       "      <th>115</th>\n",
       "      <td>1350.270020</td>\n",
       "    </tr>\n",
       "    <tr>\n",
       "      <th>116</th>\n",
       "      <td>1347.829956</td>\n",
       "    </tr>\n",
       "  </tbody>\n",
       "</table>\n",
       "<p>117 rows × 1 columns</p>\n",
       "</div>"
      ],
      "text/plain": [
       "           Close\n",
       "0    1097.949951\n",
       "1    1111.250000\n",
       "2    1121.579956\n",
       "3    1131.589966\n",
       "4    1116.349976\n",
       "..           ...\n",
       "112  1343.560059\n",
       "113  1344.660034\n",
       "114  1345.020020\n",
       "115  1350.270020\n",
       "116  1347.829956\n",
       "\n",
       "[117 rows x 1 columns]"
      ]
     },
     "execution_count": 67,
     "metadata": {},
     "output_type": "execute_result"
    }
   ],
   "source": [
    "df_JUL_DEC_2019"
   ]
  },
  {
   "cell_type": "code",
   "execution_count": 68,
   "id": "67b63f13",
   "metadata": {},
   "outputs": [
    {
     "data": {
      "text/plain": [
       "<AxesSubplot:>"
      ]
     },
     "execution_count": 68,
     "metadata": {},
     "output_type": "execute_result"
    },
    {
     "data": {
      "image/png": "[encoded data removed]",
      "text/plain": [
       "<Figure size 432x288 with 1 Axes>"
      ]
     },
     "metadata": {
      "needs_background": "light"
     },
     "output_type": "display_data"
    }
   ],
   "source": [
    "df_JUL_DEC_2019.plot()"
   ]
  },
  {
   "cell_type": "code",
   "execution_count": 69,
   "id": "788fc857",
   "metadata": {},
   "outputs": [
    {
     "data": {
      "text/plain": [
       "array([1072.80132298, 1068.76570046, 1064.88966488, 1061.27451267,\n",
       "       1057.95370865, 1054.92217377, 1052.15308869, 1049.61441261,\n",
       "       1047.27790213, 1045.12746567, 1043.13823006, 1041.2780121 ,\n",
       "       1039.52008737, 1037.84314282, 1036.22838115, 1034.66047027,\n",
       "       1033.12986913, 1031.63016956, 1030.15548555, 1028.70026337,\n",
       "       1027.26455048, 1025.84782473, 1024.44918423, 1023.06725242,\n",
       "       1021.70426029, 1020.36239136, 1019.03993678, 1017.73642188,\n",
       "       1016.45403017, 1015.19361609, 1013.95741061, 1012.74717005,\n",
       "       1011.55791029, 1010.39243192, 1009.24878877, 1008.12607894,\n",
       "       1007.02453979, 1005.94436116, 1004.88502093, 1003.8456172 ,\n",
       "       1002.82610251, 1001.8246256 , 1000.84042699,  999.87379149,\n",
       "        998.92376974,  997.98964972,  997.07228586,  996.17196296,\n",
       "        995.28697218,  994.4167439 ,  993.56066104,  992.71896095,\n",
       "        991.89112147,  991.0767154 ,  990.27550539,  989.4871117 ,\n",
       "        988.7111546 ,  987.9474442 ,  987.19560076,  986.45529202,\n",
       "        985.72637556,  985.00847165,  984.30143787,  983.60494196,\n",
       "        982.91874658,  982.24270932,  981.57645043,  980.91992246,\n",
       "        980.27279313,  979.63496749,  979.00620822,  978.3862305 ,\n",
       "        977.7749394 ,  977.17219251,  976.57770504,  975.99138203,\n",
       "        975.41303362,  974.84256488,  974.279691  ,  973.72431704,\n",
       "        973.17630059,  972.63549926,  972.10177065,  971.57492487,\n",
       "        971.05491446,  970.54154956,  970.03468775,  969.5342341 ,\n",
       "        969.04009368,  968.55207661,  968.07013543,  967.59408026,\n",
       "        967.12391111,  966.65939063,  966.20056629,  965.74715329,\n",
       "        965.29915163,  964.85651384,  964.41909751,  963.98680771,\n",
       "        963.55945456,  963.13708555,  962.71955825,  962.30687267,\n",
       "        961.89883895,  961.49536214,  961.09644224,  960.70198433,\n",
       "        960.31189345,  959.92612216,  959.5445755 ,  959.16720601,\n",
       "        958.79387129,  958.42457134,  958.05930616,  957.69783841,\n",
       "        957.34021555])"
      ]
     },
     "execution_count": 69,
     "metadata": {},
     "output_type": "execute_result"
    }
   ],
   "source": [
    "forecast_df['Forecast'].values"
   ]
  },
  {
   "cell_type": "code",
   "execution_count": 70,
   "id": "1a5a985d",
   "metadata": {},
   "outputs": [],
   "source": [
    "df_JUL_DEC_2019['Forecast'] = forecast_df['Forecast'].values"
   ]
  },
  {
   "cell_type": "code",
   "execution_count": 71,
   "id": "12e38bec",
   "metadata": {},
   "outputs": [
    {
     "data": {
      "text/html": [
       "<div>\n",
       "<style scoped>\n",
       "    .dataframe tbody tr th:only-of-type {\n",
       "        vertical-align: middle;\n",
       "    }\n",
       "\n",
       "    .dataframe tbody tr th {\n",
       "        vertical-align: top;\n",
       "    }\n",
       "\n",
       "    .dataframe thead th {\n",
       "        text-align: right;\n",
       "    }\n",
       "</style>\n",
       "<table border=\"1\" class=\"dataframe\">\n",
       "  <thead>\n",
       "    <tr style=\"text-align: right;\">\n",
       "      <th></th>\n",
       "      <th>Close</th>\n",
       "      <th>Forecast</th>\n",
       "    </tr>\n",
       "  </thead>\n",
       "  <tbody>\n",
       "    <tr>\n",
       "      <th>0</th>\n",
       "      <td>1097.949951</td>\n",
       "      <td>1072.801323</td>\n",
       "    </tr>\n",
       "    <tr>\n",
       "      <th>1</th>\n",
       "      <td>1111.250000</td>\n",
       "      <td>1068.765700</td>\n",
       "    </tr>\n",
       "    <tr>\n",
       "      <th>2</th>\n",
       "      <td>1121.579956</td>\n",
       "      <td>1064.889665</td>\n",
       "    </tr>\n",
       "    <tr>\n",
       "      <th>3</th>\n",
       "      <td>1131.589966</td>\n",
       "      <td>1061.274513</td>\n",
       "    </tr>\n",
       "    <tr>\n",
       "      <th>4</th>\n",
       "      <td>1116.349976</td>\n",
       "      <td>1057.953709</td>\n",
       "    </tr>\n",
       "    <tr>\n",
       "      <th>...</th>\n",
       "      <td>...</td>\n",
       "      <td>...</td>\n",
       "    </tr>\n",
       "    <tr>\n",
       "      <th>112</th>\n",
       "      <td>1343.560059</td>\n",
       "      <td>958.793871</td>\n",
       "    </tr>\n",
       "    <tr>\n",
       "      <th>113</th>\n",
       "      <td>1344.660034</td>\n",
       "      <td>958.424571</td>\n",
       "    </tr>\n",
       "    <tr>\n",
       "      <th>114</th>\n",
       "      <td>1345.020020</td>\n",
       "      <td>958.059306</td>\n",
       "    </tr>\n",
       "    <tr>\n",
       "      <th>115</th>\n",
       "      <td>1350.270020</td>\n",
       "      <td>957.697838</td>\n",
       "    </tr>\n",
       "    <tr>\n",
       "      <th>116</th>\n",
       "      <td>1347.829956</td>\n",
       "      <td>957.340216</td>\n",
       "    </tr>\n",
       "  </tbody>\n",
       "</table>\n",
       "<p>117 rows × 2 columns</p>\n",
       "</div>"
      ],
      "text/plain": [
       "           Close     Forecast\n",
       "0    1097.949951  1072.801323\n",
       "1    1111.250000  1068.765700\n",
       "2    1121.579956  1064.889665\n",
       "3    1131.589966  1061.274513\n",
       "4    1116.349976  1057.953709\n",
       "..           ...          ...\n",
       "112  1343.560059   958.793871\n",
       "113  1344.660034   958.424571\n",
       "114  1345.020020   958.059306\n",
       "115  1350.270020   957.697838\n",
       "116  1347.829956   957.340216\n",
       "\n",
       "[117 rows x 2 columns]"
      ]
     },
     "execution_count": 71,
     "metadata": {},
     "output_type": "execute_result"
    }
   ],
   "source": [
    "df_JUL_DEC_2019"
   ]
  },
  {
   "cell_type": "code",
   "execution_count": 72,
   "id": "131a0ba6",
   "metadata": {},
   "outputs": [
    {
     "data": {
      "text/plain": [
       "<AxesSubplot:>"
      ]
     },
     "execution_count": 72,
     "metadata": {},
     "output_type": "execute_result"
    },
    {
     "data": {
      "image/png": "[encoded data removed]",
      "text/plain": [
       "<Figure size 432x288 with 1 Axes>"
      ]
     },
     "metadata": {
      "needs_background": "light"
     },
     "output_type": "display_data"
    }
   ],
   "source": [
    "df_JUL_DEC_2019.plot()"
   ]
  },
  {
   "cell_type": "code",
   "execution_count": null,
   "id": "e3b1ea28",
   "metadata": {},
   "outputs": [],
   "source": []
  }
 ],
 "metadata": {
  "kernelspec": {
   "display_name": "Python 3 (ipykernel)",
   "language": "python",
   "name": "python3"
  },
  "language_info": {
   "codemirror_mode": {
    "name": "ipython",
    "version": 3
   },
   "file_extension": ".py",
   "mimetype": "text/x-python",
   "name": "python",
   "nbconvert_exporter": "python",
   "pygments_lexer": "ipython3",
   "version": "3.9.13"
  }
 },
 "nbformat": 4,
 "nbformat_minor": 5
}
